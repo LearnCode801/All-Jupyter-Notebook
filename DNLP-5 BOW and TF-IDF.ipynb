{
 "cells": [
  {
   "cell_type": "code",
   "execution_count": null,
   "id": "fbb68bb0",
   "metadata": {},
   "outputs": [],
   "source": [
    "# Bag of Word (BOW)"
   ]
  },
  {
   "cell_type": "code",
   "execution_count": 10,
   "id": "36931b86",
   "metadata": {},
   "outputs": [
    {
     "name": "stdout",
     "output_type": "stream",
     "text": [
      "['wellcom', 'to', 'great', 'experience', 'learning', ',', 'now', 'start', 'learning']\n",
      "['learning', 'is', 'a', 'good', 'practice']\n",
      "['wellcom', 'to', 'great', 'experience', 'learning', ',', 'now', 'start', 'is', 'a', 'good', 'practice']\n",
      "['wellcom', 'great', 'experience', 'learning', 'now', 'start', 'good', 'practice']\n",
      "[1, 1, 1, 2, 1, 1, 0, 0]\n",
      "[0, 0, 0, 1, 0, 0, 1, 1]\n"
     ]
    }
   ],
   "source": [
    "def vectorized(tokens,full_vocab):\n",
    "    vector=[]\n",
    "    for v in full_vocab:\n",
    "        vector.append(tokens.count(v))\n",
    "      \n",
    "    return vector\n",
    "\n",
    "\n",
    "def unique(sequence):\n",
    "#     seen = set()\n",
    "    uniq_list=[]\n",
    "    for i in sequence:\n",
    "        if i not in uniq_list:\n",
    "            uniq_list.append(i)\n",
    "           \n",
    "       \n",
    "    return uniq_list\n",
    "#     return [x for x in sequence if not (x in seen or seen.add(x))]\n",
    "\n",
    "stopwords=['to','is','a']\n",
    "special_char=[',' ,  '.'  ,   ':'  ,'?', ';']\n",
    "string1='Wellcom to great experience learning , Now start learning '\n",
    "string2='Learning is a good practice'\n",
    "\n",
    "string1=string1.lower()\n",
    "string2=string2.lower()\n",
    "\n",
    "tokens1=string1.split()\n",
    "tokens2=string2.split()\n",
    "print(tokens1)\n",
    "print(tokens2)\n",
    "\n",
    "vocab=unique(tokens1+tokens2)\n",
    "print(vocab)\n",
    "\n",
    "filtered_vocab=[]\n",
    "for w in vocab:\n",
    "    if w not in stopwords and w not in special_char:\n",
    "        filtered_vocab.append(w)\n",
    "\n",
    "print(filtered_vocab)    \n",
    "\n",
    "vector1=vectorized(tokens1, filtered_vocab)\n",
    "vector2=vectorized(tokens2, filtered_vocab)\n",
    "\n",
    "print(vector1)\n",
    "print(vector2)"
   ]
  },
  {
   "cell_type": "code",
   "execution_count": null,
   "id": "60808b54",
   "metadata": {},
   "outputs": [],
   "source": []
  },
  {
   "cell_type": "code",
   "execution_count": null,
   "id": "77f9b217",
   "metadata": {},
   "outputs": [],
   "source": [
    "# Term Frequency-Inserve Document Frequency"
   ]
  },
  {
   "cell_type": "code",
   "execution_count": 11,
   "id": "6218d155",
   "metadata": {},
   "outputs": [
    {
     "name": "stdout",
     "output_type": "stream",
     "text": [
      "Without Smoothing:\n",
      "       good       job      miss\n",
      "0  0.385372  0.652491  0.652491\n",
      "1  1.000000  0.000000  0.000000\n",
      "\n",
      "\n",
      "With Smoothing:\n",
      "       good       job      miss\n",
      "0  0.449436  0.631667  0.631667\n",
      "1  1.000000  0.000000  0.000000\n"
     ]
    },
    {
     "name": "stderr",
     "output_type": "stream",
     "text": [
      "E:\\Anaconda\\lib\\site-packages\\sklearn\\utils\\deprecation.py:87: FutureWarning: Function get_feature_names is deprecated; get_feature_names is deprecated in 1.0 and will be removed in 1.2. Please use get_feature_names_out instead.\n",
      "  warnings.warn(msg, category=FutureWarning)\n",
      "E:\\Anaconda\\lib\\site-packages\\sklearn\\utils\\deprecation.py:87: FutureWarning: Function get_feature_names is deprecated; get_feature_names is deprecated in 1.0 and will be removed in 1.2. Please use get_feature_names_out instead.\n",
      "  warnings.warn(msg, category=FutureWarning)\n"
     ]
    }
   ],
   "source": [
    "import pandas as pd\n",
    "from sklearn.feature_extraction.text import CountVectorizer, TfidfVectorizer\n",
    " \n",
    "sentence_1=\"This is a good job.I will not miss it for anything\"\n",
    "sentence_2=\"This is not good at all\"\n",
    " \n",
    " \n",
    " \n",
    "#without smooth IDF\n",
    "print(\"Without Smoothing:\")\n",
    "#define tf-idf\n",
    "tf_idf_vec = TfidfVectorizer(use_idf=True, \n",
    "                        smooth_idf=False,  \n",
    "                        ngram_range=(1,1),stop_words='english') # to use only  bigrams ngram_range=(2,2)\n",
    "#transform\n",
    "tf_idf_data = tf_idf_vec.fit_transform([sentence_1,sentence_2])\n",
    " \n",
    "#create dataframe\n",
    "tf_idf_dataframe=pd.DataFrame(tf_idf_data.toarray(),columns=tf_idf_vec.get_feature_names())\n",
    "print(tf_idf_dataframe)\n",
    "print(\"\\n\")\n",
    " \n",
    "#with smooth\n",
    "tf_idf_vec_smooth = TfidfVectorizer(use_idf=True,  \n",
    "                        smooth_idf=True,  \n",
    "                        ngram_range=(1,1),stop_words='english')\n",
    " \n",
    " \n",
    "\n",
    " \n",
    "tf_idf_data_smooth = tf_idf_vec_smooth.fit_transform([sentence_1,sentence_2])\n",
    " \n",
    "print(\"With Smoothing:\")\n",
    "tf_idf_dataframe_smooth=pd.DataFrame(tf_idf_data_smooth.toarray(),columns=tf_idf_vec_smooth.get_feature_names())\n",
    "print(tf_idf_dataframe_smooth)"
   ]
  },
  {
   "cell_type": "code",
   "execution_count": null,
   "id": "3419799b",
   "metadata": {},
   "outputs": [],
   "source": []
  }
 ],
 "metadata": {
  "kernelspec": {
   "display_name": "Python 3 (ipykernel)",
   "language": "python",
   "name": "python3"
  },
  "language_info": {
   "codemirror_mode": {
    "name": "ipython",
    "version": 3
   },
   "file_extension": ".py",
   "mimetype": "text/x-python",
   "name": "python",
   "nbconvert_exporter": "python",
   "pygments_lexer": "ipython3",
   "version": "3.9.13"
  }
 },
 "nbformat": 4,
 "nbformat_minor": 5
}

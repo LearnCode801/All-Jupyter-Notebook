{
 "cells": [
  {
   "cell_type": "code",
   "execution_count": 1,
   "id": "fb2f935e",
   "metadata": {},
   "outputs": [],
   "source": [
    "pg=\"\"\"The second vision, known as the connectionist approach, sought to achieve intelligence through learning. Proponents of this approach, most prominently Frank Rosenblatt, sought to connect Perceptron in ways inspired by connections of neurons.[22] James Manyika and others have compared the two approaches to the mind (Symbolic AI) and the brain (connectionist). Manyika argues that symbolic approaches dominated the push for artificial intelligence in this period, due in part to its connection to intellectual traditions of Descartes, Boole, Gottlob Frege, Bertrand Russell, and others. Connectionist approaches based on cybernetics or artificial neural networks were pushed to the background but have gained new prominence in recent decades.[23]\n",
    "\n",
    "The field of AI research was born at a workshop at Dartmouth College in 1956.[d][26] The attendees became the founders and leaders of AI research.[e] They and their students produced programs that the press described as \"astonishing\":[f] computers were learning checkers strategies, solving word problems in algebra, proving logical theorems and speaking English.[g][28]\n",
    "\n",
    "By the middle of the 1960s, research in the U.S. was heavily funded by the Department of Defense[29] and laboratories had been established around the world.[30]\n",
    "\n",
    "Researchers in the 1960s and the 1970s were convinced that symbolic approaches would eventually succeed in creating a machine with artificial general intelligence and considered this the goal of their field.[31] Herbert Simon predicted, \"machines will be capable, within twenty years, of doing any work a man can do\".[32] Marvin Minsky agreed, writing, \"within a generation ... the problem of creating 'artificial intelligence' will substantially be solved\".[33]\n",
    "\n",
    "They had failed to recognize the difficulty of some of the remaining tasks. Progress slowed and in 1974, in response to the criticism of Sir James Lighthill[34] and ongoing pressure from the US Congress to fund more productive projects, both the U.S. and British governments cut off exploratory research in AI. The next few years would later be called an \"AI winter\", a period when obtaining funding for AI projects was difficult.[6]\n",
    "\n",
    "In the early 1980s, AI research was revived by the commercial success of expert systems,[35] a form of AI program that simulated the knowledge and analytical skills of human experts. By 1985, the market for AI had reached over a billion dollars. At the same time, Japan's fifth generation computer project inspired the U.S. and British governments to restore funding for academic research.[5] However, beginning with the collapse of the Lisp Machine market in 1987, AI once again fell into disrepute, and a second, longer-lasting winter began.[7]\n",
    "\n",
    "\"\"\""
   ]
  },
  {
   "cell_type": "code",
   "execution_count": 2,
   "id": "e23ec828",
   "metadata": {},
   "outputs": [],
   "source": [
    "import nltk \n",
    "from nltk.stem import PorterStemmer\n",
    "from nltk.corpus import stopwords\n",
    "from nltk.stem import WordNetLemmatizer"
   ]
  },
  {
   "cell_type": "code",
   "execution_count": 3,
   "id": "ba039c8f",
   "metadata": {},
   "outputs": [
    {
     "name": "stderr",
     "output_type": "stream",
     "text": [
      "[nltk_data] Downloading package punkt to C:\\Users\\Muhammad Talha\n",
      "[nltk_data]     Awan\\AppData\\Roaming\\nltk_data...\n",
      "[nltk_data]   Package punkt is already up-to-date!\n"
     ]
    }
   ],
   "source": [
    "# tokenization \n",
    "nltk.download('punkt')\n",
    "sentences=nltk.sent_tokenize(pg)"
   ]
  },
  {
   "cell_type": "code",
   "execution_count": 4,
   "id": "7a7a9330",
   "metadata": {},
   "outputs": [
    {
     "data": {
      "text/plain": [
       "['The second vision, known as the connectionist approach, sought to achieve intelligence through learning.',\n",
       " 'Proponents of this approach, most prominently Frank Rosenblatt, sought to connect Perceptron in ways inspired by connections of neurons.',\n",
       " '[22] James Manyika and others have compared the two approaches to the mind (Symbolic AI) and the brain (connectionist).',\n",
       " 'Manyika argues that symbolic approaches dominated the push for artificial intelligence in this period, due in part to its connection to intellectual traditions of Descartes, Boole, Gottlob Frege, Bertrand Russell, and others.',\n",
       " 'Connectionist approaches based on cybernetics or artificial neural networks were pushed to the background but have gained new prominence in recent decades.',\n",
       " '[23]\\n\\nThe field of AI research was born at a workshop at Dartmouth College in 1956.',\n",
       " '[d][26] The attendees became the founders and leaders of AI research.',\n",
       " '[e] They and their students produced programs that the press described as \"astonishing\":[f] computers were learning checkers strategies, solving word problems in algebra, proving logical theorems and speaking English.',\n",
       " '[g][28]\\n\\nBy the middle of the 1960s, research in the U.S. was heavily funded by the Department of Defense[29] and laboratories had been established around the world.',\n",
       " '[30]\\n\\nResearchers in the 1960s and the 1970s were convinced that symbolic approaches would eventually succeed in creating a machine with artificial general intelligence and considered this the goal of their field.',\n",
       " '[31] Herbert Simon predicted, \"machines will be capable, within twenty years, of doing any work a man can do\".',\n",
       " '[32] Marvin Minsky agreed, writing, \"within a generation ... the problem of creating \\'artificial intelligence\\' will substantially be solved\".',\n",
       " '[33]\\n\\nThey had failed to recognize the difficulty of some of the remaining tasks.',\n",
       " 'Progress slowed and in 1974, in response to the criticism of Sir James Lighthill[34] and ongoing pressure from the US Congress to fund more productive projects, both the U.S. and British governments cut off exploratory research in AI.',\n",
       " 'The next few years would later be called an \"AI winter\", a period when obtaining funding for AI projects was difficult.',\n",
       " '[6]\\n\\nIn the early 1980s, AI research was revived by the commercial success of expert systems,[35] a form of AI program that simulated the knowledge and analytical skills of human experts.',\n",
       " 'By 1985, the market for AI had reached over a billion dollars.',\n",
       " \"At the same time, Japan's fifth generation computer project inspired the U.S. and British governments to restore funding for academic research.\",\n",
       " '[5] However, beginning with the collapse of the Lisp Machine market in 1987, AI once again fell into disrepute, and a second, longer-lasting winter began.',\n",
       " '[7]']"
      ]
     },
     "execution_count": 4,
     "metadata": {},
     "output_type": "execute_result"
    }
   ],
   "source": [
    "sentences"
   ]
  },
  {
   "cell_type": "code",
   "execution_count": 7,
   "id": "a6517b1a",
   "metadata": {},
   "outputs": [],
   "source": [
    "lemmatizer=WordNetLemmatizer()"
   ]
  },
  {
   "cell_type": "code",
   "execution_count": 8,
   "id": "4fa4b956",
   "metadata": {},
   "outputs": [],
   "source": [
    "# Regularlization and Limitizing the corpus\n",
    "\n",
    "import re\n",
    "corpus1=[]\n",
    "for i in range (len(sentences)):\n",
    "    review=re.sub('[^a-zA-Z]',' ',sentences[i])\n",
    "    review=review.lower()\n",
    "    review=review.split()\n",
    "    review=[lemmatizer.lemmatize(word) for word in review if not word in set(stopwords.words('english'))]\n",
    "    review=' '.join(review)\n",
    "    corpus1.append(review)"
   ]
  },
  {
   "cell_type": "code",
   "execution_count": 9,
   "id": "517779b7",
   "metadata": {},
   "outputs": [
    {
     "data": {
      "text/plain": [
       "['second vision known connectionist approach sought achieve intelligence learning',\n",
       " 'proponent approach prominently frank rosenblatt sought connect perceptron way inspired connection neuron',\n",
       " 'james manyika others compared two approach mind symbolic ai brain connectionist',\n",
       " 'manyika argues symbolic approach dominated push artificial intelligence period due part connection intellectual tradition descartes boole gottlob frege bertrand russell others',\n",
       " 'connectionist approach based cybernetics artificial neural network pushed background gained new prominence recent decade',\n",
       " 'field ai research born workshop dartmouth college',\n",
       " 'attendee became founder leader ai research',\n",
       " 'e student produced program press described astonishing f computer learning checker strategy solving word problem algebra proving logical theorem speaking english',\n",
       " 'g middle research u heavily funded department defense laboratory established around world',\n",
       " 'researcher convinced symbolic approach would eventually succeed creating machine artificial general intelligence considered goal field',\n",
       " 'herbert simon predicted machine capable within twenty year work man',\n",
       " 'marvin minsky agreed writing within generation problem creating artificial intelligence substantially solved',\n",
       " 'failed recognize difficulty remaining task',\n",
       " 'progress slowed response criticism sir james lighthill ongoing pressure u congress fund productive project u british government cut exploratory research ai',\n",
       " 'next year would later called ai winter period obtaining funding ai project difficult',\n",
       " 'early ai research revived commercial success expert system form ai program simulated knowledge analytical skill human expert',\n",
       " 'market ai reached billion dollar',\n",
       " 'time japan fifth generation computer project inspired u british government restore funding academic research',\n",
       " 'however beginning collapse lisp machine market ai fell disrepute second longer lasting winter began',\n",
       " '']"
      ]
     },
     "execution_count": 9,
     "metadata": {},
     "output_type": "execute_result"
    }
   ],
   "source": [
    "corpus1"
   ]
  },
  {
   "cell_type": "code",
   "execution_count": 10,
   "id": "9e2d0d78",
   "metadata": {},
   "outputs": [
    {
     "data": {
      "text/plain": [
       "{'second': 134,\n",
       " 'vision': 154,\n",
       " 'known': 82,\n",
       " 'connectionist': 32,\n",
       " 'approach': 6,\n",
       " 'sought': 142,\n",
       " 'achieve': 1,\n",
       " 'intelligence': 78,\n",
       " 'learning': 87,\n",
       " 'proponent': 119,\n",
       " 'prominently': 118,\n",
       " 'frank': 62,\n",
       " 'rosenblatt': 132,\n",
       " 'connect': 30,\n",
       " 'perceptron': 106,\n",
       " 'way': 155,\n",
       " 'inspired': 76,\n",
       " 'connection': 31,\n",
       " 'neuron': 102,\n",
       " 'james': 79,\n",
       " 'manyika': 94,\n",
       " 'compared': 27,\n",
       " 'mind': 98,\n",
       " 'symbolic': 149,\n",
       " 'ai': 3,\n",
       " 'brain': 19,\n",
       " 'argues': 7,\n",
       " 'dominated': 49,\n",
       " 'push': 121,\n",
       " 'artificial': 8,\n",
       " 'period': 107,\n",
       " 'intellectual': 77,\n",
       " 'tradition': 153,\n",
       " 'descartes': 43,\n",
       " 'boole': 17,\n",
       " 'gottlob': 71,\n",
       " 'frege': 63,\n",
       " 'bertrand': 15,\n",
       " 'russell': 133,\n",
       " 'based': 12,\n",
       " 'cybernetics': 38,\n",
       " 'neural': 101,\n",
       " 'network': 100,\n",
       " 'pushed': 122,\n",
       " 'background': 11,\n",
       " 'gained': 67,\n",
       " 'new': 103,\n",
       " 'prominence': 117,\n",
       " 'recent': 124,\n",
       " 'decade': 40,\n",
       " 'field': 58,\n",
       " 'research': 127,\n",
       " 'born': 18,\n",
       " 'workshop': 159,\n",
       " 'dartmouth': 39,\n",
       " 'college': 25,\n",
       " 'attendee': 10,\n",
       " 'founder': 61,\n",
       " 'leader': 86,\n",
       " 'student': 145,\n",
       " 'produced': 112,\n",
       " 'program': 114,\n",
       " 'press': 109,\n",
       " 'described': 44,\n",
       " 'astonishing': 9,\n",
       " 'computer': 28,\n",
       " 'checker': 23,\n",
       " 'strategy': 144,\n",
       " 'solving': 141,\n",
       " 'word': 157,\n",
       " 'problem': 111,\n",
       " 'algebra': 4,\n",
       " 'proving': 120,\n",
       " 'logical': 90,\n",
       " 'theorem': 151,\n",
       " 'speaking': 143,\n",
       " 'english': 51,\n",
       " 'middle': 97,\n",
       " 'heavily': 73,\n",
       " 'funded': 65,\n",
       " 'department': 42,\n",
       " 'defense': 41,\n",
       " 'laboratory': 83,\n",
       " 'established': 52,\n",
       " 'world': 160,\n",
       " 'researcher': 128,\n",
       " 'convinced': 34,\n",
       " 'eventually': 53,\n",
       " 'succeed': 147,\n",
       " 'creating': 35,\n",
       " 'machine': 92,\n",
       " 'general': 68,\n",
       " 'considered': 33,\n",
       " 'goal': 70,\n",
       " 'herbert': 74,\n",
       " 'simon': 135,\n",
       " 'predicted': 108,\n",
       " 'capable': 22,\n",
       " 'year': 162,\n",
       " 'work': 158,\n",
       " 'man': 93,\n",
       " 'marvin': 96,\n",
       " 'minsky': 99,\n",
       " 'agreed': 2,\n",
       " 'writing': 161,\n",
       " 'generation': 69,\n",
       " 'substantially': 146,\n",
       " 'solved': 140,\n",
       " 'failed': 56,\n",
       " 'recognize': 125,\n",
       " 'difficulty': 46,\n",
       " 'remaining': 126,\n",
       " 'task': 150,\n",
       " 'progress': 115,\n",
       " 'slowed': 139,\n",
       " 'response': 129,\n",
       " 'criticism': 36,\n",
       " 'sir': 137,\n",
       " 'lighthill': 88,\n",
       " 'ongoing': 105,\n",
       " 'pressure': 110,\n",
       " 'congress': 29,\n",
       " 'fund': 64,\n",
       " 'productive': 113,\n",
       " 'project': 116,\n",
       " 'british': 20,\n",
       " 'government': 72,\n",
       " 'cut': 37,\n",
       " 'exploratory': 55,\n",
       " 'later': 85,\n",
       " 'called': 21,\n",
       " 'winter': 156,\n",
       " 'obtaining': 104,\n",
       " 'funding': 66,\n",
       " 'difficult': 45,\n",
       " 'early': 50,\n",
       " 'revived': 131,\n",
       " 'commercial': 26,\n",
       " 'success': 148,\n",
       " 'expert': 54,\n",
       " 'form': 60,\n",
       " 'simulated': 136,\n",
       " 'knowledge': 81,\n",
       " 'analytical': 5,\n",
       " 'skill': 138,\n",
       " 'human': 75,\n",
       " 'market': 95,\n",
       " 'reached': 123,\n",
       " 'billion': 16,\n",
       " 'dollar': 48,\n",
       " 'time': 152,\n",
       " 'japan': 80,\n",
       " 'fifth': 59,\n",
       " 'restore': 130,\n",
       " 'academic': 0,\n",
       " 'beginning': 14,\n",
       " 'collapse': 24,\n",
       " 'lisp': 89,\n",
       " 'fell': 57,\n",
       " 'disrepute': 47,\n",
       " 'longer': 91,\n",
       " 'lasting': 84,\n",
       " 'began': 13}"
      ]
     },
     "execution_count": 10,
     "metadata": {},
     "output_type": "execute_result"
    }
   ],
   "source": [
    "from sklearn.feature_extraction.text import TfidfVectorizer\n",
    "\n",
    "tfidfvectorizer = TfidfVectorizer(analyzer='word',stop_words= 'english')\n",
    "\n",
    "x= tfidfvectorizer.fit_transform(corpus1)\n",
    "\n",
    "tfidfvectorizer.vocabulary_"
   ]
  },
  {
   "cell_type": "code",
   "execution_count": 19,
   "id": "284ed230",
   "metadata": {},
   "outputs": [
    {
     "data": {
      "text/plain": [
       "'however beginning collapse lisp machine market ai fell disrepute second longer lasting winter began'"
      ]
     },
     "execution_count": 19,
     "metadata": {},
     "output_type": "execute_result"
    }
   ],
   "source": [
    "corpus1[18]"
   ]
  },
  {
   "cell_type": "code",
   "execution_count": 24,
   "id": "3cebd4f0",
   "metadata": {},
   "outputs": [
    {
     "data": {
      "text/plain": [
       "array([[0.        , 0.        , 0.        , 0.16433085, 0.        ,\n",
       "        0.        , 0.        , 0.        , 0.        , 0.        ,\n",
       "        0.        , 0.        , 0.        , 0.29812969, 0.29812969,\n",
       "        0.        , 0.        , 0.        , 0.        , 0.        ,\n",
       "        0.        , 0.        , 0.        , 0.        , 0.29812969,\n",
       "        0.        , 0.        , 0.        , 0.        , 0.        ,\n",
       "        0.        , 0.        , 0.        , 0.        , 0.        ,\n",
       "        0.        , 0.        , 0.        , 0.        , 0.        ,\n",
       "        0.        , 0.        , 0.        , 0.        , 0.        ,\n",
       "        0.        , 0.        , 0.29812969, 0.        , 0.        ,\n",
       "        0.        , 0.        , 0.        , 0.        , 0.        ,\n",
       "        0.        , 0.        , 0.29812969, 0.        , 0.        ,\n",
       "        0.        , 0.        , 0.        , 0.        , 0.        ,\n",
       "        0.        , 0.        , 0.        , 0.        , 0.        ,\n",
       "        0.        , 0.        , 0.        , 0.        , 0.        ,\n",
       "        0.        , 0.        , 0.        , 0.        , 0.        ,\n",
       "        0.        , 0.        , 0.        , 0.        , 0.29812969,\n",
       "        0.        , 0.        , 0.        , 0.        , 0.29812969,\n",
       "        0.        , 0.29812969, 0.23646911, 0.        , 0.        ,\n",
       "        0.26206056, 0.        , 0.        , 0.        , 0.        ,\n",
       "        0.        , 0.        , 0.        , 0.        , 0.        ,\n",
       "        0.        , 0.        , 0.        , 0.        , 0.        ,\n",
       "        0.        , 0.        , 0.        , 0.        , 0.        ,\n",
       "        0.        , 0.        , 0.        , 0.        , 0.        ,\n",
       "        0.        , 0.        , 0.        , 0.        , 0.        ,\n",
       "        0.        , 0.        , 0.        , 0.        , 0.        ,\n",
       "        0.        , 0.        , 0.        , 0.        , 0.26206056,\n",
       "        0.        , 0.        , 0.        , 0.        , 0.        ,\n",
       "        0.        , 0.        , 0.        , 0.        , 0.        ,\n",
       "        0.        , 0.        , 0.        , 0.        , 0.        ,\n",
       "        0.        , 0.        , 0.        , 0.        , 0.        ,\n",
       "        0.        , 0.26206056, 0.        , 0.        , 0.        ,\n",
       "        0.        , 0.        , 0.        ]])"
      ]
     },
     "execution_count": 24,
     "metadata": {},
     "output_type": "execute_result"
    }
   ],
   "source": [
    "x[18].toarray()"
   ]
  },
  {
   "cell_type": "code",
   "execution_count": null,
   "id": "72d50d70",
   "metadata": {},
   "outputs": [],
   "source": []
  },
  {
   "cell_type": "code",
   "execution_count": null,
   "id": "6fd43d57",
   "metadata": {},
   "outputs": [],
   "source": []
  }
 ],
 "metadata": {
  "kernelspec": {
   "display_name": "Python 3 (ipykernel)",
   "language": "python",
   "name": "python3"
  },
  "language_info": {
   "codemirror_mode": {
    "name": "ipython",
    "version": 3
   },
   "file_extension": ".py",
   "mimetype": "text/x-python",
   "name": "python",
   "nbconvert_exporter": "python",
   "pygments_lexer": "ipython3",
   "version": "3.9.13"
  }
 },
 "nbformat": 4,
 "nbformat_minor": 5
}

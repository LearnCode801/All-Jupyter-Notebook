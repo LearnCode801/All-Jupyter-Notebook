{
 "cells": [
  {
   "cell_type": "code",
   "execution_count": 93,
   "id": "2a43006c",
   "metadata": {},
   "outputs": [],
   "source": [
    "from pyforest import *"
   ]
  },
  {
   "cell_type": "code",
   "execution_count": 94,
   "id": "9dd9037c",
   "metadata": {},
   "outputs": [
    {
     "data": {
      "application/javascript": [
       "\n",
       "        if (window._pyforest_update_imports_cell) { window._pyforest_update_imports_cell('import seaborn as sns\\nimport pandas as pd\\nimport numpy as np\\nimport matplotlib.pyplot as plt'); }\n",
       "    "
      ],
      "text/plain": [
       "<IPython.core.display.Javascript object>"
      ]
     },
     "metadata": {},
     "output_type": "display_data"
    }
   ],
   "source": [
    "df=pd.read_csv(\"E:/Full Stack Data Scientist Bootcamp/datasets/kc_house_data.csv\")\n"
   ]
  },
  {
   "cell_type": "code",
   "execution_count": 95,
   "id": "ae3af8bd",
   "metadata": {},
   "outputs": [],
   "source": [
    "df.drop('id',inplace=True,axis=1)"
   ]
  },
  {
   "cell_type": "code",
   "execution_count": 96,
   "id": "53e2db6b",
   "metadata": {},
   "outputs": [
    {
     "data": {
      "text/html": [
       "<div>\n",
       "<style scoped>\n",
       "    .dataframe tbody tr th:only-of-type {\n",
       "        vertical-align: middle;\n",
       "    }\n",
       "\n",
       "    .dataframe tbody tr th {\n",
       "        vertical-align: top;\n",
       "    }\n",
       "\n",
       "    .dataframe thead th {\n",
       "        text-align: right;\n",
       "    }\n",
       "</style>\n",
       "<table border=\"1\" class=\"dataframe\">\n",
       "  <thead>\n",
       "    <tr style=\"text-align: right;\">\n",
       "      <th></th>\n",
       "      <th>date</th>\n",
       "      <th>price</th>\n",
       "      <th>bedrooms</th>\n",
       "      <th>bathrooms</th>\n",
       "      <th>sqft_living</th>\n",
       "      <th>sqft_lot</th>\n",
       "      <th>floors</th>\n",
       "      <th>waterfront</th>\n",
       "      <th>view</th>\n",
       "      <th>condition</th>\n",
       "      <th>grade</th>\n",
       "      <th>sqft_above</th>\n",
       "      <th>sqft_basement</th>\n",
       "      <th>yr_built</th>\n",
       "      <th>yr_renovated</th>\n",
       "      <th>zipcode</th>\n",
       "      <th>lat</th>\n",
       "      <th>long</th>\n",
       "      <th>sqft_living15</th>\n",
       "      <th>sqft_lot15</th>\n",
       "    </tr>\n",
       "  </thead>\n",
       "  <tbody>\n",
       "    <tr>\n",
       "      <th>0</th>\n",
       "      <td>20141013T000000</td>\n",
       "      <td>221900.0</td>\n",
       "      <td>3</td>\n",
       "      <td>1.00</td>\n",
       "      <td>1180</td>\n",
       "      <td>5650</td>\n",
       "      <td>1.0</td>\n",
       "      <td>0</td>\n",
       "      <td>0</td>\n",
       "      <td>3</td>\n",
       "      <td>7</td>\n",
       "      <td>1180.0</td>\n",
       "      <td>0</td>\n",
       "      <td>1955</td>\n",
       "      <td>0</td>\n",
       "      <td>98178</td>\n",
       "      <td>47.5112</td>\n",
       "      <td>-122.257</td>\n",
       "      <td>1340</td>\n",
       "      <td>5650</td>\n",
       "    </tr>\n",
       "    <tr>\n",
       "      <th>1</th>\n",
       "      <td>20141209T000000</td>\n",
       "      <td>538000.0</td>\n",
       "      <td>3</td>\n",
       "      <td>2.25</td>\n",
       "      <td>2570</td>\n",
       "      <td>7242</td>\n",
       "      <td>2.0</td>\n",
       "      <td>0</td>\n",
       "      <td>0</td>\n",
       "      <td>3</td>\n",
       "      <td>7</td>\n",
       "      <td>2170.0</td>\n",
       "      <td>400</td>\n",
       "      <td>1951</td>\n",
       "      <td>1991</td>\n",
       "      <td>98125</td>\n",
       "      <td>47.7210</td>\n",
       "      <td>-122.319</td>\n",
       "      <td>1690</td>\n",
       "      <td>7639</td>\n",
       "    </tr>\n",
       "    <tr>\n",
       "      <th>2</th>\n",
       "      <td>20150225T000000</td>\n",
       "      <td>180000.0</td>\n",
       "      <td>2</td>\n",
       "      <td>1.00</td>\n",
       "      <td>770</td>\n",
       "      <td>10000</td>\n",
       "      <td>1.0</td>\n",
       "      <td>0</td>\n",
       "      <td>0</td>\n",
       "      <td>3</td>\n",
       "      <td>6</td>\n",
       "      <td>770.0</td>\n",
       "      <td>0</td>\n",
       "      <td>1933</td>\n",
       "      <td>0</td>\n",
       "      <td>98028</td>\n",
       "      <td>47.7379</td>\n",
       "      <td>-122.233</td>\n",
       "      <td>2720</td>\n",
       "      <td>8062</td>\n",
       "    </tr>\n",
       "    <tr>\n",
       "      <th>3</th>\n",
       "      <td>20141209T000000</td>\n",
       "      <td>604000.0</td>\n",
       "      <td>4</td>\n",
       "      <td>3.00</td>\n",
       "      <td>1960</td>\n",
       "      <td>5000</td>\n",
       "      <td>1.0</td>\n",
       "      <td>0</td>\n",
       "      <td>0</td>\n",
       "      <td>5</td>\n",
       "      <td>7</td>\n",
       "      <td>1050.0</td>\n",
       "      <td>910</td>\n",
       "      <td>1965</td>\n",
       "      <td>0</td>\n",
       "      <td>98136</td>\n",
       "      <td>47.5208</td>\n",
       "      <td>-122.393</td>\n",
       "      <td>1360</td>\n",
       "      <td>5000</td>\n",
       "    </tr>\n",
       "    <tr>\n",
       "      <th>4</th>\n",
       "      <td>20150218T000000</td>\n",
       "      <td>510000.0</td>\n",
       "      <td>3</td>\n",
       "      <td>2.00</td>\n",
       "      <td>1680</td>\n",
       "      <td>8080</td>\n",
       "      <td>1.0</td>\n",
       "      <td>0</td>\n",
       "      <td>0</td>\n",
       "      <td>3</td>\n",
       "      <td>8</td>\n",
       "      <td>1680.0</td>\n",
       "      <td>0</td>\n",
       "      <td>1987</td>\n",
       "      <td>0</td>\n",
       "      <td>98074</td>\n",
       "      <td>47.6168</td>\n",
       "      <td>-122.045</td>\n",
       "      <td>1800</td>\n",
       "      <td>7503</td>\n",
       "    </tr>\n",
       "    <tr>\n",
       "      <th>...</th>\n",
       "      <td>...</td>\n",
       "      <td>...</td>\n",
       "      <td>...</td>\n",
       "      <td>...</td>\n",
       "      <td>...</td>\n",
       "      <td>...</td>\n",
       "      <td>...</td>\n",
       "      <td>...</td>\n",
       "      <td>...</td>\n",
       "      <td>...</td>\n",
       "      <td>...</td>\n",
       "      <td>...</td>\n",
       "      <td>...</td>\n",
       "      <td>...</td>\n",
       "      <td>...</td>\n",
       "      <td>...</td>\n",
       "      <td>...</td>\n",
       "      <td>...</td>\n",
       "      <td>...</td>\n",
       "      <td>...</td>\n",
       "    </tr>\n",
       "    <tr>\n",
       "      <th>21608</th>\n",
       "      <td>20140521T000000</td>\n",
       "      <td>360000.0</td>\n",
       "      <td>3</td>\n",
       "      <td>2.50</td>\n",
       "      <td>1530</td>\n",
       "      <td>1131</td>\n",
       "      <td>3.0</td>\n",
       "      <td>0</td>\n",
       "      <td>0</td>\n",
       "      <td>3</td>\n",
       "      <td>8</td>\n",
       "      <td>1530.0</td>\n",
       "      <td>0</td>\n",
       "      <td>2009</td>\n",
       "      <td>0</td>\n",
       "      <td>98103</td>\n",
       "      <td>47.6993</td>\n",
       "      <td>-122.346</td>\n",
       "      <td>1530</td>\n",
       "      <td>1509</td>\n",
       "    </tr>\n",
       "    <tr>\n",
       "      <th>21609</th>\n",
       "      <td>20150223T000000</td>\n",
       "      <td>400000.0</td>\n",
       "      <td>4</td>\n",
       "      <td>2.50</td>\n",
       "      <td>2310</td>\n",
       "      <td>5813</td>\n",
       "      <td>2.0</td>\n",
       "      <td>0</td>\n",
       "      <td>0</td>\n",
       "      <td>3</td>\n",
       "      <td>8</td>\n",
       "      <td>2310.0</td>\n",
       "      <td>0</td>\n",
       "      <td>2014</td>\n",
       "      <td>0</td>\n",
       "      <td>98146</td>\n",
       "      <td>47.5107</td>\n",
       "      <td>-122.362</td>\n",
       "      <td>1830</td>\n",
       "      <td>7200</td>\n",
       "    </tr>\n",
       "    <tr>\n",
       "      <th>21610</th>\n",
       "      <td>20140623T000000</td>\n",
       "      <td>402101.0</td>\n",
       "      <td>2</td>\n",
       "      <td>0.75</td>\n",
       "      <td>1020</td>\n",
       "      <td>1350</td>\n",
       "      <td>2.0</td>\n",
       "      <td>0</td>\n",
       "      <td>0</td>\n",
       "      <td>3</td>\n",
       "      <td>7</td>\n",
       "      <td>1020.0</td>\n",
       "      <td>0</td>\n",
       "      <td>2009</td>\n",
       "      <td>0</td>\n",
       "      <td>98144</td>\n",
       "      <td>47.5944</td>\n",
       "      <td>-122.299</td>\n",
       "      <td>1020</td>\n",
       "      <td>2007</td>\n",
       "    </tr>\n",
       "    <tr>\n",
       "      <th>21611</th>\n",
       "      <td>20150116T000000</td>\n",
       "      <td>400000.0</td>\n",
       "      <td>3</td>\n",
       "      <td>2.50</td>\n",
       "      <td>1600</td>\n",
       "      <td>2388</td>\n",
       "      <td>2.0</td>\n",
       "      <td>0</td>\n",
       "      <td>0</td>\n",
       "      <td>3</td>\n",
       "      <td>8</td>\n",
       "      <td>1600.0</td>\n",
       "      <td>0</td>\n",
       "      <td>2004</td>\n",
       "      <td>0</td>\n",
       "      <td>98027</td>\n",
       "      <td>47.5345</td>\n",
       "      <td>-122.069</td>\n",
       "      <td>1410</td>\n",
       "      <td>1287</td>\n",
       "    </tr>\n",
       "    <tr>\n",
       "      <th>21612</th>\n",
       "      <td>20141015T000000</td>\n",
       "      <td>325000.0</td>\n",
       "      <td>2</td>\n",
       "      <td>0.75</td>\n",
       "      <td>1020</td>\n",
       "      <td>1076</td>\n",
       "      <td>2.0</td>\n",
       "      <td>0</td>\n",
       "      <td>0</td>\n",
       "      <td>3</td>\n",
       "      <td>7</td>\n",
       "      <td>1020.0</td>\n",
       "      <td>0</td>\n",
       "      <td>2008</td>\n",
       "      <td>0</td>\n",
       "      <td>98144</td>\n",
       "      <td>47.5941</td>\n",
       "      <td>-122.299</td>\n",
       "      <td>1020</td>\n",
       "      <td>1357</td>\n",
       "    </tr>\n",
       "  </tbody>\n",
       "</table>\n",
       "<p>21613 rows × 20 columns</p>\n",
       "</div>"
      ],
      "text/plain": [
       "                  date     price  bedrooms  bathrooms  sqft_living  sqft_lot  \\\n",
       "0      20141013T000000  221900.0         3       1.00         1180      5650   \n",
       "1      20141209T000000  538000.0         3       2.25         2570      7242   \n",
       "2      20150225T000000  180000.0         2       1.00          770     10000   \n",
       "3      20141209T000000  604000.0         4       3.00         1960      5000   \n",
       "4      20150218T000000  510000.0         3       2.00         1680      8080   \n",
       "...                ...       ...       ...        ...          ...       ...   \n",
       "21608  20140521T000000  360000.0         3       2.50         1530      1131   \n",
       "21609  20150223T000000  400000.0         4       2.50         2310      5813   \n",
       "21610  20140623T000000  402101.0         2       0.75         1020      1350   \n",
       "21611  20150116T000000  400000.0         3       2.50         1600      2388   \n",
       "21612  20141015T000000  325000.0         2       0.75         1020      1076   \n",
       "\n",
       "       floors  waterfront  view  condition  grade  sqft_above  sqft_basement  \\\n",
       "0         1.0           0     0          3      7      1180.0              0   \n",
       "1         2.0           0     0          3      7      2170.0            400   \n",
       "2         1.0           0     0          3      6       770.0              0   \n",
       "3         1.0           0     0          5      7      1050.0            910   \n",
       "4         1.0           0     0          3      8      1680.0              0   \n",
       "...       ...         ...   ...        ...    ...         ...            ...   \n",
       "21608     3.0           0     0          3      8      1530.0              0   \n",
       "21609     2.0           0     0          3      8      2310.0              0   \n",
       "21610     2.0           0     0          3      7      1020.0              0   \n",
       "21611     2.0           0     0          3      8      1600.0              0   \n",
       "21612     2.0           0     0          3      7      1020.0              0   \n",
       "\n",
       "       yr_built  yr_renovated  zipcode      lat     long  sqft_living15  \\\n",
       "0          1955             0    98178  47.5112 -122.257           1340   \n",
       "1          1951          1991    98125  47.7210 -122.319           1690   \n",
       "2          1933             0    98028  47.7379 -122.233           2720   \n",
       "3          1965             0    98136  47.5208 -122.393           1360   \n",
       "4          1987             0    98074  47.6168 -122.045           1800   \n",
       "...         ...           ...      ...      ...      ...            ...   \n",
       "21608      2009             0    98103  47.6993 -122.346           1530   \n",
       "21609      2014             0    98146  47.5107 -122.362           1830   \n",
       "21610      2009             0    98144  47.5944 -122.299           1020   \n",
       "21611      2004             0    98027  47.5345 -122.069           1410   \n",
       "21612      2008             0    98144  47.5941 -122.299           1020   \n",
       "\n",
       "       sqft_lot15  \n",
       "0            5650  \n",
       "1            7639  \n",
       "2            8062  \n",
       "3            5000  \n",
       "4            7503  \n",
       "...           ...  \n",
       "21608        1509  \n",
       "21609        7200  \n",
       "21610        2007  \n",
       "21611        1287  \n",
       "21612        1357  \n",
       "\n",
       "[21613 rows x 20 columns]"
      ]
     },
     "execution_count": 96,
     "metadata": {},
     "output_type": "execute_result"
    }
   ],
   "source": [
    "df"
   ]
  },
  {
   "cell_type": "code",
   "execution_count": null,
   "id": "4bebd3a6",
   "metadata": {},
   "outputs": [],
   "source": []
  },
  {
   "cell_type": "code",
   "execution_count": 97,
   "id": "f1733783",
   "metadata": {},
   "outputs": [],
   "source": [
    "df=df.drop(['date','waterfront','sqft_above','sqft_basement','zipcode','lat','long','sqft_living15','sqft_lot15'],axis=1)"
   ]
  },
  {
   "cell_type": "code",
   "execution_count": 98,
   "id": "80ee57e7",
   "metadata": {},
   "outputs": [
    {
     "data": {
      "text/html": [
       "<div>\n",
       "<style scoped>\n",
       "    .dataframe tbody tr th:only-of-type {\n",
       "        vertical-align: middle;\n",
       "    }\n",
       "\n",
       "    .dataframe tbody tr th {\n",
       "        vertical-align: top;\n",
       "    }\n",
       "\n",
       "    .dataframe thead th {\n",
       "        text-align: right;\n",
       "    }\n",
       "</style>\n",
       "<table border=\"1\" class=\"dataframe\">\n",
       "  <thead>\n",
       "    <tr style=\"text-align: right;\">\n",
       "      <th></th>\n",
       "      <th>price</th>\n",
       "      <th>bedrooms</th>\n",
       "      <th>bathrooms</th>\n",
       "      <th>sqft_living</th>\n",
       "      <th>sqft_lot</th>\n",
       "      <th>floors</th>\n",
       "      <th>view</th>\n",
       "      <th>condition</th>\n",
       "      <th>grade</th>\n",
       "      <th>yr_built</th>\n",
       "      <th>yr_renovated</th>\n",
       "    </tr>\n",
       "  </thead>\n",
       "  <tbody>\n",
       "    <tr>\n",
       "      <th>0</th>\n",
       "      <td>221900.0</td>\n",
       "      <td>3</td>\n",
       "      <td>1.00</td>\n",
       "      <td>1180</td>\n",
       "      <td>5650</td>\n",
       "      <td>1.0</td>\n",
       "      <td>0</td>\n",
       "      <td>3</td>\n",
       "      <td>7</td>\n",
       "      <td>1955</td>\n",
       "      <td>0</td>\n",
       "    </tr>\n",
       "    <tr>\n",
       "      <th>1</th>\n",
       "      <td>538000.0</td>\n",
       "      <td>3</td>\n",
       "      <td>2.25</td>\n",
       "      <td>2570</td>\n",
       "      <td>7242</td>\n",
       "      <td>2.0</td>\n",
       "      <td>0</td>\n",
       "      <td>3</td>\n",
       "      <td>7</td>\n",
       "      <td>1951</td>\n",
       "      <td>1991</td>\n",
       "    </tr>\n",
       "    <tr>\n",
       "      <th>2</th>\n",
       "      <td>180000.0</td>\n",
       "      <td>2</td>\n",
       "      <td>1.00</td>\n",
       "      <td>770</td>\n",
       "      <td>10000</td>\n",
       "      <td>1.0</td>\n",
       "      <td>0</td>\n",
       "      <td>3</td>\n",
       "      <td>6</td>\n",
       "      <td>1933</td>\n",
       "      <td>0</td>\n",
       "    </tr>\n",
       "    <tr>\n",
       "      <th>3</th>\n",
       "      <td>604000.0</td>\n",
       "      <td>4</td>\n",
       "      <td>3.00</td>\n",
       "      <td>1960</td>\n",
       "      <td>5000</td>\n",
       "      <td>1.0</td>\n",
       "      <td>0</td>\n",
       "      <td>5</td>\n",
       "      <td>7</td>\n",
       "      <td>1965</td>\n",
       "      <td>0</td>\n",
       "    </tr>\n",
       "    <tr>\n",
       "      <th>4</th>\n",
       "      <td>510000.0</td>\n",
       "      <td>3</td>\n",
       "      <td>2.00</td>\n",
       "      <td>1680</td>\n",
       "      <td>8080</td>\n",
       "      <td>1.0</td>\n",
       "      <td>0</td>\n",
       "      <td>3</td>\n",
       "      <td>8</td>\n",
       "      <td>1987</td>\n",
       "      <td>0</td>\n",
       "    </tr>\n",
       "    <tr>\n",
       "      <th>...</th>\n",
       "      <td>...</td>\n",
       "      <td>...</td>\n",
       "      <td>...</td>\n",
       "      <td>...</td>\n",
       "      <td>...</td>\n",
       "      <td>...</td>\n",
       "      <td>...</td>\n",
       "      <td>...</td>\n",
       "      <td>...</td>\n",
       "      <td>...</td>\n",
       "      <td>...</td>\n",
       "    </tr>\n",
       "    <tr>\n",
       "      <th>21608</th>\n",
       "      <td>360000.0</td>\n",
       "      <td>3</td>\n",
       "      <td>2.50</td>\n",
       "      <td>1530</td>\n",
       "      <td>1131</td>\n",
       "      <td>3.0</td>\n",
       "      <td>0</td>\n",
       "      <td>3</td>\n",
       "      <td>8</td>\n",
       "      <td>2009</td>\n",
       "      <td>0</td>\n",
       "    </tr>\n",
       "    <tr>\n",
       "      <th>21609</th>\n",
       "      <td>400000.0</td>\n",
       "      <td>4</td>\n",
       "      <td>2.50</td>\n",
       "      <td>2310</td>\n",
       "      <td>5813</td>\n",
       "      <td>2.0</td>\n",
       "      <td>0</td>\n",
       "      <td>3</td>\n",
       "      <td>8</td>\n",
       "      <td>2014</td>\n",
       "      <td>0</td>\n",
       "    </tr>\n",
       "    <tr>\n",
       "      <th>21610</th>\n",
       "      <td>402101.0</td>\n",
       "      <td>2</td>\n",
       "      <td>0.75</td>\n",
       "      <td>1020</td>\n",
       "      <td>1350</td>\n",
       "      <td>2.0</td>\n",
       "      <td>0</td>\n",
       "      <td>3</td>\n",
       "      <td>7</td>\n",
       "      <td>2009</td>\n",
       "      <td>0</td>\n",
       "    </tr>\n",
       "    <tr>\n",
       "      <th>21611</th>\n",
       "      <td>400000.0</td>\n",
       "      <td>3</td>\n",
       "      <td>2.50</td>\n",
       "      <td>1600</td>\n",
       "      <td>2388</td>\n",
       "      <td>2.0</td>\n",
       "      <td>0</td>\n",
       "      <td>3</td>\n",
       "      <td>8</td>\n",
       "      <td>2004</td>\n",
       "      <td>0</td>\n",
       "    </tr>\n",
       "    <tr>\n",
       "      <th>21612</th>\n",
       "      <td>325000.0</td>\n",
       "      <td>2</td>\n",
       "      <td>0.75</td>\n",
       "      <td>1020</td>\n",
       "      <td>1076</td>\n",
       "      <td>2.0</td>\n",
       "      <td>0</td>\n",
       "      <td>3</td>\n",
       "      <td>7</td>\n",
       "      <td>2008</td>\n",
       "      <td>0</td>\n",
       "    </tr>\n",
       "  </tbody>\n",
       "</table>\n",
       "<p>21613 rows × 11 columns</p>\n",
       "</div>"
      ],
      "text/plain": [
       "          price  bedrooms  bathrooms  sqft_living  sqft_lot  floors  view  \\\n",
       "0      221900.0         3       1.00         1180      5650     1.0     0   \n",
       "1      538000.0         3       2.25         2570      7242     2.0     0   \n",
       "2      180000.0         2       1.00          770     10000     1.0     0   \n",
       "3      604000.0         4       3.00         1960      5000     1.0     0   \n",
       "4      510000.0         3       2.00         1680      8080     1.0     0   \n",
       "...         ...       ...        ...          ...       ...     ...   ...   \n",
       "21608  360000.0         3       2.50         1530      1131     3.0     0   \n",
       "21609  400000.0         4       2.50         2310      5813     2.0     0   \n",
       "21610  402101.0         2       0.75         1020      1350     2.0     0   \n",
       "21611  400000.0         3       2.50         1600      2388     2.0     0   \n",
       "21612  325000.0         2       0.75         1020      1076     2.0     0   \n",
       "\n",
       "       condition  grade  yr_built  yr_renovated  \n",
       "0              3      7      1955             0  \n",
       "1              3      7      1951          1991  \n",
       "2              3      6      1933             0  \n",
       "3              5      7      1965             0  \n",
       "4              3      8      1987             0  \n",
       "...          ...    ...       ...           ...  \n",
       "21608          3      8      2009             0  \n",
       "21609          3      8      2014             0  \n",
       "21610          3      7      2009             0  \n",
       "21611          3      8      2004             0  \n",
       "21612          3      7      2008             0  \n",
       "\n",
       "[21613 rows x 11 columns]"
      ]
     },
     "execution_count": 98,
     "metadata": {},
     "output_type": "execute_result"
    }
   ],
   "source": [
    "df"
   ]
  },
  {
   "cell_type": "code",
   "execution_count": 99,
   "id": "2a57189d",
   "metadata": {},
   "outputs": [],
   "source": [
    "df['age_house']=2023 - df['yr_built']"
   ]
  },
  {
   "cell_type": "code",
   "execution_count": 100,
   "id": "4f975c85",
   "metadata": {},
   "outputs": [],
   "source": [
    "df['after_yr_renovated']=df['yr_renovated']-df['yr_built']"
   ]
  },
  {
   "cell_type": "code",
   "execution_count": 101,
   "id": "508bc044",
   "metadata": {},
   "outputs": [
    {
     "data": {
      "text/plain": [
       "array([-1955,    40, -1933, -1965, -1987, -2001, -1995, -1963, -1960,\n",
       "       -2003, -1942, -1927, -1977, -1900, -1979, -1994, -1916, -1921,\n",
       "       -1969, -1947, -1968, -1985, -1941, -1915, -1909, -1948, -2005,\n",
       "       -1929, -1981,    72, -1904, -1996, -2000, -1984, -2014, -1922,\n",
       "       -1959, -1966, -1953, -1950, -2008, -1991, -1954, -1973, -1925,\n",
       "       -1989, -1972, -1986, -1956, -2002, -1992, -1964, -1952, -1961,\n",
       "       -2006, -1988, -1962, -1939,    45, -1967, -1975, -1980, -1910,\n",
       "       -1983,    60, -1978, -1905, -1971,    99, -2010, -1945, -1924,\n",
       "       -1990,    78, -1926, -2004, -1923, -2007,    97, -1976, -1949,\n",
       "       -1999, -1901, -1993, -1920, -1997, -1943,    74,    34,    63,\n",
       "         101, -1940, -1918, -1928, -1974, -1911, -1930, -1936, -1937,\n",
       "          26,    49, -1908, -1931,    89, -1957, -1998, -1913, -2013,\n",
       "          62,    51, -1907,   110, -1958,   102, -2012,    27,    38,\n",
       "          22, -1912,    53,    85, -2011, -1917, -1946, -1951, -1932,\n",
       "       -1944, -1982, -1902, -2009, -1970,    31, -2015, -1934,    77,\n",
       "          93, -1938,    18,    66,    21, -1919, -1914,    91,    75,\n",
       "          44, -1906,    28,    48,    46,    29,    58, -1903,    70,\n",
       "          32,    56,    65,    47,    57,     9,    35,    82,    76,\n",
       "          61,    59,    87,    30,    86,   108,   103,    79,    12,\n",
       "          37,    98,    16,    69,    94,    33,    43,    39,    88,\n",
       "          71,   109,   114,    81,    84,    64,   104,    68,    90,\n",
       "          83,    41,    73,    52,    36,    24,   105,    67, -1935,\n",
       "          15,    55,    42,    25,    17,     8,    50,    19,    23,\n",
       "          54,    20,    80,    96,   100,    95,    92,   113,    11,\n",
       "           6,    14,    13,   107,    10], dtype=int64)"
      ]
     },
     "execution_count": 101,
     "metadata": {},
     "output_type": "execute_result"
    }
   ],
   "source": [
    "df['after_yr_renovated'].unique()"
   ]
  },
  {
   "cell_type": "code",
   "execution_count": 102,
   "id": "078bcaae",
   "metadata": {},
   "outputs": [
    {
     "name": "stderr",
     "output_type": "stream",
     "text": [
      "C:\\Users\\Muhammad Talha Awan\\AppData\\Local\\Temp\\ipykernel_6404\\1725417157.py:3: SettingWithCopyWarning: \n",
      "A value is trying to be set on a copy of a slice from a DataFrame\n",
      "\n",
      "See the caveats in the documentation: https://pandas.pydata.org/pandas-docs/stable/user_guide/indexing.html#returning-a-view-versus-a-copy\n",
      "  df['after_yr_renovated'][i]=0\n"
     ]
    }
   ],
   "source": [
    "for i in range(0,len(df['after_yr_renovated'])):\n",
    "    if df['after_yr_renovated'][i]<0:\n",
    "        df['after_yr_renovated'][i]=0"
   ]
  },
  {
   "cell_type": "code",
   "execution_count": 103,
   "id": "d698edab",
   "metadata": {},
   "outputs": [
    {
     "data": {
      "text/html": [
       "<div>\n",
       "<style scoped>\n",
       "    .dataframe tbody tr th:only-of-type {\n",
       "        vertical-align: middle;\n",
       "    }\n",
       "\n",
       "    .dataframe tbody tr th {\n",
       "        vertical-align: top;\n",
       "    }\n",
       "\n",
       "    .dataframe thead th {\n",
       "        text-align: right;\n",
       "    }\n",
       "</style>\n",
       "<table border=\"1\" class=\"dataframe\">\n",
       "  <thead>\n",
       "    <tr style=\"text-align: right;\">\n",
       "      <th></th>\n",
       "      <th>price</th>\n",
       "      <th>bedrooms</th>\n",
       "      <th>bathrooms</th>\n",
       "      <th>sqft_living</th>\n",
       "      <th>sqft_lot</th>\n",
       "      <th>floors</th>\n",
       "      <th>view</th>\n",
       "      <th>condition</th>\n",
       "      <th>grade</th>\n",
       "      <th>yr_built</th>\n",
       "      <th>yr_renovated</th>\n",
       "      <th>age_house</th>\n",
       "      <th>after_yr_renovated</th>\n",
       "    </tr>\n",
       "  </thead>\n",
       "  <tbody>\n",
       "    <tr>\n",
       "      <th>0</th>\n",
       "      <td>221900.0</td>\n",
       "      <td>3</td>\n",
       "      <td>1.00</td>\n",
       "      <td>1180</td>\n",
       "      <td>5650</td>\n",
       "      <td>1.0</td>\n",
       "      <td>0</td>\n",
       "      <td>3</td>\n",
       "      <td>7</td>\n",
       "      <td>1955</td>\n",
       "      <td>0</td>\n",
       "      <td>68</td>\n",
       "      <td>0</td>\n",
       "    </tr>\n",
       "    <tr>\n",
       "      <th>1</th>\n",
       "      <td>538000.0</td>\n",
       "      <td>3</td>\n",
       "      <td>2.25</td>\n",
       "      <td>2570</td>\n",
       "      <td>7242</td>\n",
       "      <td>2.0</td>\n",
       "      <td>0</td>\n",
       "      <td>3</td>\n",
       "      <td>7</td>\n",
       "      <td>1951</td>\n",
       "      <td>1991</td>\n",
       "      <td>72</td>\n",
       "      <td>40</td>\n",
       "    </tr>\n",
       "    <tr>\n",
       "      <th>2</th>\n",
       "      <td>180000.0</td>\n",
       "      <td>2</td>\n",
       "      <td>1.00</td>\n",
       "      <td>770</td>\n",
       "      <td>10000</td>\n",
       "      <td>1.0</td>\n",
       "      <td>0</td>\n",
       "      <td>3</td>\n",
       "      <td>6</td>\n",
       "      <td>1933</td>\n",
       "      <td>0</td>\n",
       "      <td>90</td>\n",
       "      <td>0</td>\n",
       "    </tr>\n",
       "    <tr>\n",
       "      <th>3</th>\n",
       "      <td>604000.0</td>\n",
       "      <td>4</td>\n",
       "      <td>3.00</td>\n",
       "      <td>1960</td>\n",
       "      <td>5000</td>\n",
       "      <td>1.0</td>\n",
       "      <td>0</td>\n",
       "      <td>5</td>\n",
       "      <td>7</td>\n",
       "      <td>1965</td>\n",
       "      <td>0</td>\n",
       "      <td>58</td>\n",
       "      <td>0</td>\n",
       "    </tr>\n",
       "    <tr>\n",
       "      <th>4</th>\n",
       "      <td>510000.0</td>\n",
       "      <td>3</td>\n",
       "      <td>2.00</td>\n",
       "      <td>1680</td>\n",
       "      <td>8080</td>\n",
       "      <td>1.0</td>\n",
       "      <td>0</td>\n",
       "      <td>3</td>\n",
       "      <td>8</td>\n",
       "      <td>1987</td>\n",
       "      <td>0</td>\n",
       "      <td>36</td>\n",
       "      <td>0</td>\n",
       "    </tr>\n",
       "    <tr>\n",
       "      <th>...</th>\n",
       "      <td>...</td>\n",
       "      <td>...</td>\n",
       "      <td>...</td>\n",
       "      <td>...</td>\n",
       "      <td>...</td>\n",
       "      <td>...</td>\n",
       "      <td>...</td>\n",
       "      <td>...</td>\n",
       "      <td>...</td>\n",
       "      <td>...</td>\n",
       "      <td>...</td>\n",
       "      <td>...</td>\n",
       "      <td>...</td>\n",
       "    </tr>\n",
       "    <tr>\n",
       "      <th>21608</th>\n",
       "      <td>360000.0</td>\n",
       "      <td>3</td>\n",
       "      <td>2.50</td>\n",
       "      <td>1530</td>\n",
       "      <td>1131</td>\n",
       "      <td>3.0</td>\n",
       "      <td>0</td>\n",
       "      <td>3</td>\n",
       "      <td>8</td>\n",
       "      <td>2009</td>\n",
       "      <td>0</td>\n",
       "      <td>14</td>\n",
       "      <td>0</td>\n",
       "    </tr>\n",
       "    <tr>\n",
       "      <th>21609</th>\n",
       "      <td>400000.0</td>\n",
       "      <td>4</td>\n",
       "      <td>2.50</td>\n",
       "      <td>2310</td>\n",
       "      <td>5813</td>\n",
       "      <td>2.0</td>\n",
       "      <td>0</td>\n",
       "      <td>3</td>\n",
       "      <td>8</td>\n",
       "      <td>2014</td>\n",
       "      <td>0</td>\n",
       "      <td>9</td>\n",
       "      <td>0</td>\n",
       "    </tr>\n",
       "    <tr>\n",
       "      <th>21610</th>\n",
       "      <td>402101.0</td>\n",
       "      <td>2</td>\n",
       "      <td>0.75</td>\n",
       "      <td>1020</td>\n",
       "      <td>1350</td>\n",
       "      <td>2.0</td>\n",
       "      <td>0</td>\n",
       "      <td>3</td>\n",
       "      <td>7</td>\n",
       "      <td>2009</td>\n",
       "      <td>0</td>\n",
       "      <td>14</td>\n",
       "      <td>0</td>\n",
       "    </tr>\n",
       "    <tr>\n",
       "      <th>21611</th>\n",
       "      <td>400000.0</td>\n",
       "      <td>3</td>\n",
       "      <td>2.50</td>\n",
       "      <td>1600</td>\n",
       "      <td>2388</td>\n",
       "      <td>2.0</td>\n",
       "      <td>0</td>\n",
       "      <td>3</td>\n",
       "      <td>8</td>\n",
       "      <td>2004</td>\n",
       "      <td>0</td>\n",
       "      <td>19</td>\n",
       "      <td>0</td>\n",
       "    </tr>\n",
       "    <tr>\n",
       "      <th>21612</th>\n",
       "      <td>325000.0</td>\n",
       "      <td>2</td>\n",
       "      <td>0.75</td>\n",
       "      <td>1020</td>\n",
       "      <td>1076</td>\n",
       "      <td>2.0</td>\n",
       "      <td>0</td>\n",
       "      <td>3</td>\n",
       "      <td>7</td>\n",
       "      <td>2008</td>\n",
       "      <td>0</td>\n",
       "      <td>15</td>\n",
       "      <td>0</td>\n",
       "    </tr>\n",
       "  </tbody>\n",
       "</table>\n",
       "<p>21613 rows × 13 columns</p>\n",
       "</div>"
      ],
      "text/plain": [
       "          price  bedrooms  bathrooms  sqft_living  sqft_lot  floors  view  \\\n",
       "0      221900.0         3       1.00         1180      5650     1.0     0   \n",
       "1      538000.0         3       2.25         2570      7242     2.0     0   \n",
       "2      180000.0         2       1.00          770     10000     1.0     0   \n",
       "3      604000.0         4       3.00         1960      5000     1.0     0   \n",
       "4      510000.0         3       2.00         1680      8080     1.0     0   \n",
       "...         ...       ...        ...          ...       ...     ...   ...   \n",
       "21608  360000.0         3       2.50         1530      1131     3.0     0   \n",
       "21609  400000.0         4       2.50         2310      5813     2.0     0   \n",
       "21610  402101.0         2       0.75         1020      1350     2.0     0   \n",
       "21611  400000.0         3       2.50         1600      2388     2.0     0   \n",
       "21612  325000.0         2       0.75         1020      1076     2.0     0   \n",
       "\n",
       "       condition  grade  yr_built  yr_renovated  age_house  after_yr_renovated  \n",
       "0              3      7      1955             0         68                   0  \n",
       "1              3      7      1951          1991         72                  40  \n",
       "2              3      6      1933             0         90                   0  \n",
       "3              5      7      1965             0         58                   0  \n",
       "4              3      8      1987             0         36                   0  \n",
       "...          ...    ...       ...           ...        ...                 ...  \n",
       "21608          3      8      2009             0         14                   0  \n",
       "21609          3      8      2014             0          9                   0  \n",
       "21610          3      7      2009             0         14                   0  \n",
       "21611          3      8      2004             0         19                   0  \n",
       "21612          3      7      2008             0         15                   0  \n",
       "\n",
       "[21613 rows x 13 columns]"
      ]
     },
     "execution_count": 103,
     "metadata": {},
     "output_type": "execute_result"
    }
   ],
   "source": [
    "df"
   ]
  },
  {
   "cell_type": "code",
   "execution_count": 104,
   "id": "c744ea2a",
   "metadata": {},
   "outputs": [
    {
     "data": {
      "text/plain": [
       "array([  0,  40,  72,  45,  60,  99,  78,  97,  74,  34,  63, 101,  26,\n",
       "        49,  89,  62,  51, 110, 102,  27,  38,  22,  53,  85,  31,  77,\n",
       "        93,  18,  66,  21,  91,  75,  44,  28,  48,  46,  29,  58,  70,\n",
       "        32,  56,  65,  47,  57,   9,  35,  82,  76,  61,  59,  87,  30,\n",
       "        86, 108, 103,  79,  12,  37,  98,  16,  69,  94,  33,  43,  39,\n",
       "        88,  71, 109, 114,  81,  84,  64, 104,  68,  90,  83,  41,  73,\n",
       "        52,  36,  24, 105,  67,  15,  55,  42,  25,  17,   8,  50,  19,\n",
       "        23,  54,  20,  80,  96, 100,  95,  92, 113,  11,   6,  14,  13,\n",
       "       107,  10], dtype=int64)"
      ]
     },
     "execution_count": 104,
     "metadata": {},
     "output_type": "execute_result"
    }
   ],
   "source": [
    "df['after_yr_renovated'].unique()"
   ]
  },
  {
   "cell_type": "code",
   "execution_count": 105,
   "id": "67bacbc2",
   "metadata": {},
   "outputs": [
    {
     "data": {
      "text/html": [
       "<div>\n",
       "<style scoped>\n",
       "    .dataframe tbody tr th:only-of-type {\n",
       "        vertical-align: middle;\n",
       "    }\n",
       "\n",
       "    .dataframe tbody tr th {\n",
       "        vertical-align: top;\n",
       "    }\n",
       "\n",
       "    .dataframe thead th {\n",
       "        text-align: right;\n",
       "    }\n",
       "</style>\n",
       "<table border=\"1\" class=\"dataframe\">\n",
       "  <thead>\n",
       "    <tr style=\"text-align: right;\">\n",
       "      <th></th>\n",
       "      <th>price</th>\n",
       "      <th>bedrooms</th>\n",
       "      <th>bathrooms</th>\n",
       "      <th>sqft_living</th>\n",
       "      <th>sqft_lot</th>\n",
       "      <th>floors</th>\n",
       "      <th>view</th>\n",
       "      <th>condition</th>\n",
       "      <th>grade</th>\n",
       "      <th>yr_built</th>\n",
       "      <th>yr_renovated</th>\n",
       "      <th>age_house</th>\n",
       "      <th>after_yr_renovated</th>\n",
       "    </tr>\n",
       "  </thead>\n",
       "  <tbody>\n",
       "    <tr>\n",
       "      <th>21608</th>\n",
       "      <td>360000.0</td>\n",
       "      <td>3</td>\n",
       "      <td>2.50</td>\n",
       "      <td>1530</td>\n",
       "      <td>1131</td>\n",
       "      <td>3.0</td>\n",
       "      <td>0</td>\n",
       "      <td>3</td>\n",
       "      <td>8</td>\n",
       "      <td>2009</td>\n",
       "      <td>0</td>\n",
       "      <td>14</td>\n",
       "      <td>0</td>\n",
       "    </tr>\n",
       "    <tr>\n",
       "      <th>21609</th>\n",
       "      <td>400000.0</td>\n",
       "      <td>4</td>\n",
       "      <td>2.50</td>\n",
       "      <td>2310</td>\n",
       "      <td>5813</td>\n",
       "      <td>2.0</td>\n",
       "      <td>0</td>\n",
       "      <td>3</td>\n",
       "      <td>8</td>\n",
       "      <td>2014</td>\n",
       "      <td>0</td>\n",
       "      <td>9</td>\n",
       "      <td>0</td>\n",
       "    </tr>\n",
       "    <tr>\n",
       "      <th>21610</th>\n",
       "      <td>402101.0</td>\n",
       "      <td>2</td>\n",
       "      <td>0.75</td>\n",
       "      <td>1020</td>\n",
       "      <td>1350</td>\n",
       "      <td>2.0</td>\n",
       "      <td>0</td>\n",
       "      <td>3</td>\n",
       "      <td>7</td>\n",
       "      <td>2009</td>\n",
       "      <td>0</td>\n",
       "      <td>14</td>\n",
       "      <td>0</td>\n",
       "    </tr>\n",
       "    <tr>\n",
       "      <th>21611</th>\n",
       "      <td>400000.0</td>\n",
       "      <td>3</td>\n",
       "      <td>2.50</td>\n",
       "      <td>1600</td>\n",
       "      <td>2388</td>\n",
       "      <td>2.0</td>\n",
       "      <td>0</td>\n",
       "      <td>3</td>\n",
       "      <td>8</td>\n",
       "      <td>2004</td>\n",
       "      <td>0</td>\n",
       "      <td>19</td>\n",
       "      <td>0</td>\n",
       "    </tr>\n",
       "    <tr>\n",
       "      <th>21612</th>\n",
       "      <td>325000.0</td>\n",
       "      <td>2</td>\n",
       "      <td>0.75</td>\n",
       "      <td>1020</td>\n",
       "      <td>1076</td>\n",
       "      <td>2.0</td>\n",
       "      <td>0</td>\n",
       "      <td>3</td>\n",
       "      <td>7</td>\n",
       "      <td>2008</td>\n",
       "      <td>0</td>\n",
       "      <td>15</td>\n",
       "      <td>0</td>\n",
       "    </tr>\n",
       "  </tbody>\n",
       "</table>\n",
       "</div>"
      ],
      "text/plain": [
       "          price  bedrooms  bathrooms  sqft_living  sqft_lot  floors  view  \\\n",
       "21608  360000.0         3       2.50         1530      1131     3.0     0   \n",
       "21609  400000.0         4       2.50         2310      5813     2.0     0   \n",
       "21610  402101.0         2       0.75         1020      1350     2.0     0   \n",
       "21611  400000.0         3       2.50         1600      2388     2.0     0   \n",
       "21612  325000.0         2       0.75         1020      1076     2.0     0   \n",
       "\n",
       "       condition  grade  yr_built  yr_renovated  age_house  after_yr_renovated  \n",
       "21608          3      8      2009             0         14                   0  \n",
       "21609          3      8      2014             0          9                   0  \n",
       "21610          3      7      2009             0         14                   0  \n",
       "21611          3      8      2004             0         19                   0  \n",
       "21612          3      7      2008             0         15                   0  "
      ]
     },
     "execution_count": 105,
     "metadata": {},
     "output_type": "execute_result"
    }
   ],
   "source": [
    "df.tail()"
   ]
  },
  {
   "cell_type": "code",
   "execution_count": 106,
   "id": "641e52f3",
   "metadata": {},
   "outputs": [],
   "source": [
    "df.drop('yr_renovated',axis=1,inplace=True)"
   ]
  },
  {
   "cell_type": "code",
   "execution_count": 107,
   "id": "8011c5a3",
   "metadata": {},
   "outputs": [
    {
     "data": {
      "text/html": [
       "<div>\n",
       "<style scoped>\n",
       "    .dataframe tbody tr th:only-of-type {\n",
       "        vertical-align: middle;\n",
       "    }\n",
       "\n",
       "    .dataframe tbody tr th {\n",
       "        vertical-align: top;\n",
       "    }\n",
       "\n",
       "    .dataframe thead th {\n",
       "        text-align: right;\n",
       "    }\n",
       "</style>\n",
       "<table border=\"1\" class=\"dataframe\">\n",
       "  <thead>\n",
       "    <tr style=\"text-align: right;\">\n",
       "      <th></th>\n",
       "      <th>price</th>\n",
       "      <th>bedrooms</th>\n",
       "      <th>bathrooms</th>\n",
       "      <th>sqft_living</th>\n",
       "      <th>sqft_lot</th>\n",
       "      <th>floors</th>\n",
       "      <th>view</th>\n",
       "      <th>condition</th>\n",
       "      <th>grade</th>\n",
       "      <th>yr_built</th>\n",
       "      <th>age_house</th>\n",
       "      <th>after_yr_renovated</th>\n",
       "    </tr>\n",
       "  </thead>\n",
       "  <tbody>\n",
       "    <tr>\n",
       "      <th>price</th>\n",
       "      <td>1.000000</td>\n",
       "      <td>0.308350</td>\n",
       "      <td>0.525138</td>\n",
       "      <td>0.702035</td>\n",
       "      <td>0.089661</td>\n",
       "      <td>0.256794</td>\n",
       "      <td>0.397293</td>\n",
       "      <td>0.036362</td>\n",
       "      <td>0.667434</td>\n",
       "      <td>0.054012</td>\n",
       "      <td>-0.054012</td>\n",
       "      <td>0.118124</td>\n",
       "    </tr>\n",
       "    <tr>\n",
       "      <th>bedrooms</th>\n",
       "      <td>0.308350</td>\n",
       "      <td>1.000000</td>\n",
       "      <td>0.515884</td>\n",
       "      <td>0.576671</td>\n",
       "      <td>0.031703</td>\n",
       "      <td>0.175429</td>\n",
       "      <td>0.079532</td>\n",
       "      <td>0.028472</td>\n",
       "      <td>0.356967</td>\n",
       "      <td>0.154178</td>\n",
       "      <td>-0.154178</td>\n",
       "      <td>0.019334</td>\n",
       "    </tr>\n",
       "    <tr>\n",
       "      <th>bathrooms</th>\n",
       "      <td>0.525138</td>\n",
       "      <td>0.515884</td>\n",
       "      <td>1.000000</td>\n",
       "      <td>0.754665</td>\n",
       "      <td>0.087740</td>\n",
       "      <td>0.500653</td>\n",
       "      <td>0.187737</td>\n",
       "      <td>-0.124982</td>\n",
       "      <td>0.664983</td>\n",
       "      <td>0.506019</td>\n",
       "      <td>-0.506019</td>\n",
       "      <td>0.049395</td>\n",
       "    </tr>\n",
       "    <tr>\n",
       "      <th>sqft_living</th>\n",
       "      <td>0.702035</td>\n",
       "      <td>0.576671</td>\n",
       "      <td>0.754665</td>\n",
       "      <td>1.000000</td>\n",
       "      <td>0.172826</td>\n",
       "      <td>0.353949</td>\n",
       "      <td>0.284611</td>\n",
       "      <td>-0.058753</td>\n",
       "      <td>0.762704</td>\n",
       "      <td>0.318049</td>\n",
       "      <td>-0.318049</td>\n",
       "      <td>0.045311</td>\n",
       "    </tr>\n",
       "    <tr>\n",
       "      <th>sqft_lot</th>\n",
       "      <td>0.089661</td>\n",
       "      <td>0.031703</td>\n",
       "      <td>0.087740</td>\n",
       "      <td>0.172826</td>\n",
       "      <td>1.000000</td>\n",
       "      <td>-0.005201</td>\n",
       "      <td>0.074710</td>\n",
       "      <td>-0.008958</td>\n",
       "      <td>0.113621</td>\n",
       "      <td>0.053080</td>\n",
       "      <td>-0.053080</td>\n",
       "      <td>-0.002829</td>\n",
       "    </tr>\n",
       "    <tr>\n",
       "      <th>floors</th>\n",
       "      <td>0.256794</td>\n",
       "      <td>0.175429</td>\n",
       "      <td>0.500653</td>\n",
       "      <td>0.353949</td>\n",
       "      <td>-0.005201</td>\n",
       "      <td>1.000000</td>\n",
       "      <td>0.029444</td>\n",
       "      <td>-0.263768</td>\n",
       "      <td>0.458183</td>\n",
       "      <td>0.489319</td>\n",
       "      <td>-0.489319</td>\n",
       "      <td>0.015068</td>\n",
       "    </tr>\n",
       "    <tr>\n",
       "      <th>view</th>\n",
       "      <td>0.397293</td>\n",
       "      <td>0.079532</td>\n",
       "      <td>0.187737</td>\n",
       "      <td>0.284611</td>\n",
       "      <td>0.074710</td>\n",
       "      <td>0.029444</td>\n",
       "      <td>1.000000</td>\n",
       "      <td>0.045990</td>\n",
       "      <td>0.251321</td>\n",
       "      <td>-0.053440</td>\n",
       "      <td>0.053440</td>\n",
       "      <td>0.084434</td>\n",
       "    </tr>\n",
       "    <tr>\n",
       "      <th>condition</th>\n",
       "      <td>0.036362</td>\n",
       "      <td>0.028472</td>\n",
       "      <td>-0.124982</td>\n",
       "      <td>-0.058753</td>\n",
       "      <td>-0.008958</td>\n",
       "      <td>-0.263768</td>\n",
       "      <td>0.045990</td>\n",
       "      <td>1.000000</td>\n",
       "      <td>-0.144674</td>\n",
       "      <td>-0.361417</td>\n",
       "      <td>0.361417</td>\n",
       "      <td>-0.064873</td>\n",
       "    </tr>\n",
       "    <tr>\n",
       "      <th>grade</th>\n",
       "      <td>0.667434</td>\n",
       "      <td>0.356967</td>\n",
       "      <td>0.664983</td>\n",
       "      <td>0.762704</td>\n",
       "      <td>0.113621</td>\n",
       "      <td>0.458183</td>\n",
       "      <td>0.251321</td>\n",
       "      <td>-0.144674</td>\n",
       "      <td>1.000000</td>\n",
       "      <td>0.446963</td>\n",
       "      <td>-0.446963</td>\n",
       "      <td>0.011751</td>\n",
       "    </tr>\n",
       "    <tr>\n",
       "      <th>yr_built</th>\n",
       "      <td>0.054012</td>\n",
       "      <td>0.154178</td>\n",
       "      <td>0.506019</td>\n",
       "      <td>0.318049</td>\n",
       "      <td>0.053080</td>\n",
       "      <td>0.489319</td>\n",
       "      <td>-0.053440</td>\n",
       "      <td>-0.361417</td>\n",
       "      <td>0.446963</td>\n",
       "      <td>1.000000</td>\n",
       "      <td>-1.000000</td>\n",
       "      <td>-0.255784</td>\n",
       "    </tr>\n",
       "    <tr>\n",
       "      <th>age_house</th>\n",
       "      <td>-0.054012</td>\n",
       "      <td>-0.154178</td>\n",
       "      <td>-0.506019</td>\n",
       "      <td>-0.318049</td>\n",
       "      <td>-0.053080</td>\n",
       "      <td>-0.489319</td>\n",
       "      <td>0.053440</td>\n",
       "      <td>0.361417</td>\n",
       "      <td>-0.446963</td>\n",
       "      <td>-1.000000</td>\n",
       "      <td>1.000000</td>\n",
       "      <td>0.255784</td>\n",
       "    </tr>\n",
       "    <tr>\n",
       "      <th>after_yr_renovated</th>\n",
       "      <td>0.118124</td>\n",
       "      <td>0.019334</td>\n",
       "      <td>0.049395</td>\n",
       "      <td>0.045311</td>\n",
       "      <td>-0.002829</td>\n",
       "      <td>0.015068</td>\n",
       "      <td>0.084434</td>\n",
       "      <td>-0.064873</td>\n",
       "      <td>0.011751</td>\n",
       "      <td>-0.255784</td>\n",
       "      <td>0.255784</td>\n",
       "      <td>1.000000</td>\n",
       "    </tr>\n",
       "  </tbody>\n",
       "</table>\n",
       "</div>"
      ],
      "text/plain": [
       "                       price  bedrooms  bathrooms  sqft_living  sqft_lot  \\\n",
       "price               1.000000  0.308350   0.525138     0.702035  0.089661   \n",
       "bedrooms            0.308350  1.000000   0.515884     0.576671  0.031703   \n",
       "bathrooms           0.525138  0.515884   1.000000     0.754665  0.087740   \n",
       "sqft_living         0.702035  0.576671   0.754665     1.000000  0.172826   \n",
       "sqft_lot            0.089661  0.031703   0.087740     0.172826  1.000000   \n",
       "floors              0.256794  0.175429   0.500653     0.353949 -0.005201   \n",
       "view                0.397293  0.079532   0.187737     0.284611  0.074710   \n",
       "condition           0.036362  0.028472  -0.124982    -0.058753 -0.008958   \n",
       "grade               0.667434  0.356967   0.664983     0.762704  0.113621   \n",
       "yr_built            0.054012  0.154178   0.506019     0.318049  0.053080   \n",
       "age_house          -0.054012 -0.154178  -0.506019    -0.318049 -0.053080   \n",
       "after_yr_renovated  0.118124  0.019334   0.049395     0.045311 -0.002829   \n",
       "\n",
       "                      floors      view  condition     grade  yr_built  \\\n",
       "price               0.256794  0.397293   0.036362  0.667434  0.054012   \n",
       "bedrooms            0.175429  0.079532   0.028472  0.356967  0.154178   \n",
       "bathrooms           0.500653  0.187737  -0.124982  0.664983  0.506019   \n",
       "sqft_living         0.353949  0.284611  -0.058753  0.762704  0.318049   \n",
       "sqft_lot           -0.005201  0.074710  -0.008958  0.113621  0.053080   \n",
       "floors              1.000000  0.029444  -0.263768  0.458183  0.489319   \n",
       "view                0.029444  1.000000   0.045990  0.251321 -0.053440   \n",
       "condition          -0.263768  0.045990   1.000000 -0.144674 -0.361417   \n",
       "grade               0.458183  0.251321  -0.144674  1.000000  0.446963   \n",
       "yr_built            0.489319 -0.053440  -0.361417  0.446963  1.000000   \n",
       "age_house          -0.489319  0.053440   0.361417 -0.446963 -1.000000   \n",
       "after_yr_renovated  0.015068  0.084434  -0.064873  0.011751 -0.255784   \n",
       "\n",
       "                    age_house  after_yr_renovated  \n",
       "price               -0.054012            0.118124  \n",
       "bedrooms            -0.154178            0.019334  \n",
       "bathrooms           -0.506019            0.049395  \n",
       "sqft_living         -0.318049            0.045311  \n",
       "sqft_lot            -0.053080           -0.002829  \n",
       "floors              -0.489319            0.015068  \n",
       "view                 0.053440            0.084434  \n",
       "condition            0.361417           -0.064873  \n",
       "grade               -0.446963            0.011751  \n",
       "yr_built            -1.000000           -0.255784  \n",
       "age_house            1.000000            0.255784  \n",
       "after_yr_renovated   0.255784            1.000000  "
      ]
     },
     "execution_count": 107,
     "metadata": {},
     "output_type": "execute_result"
    }
   ],
   "source": [
    "df.corr()"
   ]
  },
  {
   "cell_type": "code",
   "execution_count": 108,
   "id": "68a989ad",
   "metadata": {},
   "outputs": [],
   "source": [
    "corr=df.corr()"
   ]
  },
  {
   "cell_type": "code",
   "execution_count": 109,
   "id": "df65d66f",
   "metadata": {},
   "outputs": [
    {
     "data": {
      "text/plain": [
       "12"
      ]
     },
     "execution_count": 109,
     "metadata": {},
     "output_type": "execute_result"
    }
   ],
   "source": [
    "len(corr.columns)"
   ]
  },
  {
   "cell_type": "code",
   "execution_count": 110,
   "id": "8842101d",
   "metadata": {},
   "outputs": [],
   "source": [
    "def get_heighly_corelated_column(df,trashhold):\n",
    "    collrelated_col=set()\n",
    "    corr_matrix=df.corr()\n",
    "    for i in range(0,len(corr_matrix.columns)):\n",
    "        for j in range(i):\n",
    "            if abs(corr_matrix.iloc[i,j])>trashhold:\n",
    "                col=corr_matrix.columns[i]\n",
    "                collrelated_col.add(col)\n",
    "              \n",
    "           \n",
    "       \n",
    "    return collrelated_col"
   ]
  },
  {
   "cell_type": "code",
   "execution_count": 111,
   "id": "c3859779",
   "metadata": {},
   "outputs": [
    {
     "data": {
      "text/plain": [
       "0.7546652789673752"
      ]
     },
     "execution_count": 111,
     "metadata": {},
     "output_type": "execute_result"
    }
   ],
   "source": [
    "corr.iloc[2,3]"
   ]
  },
  {
   "cell_type": "code",
   "execution_count": 112,
   "id": "0afc51f3",
   "metadata": {},
   "outputs": [
    {
     "data": {
      "text/plain": [
       "'bathrooms'"
      ]
     },
     "execution_count": 112,
     "metadata": {},
     "output_type": "execute_result"
    }
   ],
   "source": [
    "corr.columns[2]"
   ]
  },
  {
   "cell_type": "code",
   "execution_count": 113,
   "id": "c71d3e25",
   "metadata": {},
   "outputs": [
    {
     "data": {
      "text/plain": [
       "{'age_house', 'grade'}"
      ]
     },
     "execution_count": 113,
     "metadata": {},
     "output_type": "execute_result"
    }
   ],
   "source": [
    "get_heighly_corelated_column(df,0.76)"
   ]
  },
  {
   "cell_type": "code",
   "execution_count": 114,
   "id": "c290d376",
   "metadata": {},
   "outputs": [
    {
     "data": {
      "text/plain": [
       "Index(['price', 'bedrooms', 'bathrooms', 'sqft_living', 'sqft_lot', 'floors',\n",
       "       'view', 'condition', 'grade', 'yr_built', 'age_house',\n",
       "       'after_yr_renovated'],\n",
       "      dtype='object')"
      ]
     },
     "execution_count": 114,
     "metadata": {},
     "output_type": "execute_result"
    }
   ],
   "source": [
    "df.columns"
   ]
  },
  {
   "cell_type": "code",
   "execution_count": 115,
   "id": "2a506294",
   "metadata": {},
   "outputs": [],
   "source": [
    "# sns.heatmap(df.corr(),annot=True)"
   ]
  },
  {
   "cell_type": "code",
   "execution_count": 116,
   "id": "f11d601c",
   "metadata": {},
   "outputs": [],
   "source": [
    "# we can drop the hieglt co-relatted coloumn but here in am not doing"
   ]
  },
  {
   "cell_type": "code",
   "execution_count": 117,
   "id": "498b5dd7",
   "metadata": {},
   "outputs": [
    {
     "data": {
      "application/javascript": [
       "\n",
       "        if (window._pyforest_update_imports_cell) { window._pyforest_update_imports_cell('import seaborn as sns\\nimport pandas as pd\\nimport numpy as np\\nimport matplotlib.pyplot as plt'); }\n",
       "    "
      ],
      "text/plain": [
       "<IPython.core.display.Javascript object>"
      ]
     },
     "metadata": {},
     "output_type": "display_data"
    },
    {
     "name": "stderr",
     "output_type": "stream",
     "text": [
      "E:\\Anaconda\\lib\\site-packages\\seaborn\\_decorators.py:36: FutureWarning: Pass the following variable as a keyword arg: x. From version 0.12, the only valid positional argument will be `data`, and passing other arguments without an explicit keyword will result in an error or misinterpretation.\n",
      "  warnings.warn(\n"
     ]
    },
    {
     "data": {
      "application/javascript": [
       "\n",
       "        if (window._pyforest_update_imports_cell) { window._pyforest_update_imports_cell('import seaborn as sns\\nimport pandas as pd\\nimport numpy as np\\nimport matplotlib.pyplot as plt'); }\n",
       "    "
      ],
      "text/plain": [
       "<IPython.core.display.Javascript object>"
      ]
     },
     "metadata": {},
     "output_type": "display_data"
    },
    {
     "data": {
      "image/png": "[encoded data removed]",
      "text/plain": [
       "<Figure size 640x480 with 1 Axes>"
      ]
     },
     "metadata": {},
     "output_type": "display_data"
    },
    {
     "data": {
      "application/javascript": [
       "\n",
       "        if (window._pyforest_update_imports_cell) { window._pyforest_update_imports_cell('import seaborn as sns\\nimport pandas as pd\\nimport numpy as np\\nimport matplotlib.pyplot as plt'); }\n",
       "    "
      ],
      "text/plain": [
       "<IPython.core.display.Javascript object>"
      ]
     },
     "metadata": {},
     "output_type": "display_data"
    },
    {
     "name": "stderr",
     "output_type": "stream",
     "text": [
      "E:\\Anaconda\\lib\\site-packages\\seaborn\\_decorators.py:36: FutureWarning: Pass the following variable as a keyword arg: x. From version 0.12, the only valid positional argument will be `data`, and passing other arguments without an explicit keyword will result in an error or misinterpretation.\n",
      "  warnings.warn(\n"
     ]
    },
    {
     "data": {
      "application/javascript": [
       "\n",
       "        if (window._pyforest_update_imports_cell) { window._pyforest_update_imports_cell('import seaborn as sns\\nimport pandas as pd\\nimport numpy as np\\nimport matplotlib.pyplot as plt'); }\n",
       "    "
      ],
      "text/plain": [
       "<IPython.core.display.Javascript object>"
      ]
     },
     "metadata": {},
     "output_type": "display_data"
    },
    {
     "data": {
      "image/png": "[encoded data removed]",
      "text/plain": [
       "<Figure size 640x480 with 1 Axes>"
      ]
     },
     "metadata": {},
     "output_type": "display_data"
    },
    {
     "data": {
      "application/javascript": [
       "\n",
       "        if (window._pyforest_update_imports_cell) { window._pyforest_update_imports_cell('import seaborn as sns\\nimport pandas as pd\\nimport numpy as np\\nimport matplotlib.pyplot as plt'); }\n",
       "    "
      ],
      "text/plain": [
       "<IPython.core.display.Javascript object>"
      ]
     },
     "metadata": {},
     "output_type": "display_data"
    },
    {
     "name": "stderr",
     "output_type": "stream",
     "text": [
      "E:\\Anaconda\\lib\\site-packages\\seaborn\\_decorators.py:36: FutureWarning: Pass the following variable as a keyword arg: x. From version 0.12, the only valid positional argument will be `data`, and passing other arguments without an explicit keyword will result in an error or misinterpretation.\n",
      "  warnings.warn(\n"
     ]
    },
    {
     "data": {
      "application/javascript": [
       "\n",
       "        if (window._pyforest_update_imports_cell) { window._pyforest_update_imports_cell('import seaborn as sns\\nimport pandas as pd\\nimport numpy as np\\nimport matplotlib.pyplot as plt'); }\n",
       "    "
      ],
      "text/plain": [
       "<IPython.core.display.Javascript object>"
      ]
     },
     "metadata": {},
     "output_type": "display_data"
    },
    {
     "data": {
      "image/png": "[encoded data removed]",
      "text/plain": [
       "<Figure size 640x480 with 1 Axes>"
      ]
     },
     "metadata": {},
     "output_type": "display_data"
    },
    {
     "data": {
      "application/javascript": [
       "\n",
       "        if (window._pyforest_update_imports_cell) { window._pyforest_update_imports_cell('import seaborn as sns\\nimport pandas as pd\\nimport numpy as np\\nimport matplotlib.pyplot as plt'); }\n",
       "    "
      ],
      "text/plain": [
       "<IPython.core.display.Javascript object>"
      ]
     },
     "metadata": {},
     "output_type": "display_data"
    },
    {
     "name": "stderr",
     "output_type": "stream",
     "text": [
      "E:\\Anaconda\\lib\\site-packages\\seaborn\\_decorators.py:36: FutureWarning: Pass the following variable as a keyword arg: x. From version 0.12, the only valid positional argument will be `data`, and passing other arguments without an explicit keyword will result in an error or misinterpretation.\n",
      "  warnings.warn(\n"
     ]
    },
    {
     "data": {
      "application/javascript": [
       "\n",
       "        if (window._pyforest_update_imports_cell) { window._pyforest_update_imports_cell('import seaborn as sns\\nimport pandas as pd\\nimport numpy as np\\nimport matplotlib.pyplot as plt'); }\n",
       "    "
      ],
      "text/plain": [
       "<IPython.core.display.Javascript object>"
      ]
     },
     "metadata": {},
     "output_type": "display_data"
    },
    {
     "data": {
      "image/png": "[encoded data removed]",
      "text/plain": [
       "<Figure size 640x480 with 1 Axes>"
      ]
     },
     "metadata": {},
     "output_type": "display_data"
    },
    {
     "data": {
      "application/javascript": [
       "\n",
       "        if (window._pyforest_update_imports_cell) { window._pyforest_update_imports_cell('import seaborn as sns\\nimport pandas as pd\\nimport numpy as np\\nimport matplotlib.pyplot as plt'); }\n",
       "    "
      ],
      "text/plain": [
       "<IPython.core.display.Javascript object>"
      ]
     },
     "metadata": {},
     "output_type": "display_data"
    },
    {
     "name": "stderr",
     "output_type": "stream",
     "text": [
      "E:\\Anaconda\\lib\\site-packages\\seaborn\\_decorators.py:36: FutureWarning: Pass the following variable as a keyword arg: x. From version 0.12, the only valid positional argument will be `data`, and passing other arguments without an explicit keyword will result in an error or misinterpretation.\n",
      "  warnings.warn(\n"
     ]
    },
    {
     "data": {
      "application/javascript": [
       "\n",
       "        if (window._pyforest_update_imports_cell) { window._pyforest_update_imports_cell('import seaborn as sns\\nimport pandas as pd\\nimport numpy as np\\nimport matplotlib.pyplot as plt'); }\n",
       "    "
      ],
      "text/plain": [
       "<IPython.core.display.Javascript object>"
      ]
     },
     "metadata": {},
     "output_type": "display_data"
    },
    {
     "data": {
      "image/png": "[encoded data removed]",
      "text/plain": [
       "<Figure size 640x480 with 1 Axes>"
      ]
     },
     "metadata": {},
     "output_type": "display_data"
    },
    {
     "data": {
      "application/javascript": [
       "\n",
       "        if (window._pyforest_update_imports_cell) { window._pyforest_update_imports_cell('import seaborn as sns\\nimport pandas as pd\\nimport numpy as np\\nimport matplotlib.pyplot as plt'); }\n",
       "    "
      ],
      "text/plain": [
       "<IPython.core.display.Javascript object>"
      ]
     },
     "metadata": {},
     "output_type": "display_data"
    },
    {
     "name": "stderr",
     "output_type": "stream",
     "text": [
      "E:\\Anaconda\\lib\\site-packages\\seaborn\\_decorators.py:36: FutureWarning: Pass the following variable as a keyword arg: x. From version 0.12, the only valid positional argument will be `data`, and passing other arguments without an explicit keyword will result in an error or misinterpretation.\n",
      "  warnings.warn(\n"
     ]
    },
    {
     "data": {
      "application/javascript": [
       "\n",
       "        if (window._pyforest_update_imports_cell) { window._pyforest_update_imports_cell('import seaborn as sns\\nimport pandas as pd\\nimport numpy as np\\nimport matplotlib.pyplot as plt'); }\n",
       "    "
      ],
      "text/plain": [
       "<IPython.core.display.Javascript object>"
      ]
     },
     "metadata": {},
     "output_type": "display_data"
    },
    {
     "data": {
      "image/png": "[encoded data removed]",
      "text/plain": [
       "<Figure size 640x480 with 1 Axes>"
      ]
     },
     "metadata": {},
     "output_type": "display_data"
    },
    {
     "data": {
      "application/javascript": [
       "\n",
       "        if (window._pyforest_update_imports_cell) { window._pyforest_update_imports_cell('import seaborn as sns\\nimport pandas as pd\\nimport numpy as np\\nimport matplotlib.pyplot as plt'); }\n",
       "    "
      ],
      "text/plain": [
       "<IPython.core.display.Javascript object>"
      ]
     },
     "metadata": {},
     "output_type": "display_data"
    },
    {
     "name": "stderr",
     "output_type": "stream",
     "text": [
      "E:\\Anaconda\\lib\\site-packages\\seaborn\\_decorators.py:36: FutureWarning: Pass the following variable as a keyword arg: x. From version 0.12, the only valid positional argument will be `data`, and passing other arguments without an explicit keyword will result in an error or misinterpretation.\n",
      "  warnings.warn(\n"
     ]
    },
    {
     "data": {
      "application/javascript": [
       "\n",
       "        if (window._pyforest_update_imports_cell) { window._pyforest_update_imports_cell('import seaborn as sns\\nimport pandas as pd\\nimport numpy as np\\nimport matplotlib.pyplot as plt'); }\n",
       "    "
      ],
      "text/plain": [
       "<IPython.core.display.Javascript object>"
      ]
     },
     "metadata": {},
     "output_type": "display_data"
    },
    {
     "data": {
      "image/png": "[encoded data removed]",
      "text/plain": [
       "<Figure size 640x480 with 1 Axes>"
      ]
     },
     "metadata": {},
     "output_type": "display_data"
    },
    {
     "data": {
      "application/javascript": [
       "\n",
       "        if (window._pyforest_update_imports_cell) { window._pyforest_update_imports_cell('import seaborn as sns\\nimport pandas as pd\\nimport numpy as np\\nimport matplotlib.pyplot as plt'); }\n",
       "    "
      ],
      "text/plain": [
       "<IPython.core.display.Javascript object>"
      ]
     },
     "metadata": {},
     "output_type": "display_data"
    },
    {
     "name": "stderr",
     "output_type": "stream",
     "text": [
      "E:\\Anaconda\\lib\\site-packages\\seaborn\\_decorators.py:36: FutureWarning: Pass the following variable as a keyword arg: x. From version 0.12, the only valid positional argument will be `data`, and passing other arguments without an explicit keyword will result in an error or misinterpretation.\n",
      "  warnings.warn(\n"
     ]
    },
    {
     "data": {
      "application/javascript": [
       "\n",
       "        if (window._pyforest_update_imports_cell) { window._pyforest_update_imports_cell('import seaborn as sns\\nimport pandas as pd\\nimport numpy as np\\nimport matplotlib.pyplot as plt'); }\n",
       "    "
      ],
      "text/plain": [
       "<IPython.core.display.Javascript object>"
      ]
     },
     "metadata": {},
     "output_type": "display_data"
    },
    {
     "data": {
      "image/png": "[encoded data removed]",
      "text/plain": [
       "<Figure size 640x480 with 1 Axes>"
      ]
     },
     "metadata": {},
     "output_type": "display_data"
    },
    {
     "data": {
      "application/javascript": [
       "\n",
       "        if (window._pyforest_update_imports_cell) { window._pyforest_update_imports_cell('import seaborn as sns\\nimport pandas as pd\\nimport numpy as np\\nimport matplotlib.pyplot as plt'); }\n",
       "    "
      ],
      "text/plain": [
       "<IPython.core.display.Javascript object>"
      ]
     },
     "metadata": {},
     "output_type": "display_data"
    },
    {
     "name": "stderr",
     "output_type": "stream",
     "text": [
      "E:\\Anaconda\\lib\\site-packages\\seaborn\\_decorators.py:36: FutureWarning: Pass the following variable as a keyword arg: x. From version 0.12, the only valid positional argument will be `data`, and passing other arguments without an explicit keyword will result in an error or misinterpretation.\n",
      "  warnings.warn(\n"
     ]
    },
    {
     "data": {
      "application/javascript": [
       "\n",
       "        if (window._pyforest_update_imports_cell) { window._pyforest_update_imports_cell('import seaborn as sns\\nimport pandas as pd\\nimport numpy as np\\nimport matplotlib.pyplot as plt'); }\n",
       "    "
      ],
      "text/plain": [
       "<IPython.core.display.Javascript object>"
      ]
     },
     "metadata": {},
     "output_type": "display_data"
    },
    {
     "data": {
      "image/png": "[encoded data removed]",
      "text/plain": [
       "<Figure size 640x480 with 1 Axes>"
      ]
     },
     "metadata": {},
     "output_type": "display_data"
    },
    {
     "data": {
      "application/javascript": [
       "\n",
       "        if (window._pyforest_update_imports_cell) { window._pyforest_update_imports_cell('import seaborn as sns\\nimport pandas as pd\\nimport numpy as np\\nimport matplotlib.pyplot as plt'); }\n",
       "    "
      ],
      "text/plain": [
       "<IPython.core.display.Javascript object>"
      ]
     },
     "metadata": {},
     "output_type": "display_data"
    },
    {
     "name": "stderr",
     "output_type": "stream",
     "text": [
      "E:\\Anaconda\\lib\\site-packages\\seaborn\\_decorators.py:36: FutureWarning: Pass the following variable as a keyword arg: x. From version 0.12, the only valid positional argument will be `data`, and passing other arguments without an explicit keyword will result in an error or misinterpretation.\n",
      "  warnings.warn(\n"
     ]
    },
    {
     "data": {
      "application/javascript": [
       "\n",
       "        if (window._pyforest_update_imports_cell) { window._pyforest_update_imports_cell('import seaborn as sns\\nimport pandas as pd\\nimport numpy as np\\nimport matplotlib.pyplot as plt'); }\n",
       "    "
      ],
      "text/plain": [
       "<IPython.core.display.Javascript object>"
      ]
     },
     "metadata": {},
     "output_type": "display_data"
    },
    {
     "data": {
      "image/png": "[encoded data removed]",
      "text/plain": [
       "<Figure size 640x480 with 1 Axes>"
      ]
     },
     "metadata": {},
     "output_type": "display_data"
    },
    {
     "data": {
      "application/javascript": [
       "\n",
       "        if (window._pyforest_update_imports_cell) { window._pyforest_update_imports_cell('import seaborn as sns\\nimport pandas as pd\\nimport numpy as np\\nimport matplotlib.pyplot as plt'); }\n",
       "    "
      ],
      "text/plain": [
       "<IPython.core.display.Javascript object>"
      ]
     },
     "metadata": {},
     "output_type": "display_data"
    },
    {
     "name": "stderr",
     "output_type": "stream",
     "text": [
      "E:\\Anaconda\\lib\\site-packages\\seaborn\\_decorators.py:36: FutureWarning: Pass the following variable as a keyword arg: x. From version 0.12, the only valid positional argument will be `data`, and passing other arguments without an explicit keyword will result in an error or misinterpretation.\n",
      "  warnings.warn(\n"
     ]
    },
    {
     "data": {
      "application/javascript": [
       "\n",
       "        if (window._pyforest_update_imports_cell) { window._pyforest_update_imports_cell('import seaborn as sns\\nimport pandas as pd\\nimport numpy as np\\nimport matplotlib.pyplot as plt'); }\n",
       "    "
      ],
      "text/plain": [
       "<IPython.core.display.Javascript object>"
      ]
     },
     "metadata": {},
     "output_type": "display_data"
    },
    {
     "data": {
      "image/png": "[encoded data removed]",
      "text/plain": [
       "<Figure size 640x480 with 1 Axes>"
      ]
     },
     "metadata": {},
     "output_type": "display_data"
    },
    {
     "data": {
      "application/javascript": [
       "\n",
       "        if (window._pyforest_update_imports_cell) { window._pyforest_update_imports_cell('import seaborn as sns\\nimport pandas as pd\\nimport numpy as np\\nimport matplotlib.pyplot as plt'); }\n",
       "    "
      ],
      "text/plain": [
       "<IPython.core.display.Javascript object>"
      ]
     },
     "metadata": {},
     "output_type": "display_data"
    },
    {
     "name": "stderr",
     "output_type": "stream",
     "text": [
      "E:\\Anaconda\\lib\\site-packages\\seaborn\\_decorators.py:36: FutureWarning: Pass the following variable as a keyword arg: x. From version 0.12, the only valid positional argument will be `data`, and passing other arguments without an explicit keyword will result in an error or misinterpretation.\n",
      "  warnings.warn(\n"
     ]
    },
    {
     "data": {
      "application/javascript": [
       "\n",
       "        if (window._pyforest_update_imports_cell) { window._pyforest_update_imports_cell('import seaborn as sns\\nimport pandas as pd\\nimport numpy as np\\nimport matplotlib.pyplot as plt'); }\n",
       "    "
      ],
      "text/plain": [
       "<IPython.core.display.Javascript object>"
      ]
     },
     "metadata": {},
     "output_type": "display_data"
    },
    {
     "data": {
      "image/png": "[encoded data removed]",
      "text/plain": [
       "<Figure size 640x480 with 1 Axes>"
      ]
     },
     "metadata": {},
     "output_type": "display_data"
    }
   ],
   "source": [
    "for i in df.describe().columns:\n",
    "    sns.boxplot(df[i])\n",
    "    plt.show()"
   ]
  },
  {
   "cell_type": "code",
   "execution_count": 118,
   "id": "10b8c700",
   "metadata": {},
   "outputs": [],
   "source": [
    "# Dealing with the interquantilt range \n",
    "def find_outlier(df,col):\n",
    "    \n",
    "    global upper,lower\n",
    "    \n",
    "    first_qrt,third_qrt = np.percentile(df[col],25) , np.percentile(df[col],75)\n",
    "    \n",
    "    iqr= third_qrt - first_qrt\n",
    "    \n",
    "    cutoff=iqr*1.5\n",
    "    \n",
    "    lower ,upper =first_qrt-cutoff ,third_qrt+cutoff\n",
    "    \n",
    "    upper_outlier = df[df[col]>upper]\n",
    "    lower_outlier = df[df[col]<lower]\n",
    "    \n",
    "    print(\"the upper outlier are : {}\".format(upper_outlier.shape[0]))\n",
    "    print(\"the lower outlier are : {}\".format(lower_outlier.shape[0]))\n",
    "    print(\"the total outlier are \\n: {}\".format(upper_outlier + lower_outlier))\n",
    "\n",
    "    "
   ]
  },
  {
   "cell_type": "code",
   "execution_count": 119,
   "id": "c9f147e8",
   "metadata": {},
   "outputs": [
    {
     "data": {
      "application/javascript": [
       "\n",
       "        if (window._pyforest_update_imports_cell) { window._pyforest_update_imports_cell('import seaborn as sns\\nimport pandas as pd\\nimport numpy as np\\nimport matplotlib.pyplot as plt'); }\n",
       "    "
      ],
      "text/plain": [
       "<IPython.core.display.Javascript object>"
      ]
     },
     "metadata": {},
     "output_type": "display_data"
    },
    {
     "data": {
      "application/javascript": [
       "\n",
       "        if (window._pyforest_update_imports_cell) { window._pyforest_update_imports_cell('import seaborn as sns\\nimport pandas as pd\\nimport numpy as np\\nimport matplotlib.pyplot as plt'); }\n",
       "    "
      ],
      "text/plain": [
       "<IPython.core.display.Javascript object>"
      ]
     },
     "metadata": {},
     "output_type": "display_data"
    },
    {
     "name": "stdout",
     "output_type": "stream",
     "text": [
      "the upper outlier are : 1146\n",
      "the lower outlier are : 0\n",
      "the total outlier are \n",
      ":        price  bedrooms  bathrooms  sqft_living  sqft_lot  floors  view  \\\n",
      "5        NaN       NaN        NaN          NaN       NaN     NaN   NaN   \n",
      "21       NaN       NaN        NaN          NaN       NaN     NaN   NaN   \n",
      "49       NaN       NaN        NaN          NaN       NaN     NaN   NaN   \n",
      "69       NaN       NaN        NaN          NaN       NaN     NaN   NaN   \n",
      "125      NaN       NaN        NaN          NaN       NaN     NaN   NaN   \n",
      "...      ...       ...        ...          ...       ...     ...   ...   \n",
      "21568    NaN       NaN        NaN          NaN       NaN     NaN   NaN   \n",
      "21576    NaN       NaN        NaN          NaN       NaN     NaN   NaN   \n",
      "21590    NaN       NaN        NaN          NaN       NaN     NaN   NaN   \n",
      "21597    NaN       NaN        NaN          NaN       NaN     NaN   NaN   \n",
      "21600    NaN       NaN        NaN          NaN       NaN     NaN   NaN   \n",
      "\n",
      "       condition  grade  yr_built  age_house  after_yr_renovated  \n",
      "5            NaN    NaN       NaN        NaN                 NaN  \n",
      "21           NaN    NaN       NaN        NaN                 NaN  \n",
      "49           NaN    NaN       NaN        NaN                 NaN  \n",
      "69           NaN    NaN       NaN        NaN                 NaN  \n",
      "125          NaN    NaN       NaN        NaN                 NaN  \n",
      "...          ...    ...       ...        ...                 ...  \n",
      "21568        NaN    NaN       NaN        NaN                 NaN  \n",
      "21576        NaN    NaN       NaN        NaN                 NaN  \n",
      "21590        NaN    NaN       NaN        NaN                 NaN  \n",
      "21597        NaN    NaN       NaN        NaN                 NaN  \n",
      "21600        NaN    NaN       NaN        NaN                 NaN  \n",
      "\n",
      "[1146 rows x 12 columns]\n"
     ]
    }
   ],
   "source": [
    "out=find_outlier(df,'price')\n",
    "out"
   ]
  },
  {
   "cell_type": "code",
   "execution_count": 120,
   "id": "3c0653e0",
   "metadata": {},
   "outputs": [
    {
     "name": "stdout",
     "output_type": "stream",
     "text": [
      "None\n"
     ]
    }
   ],
   "source": [
    "print(out)"
   ]
  },
  {
   "cell_type": "code",
   "execution_count": 121,
   "id": "29c319df",
   "metadata": {},
   "outputs": [
    {
     "data": {
      "application/javascript": [
       "\n",
       "        if (window._pyforest_update_imports_cell) { window._pyforest_update_imports_cell('import seaborn as sns\\nimport pandas as pd\\nimport numpy as np\\nimport matplotlib.pyplot as plt'); }\n",
       "    "
      ],
      "text/plain": [
       "<IPython.core.display.Javascript object>"
      ]
     },
     "metadata": {},
     "output_type": "display_data"
    },
    {
     "name": "stderr",
     "output_type": "stream",
     "text": [
      "E:\\Anaconda\\lib\\site-packages\\seaborn\\distributions.py:2619: FutureWarning: `distplot` is a deprecated function and will be removed in a future version. Please adapt your code to use either `displot` (a figure-level function with similar flexibility) or `histplot` (an axes-level function for histograms).\n",
      "  warnings.warn(msg, FutureWarning)\n"
     ]
    },
    {
     "name": "stdout",
     "output_type": "stream",
     "text": [
      "1129575.0\n",
      "-162625.0\n"
     ]
    },
    {
     "data": {
      "application/javascript": [
       "\n",
       "        if (window._pyforest_update_imports_cell) { window._pyforest_update_imports_cell('import seaborn as sns\\nimport pandas as pd\\nimport numpy as np\\nimport matplotlib.pyplot as plt'); }\n",
       "    "
      ],
      "text/plain": [
       "<IPython.core.display.Javascript object>"
      ]
     },
     "metadata": {},
     "output_type": "display_data"
    },
    {
     "data": {
      "application/javascript": [
       "\n",
       "        if (window._pyforest_update_imports_cell) { window._pyforest_update_imports_cell('import seaborn as sns\\nimport pandas as pd\\nimport numpy as np\\nimport matplotlib.pyplot as plt'); }\n",
       "    "
      ],
      "text/plain": [
       "<IPython.core.display.Javascript object>"
      ]
     },
     "metadata": {},
     "output_type": "display_data"
    },
    {
     "data": {
      "application/javascript": [
       "\n",
       "        if (window._pyforest_update_imports_cell) { window._pyforest_update_imports_cell('import seaborn as sns\\nimport pandas as pd\\nimport numpy as np\\nimport matplotlib.pyplot as plt'); }\n",
       "    "
      ],
      "text/plain": [
       "<IPython.core.display.Javascript object>"
      ]
     },
     "metadata": {},
     "output_type": "display_data"
    },
    {
     "data": {
      "text/plain": [
       "<matplotlib.legend.Legend at 0x2c6903e2a00>"
      ]
     },
     "execution_count": 121,
     "metadata": {},
     "output_type": "execute_result"
    },
    {
     "data": {
      "image/png": "[encoded data removed]",
      "text/plain": [
       "<Figure size 640x480 with 1 Axes>"
      ]
     },
     "metadata": {},
     "output_type": "display_data"
    }
   ],
   "source": [
    "sns.distplot(df['price'] ,kde=True)\n",
    "print(upper)\n",
    "print(lower)\n",
    "plt.axvspan(xmin=lower , xmax=df['price'].min(),alpha=0.2 ,color='blue' ,label='Lower Outlier')\n",
    "plt.axvspan(xmin=upper , xmax=df['price'].max(),alpha=0.2 ,color='red' ,label='High Outlier')\n",
    "plt.legend()\n"
   ]
  },
  {
   "cell_type": "code",
   "execution_count": 122,
   "id": "d382a2f0",
   "metadata": {},
   "outputs": [],
   "source": [
    "def find_outlier_from_zscore(df,col):\n",
    "    global up ,low\n",
    "    z=[]\n",
    "    outliers=[]\n",
    "    treshhold=3\n",
    "    \n",
    "    mean=np.mean(df[col])\n",
    "    std=np.std(df[col])\n",
    "    \n",
    "    for i in df[col]:\n",
    "        a=((i-mean)/std)\n",
    "        \n",
    "        if abs(a) > treshhold:\n",
    "            z.append(abs(a))\n",
    "            outliers.append(i)\n",
    "           \n",
    "    \n",
    "    number_of_outlier=len(z)\n",
    "    outlier_in_actual_dataset=outliers\n",
    "    outlier_after_zscore=z\n",
    "    \n",
    "    return number_of_outlier, outlier_in_actual_dataset ,outlier_after_zscore\n"
   ]
  },
  {
   "cell_type": "code",
   "execution_count": 123,
   "id": "57073d75",
   "metadata": {},
   "outputs": [
    {
     "data": {
      "application/javascript": [
       "\n",
       "        if (window._pyforest_update_imports_cell) { window._pyforest_update_imports_cell('import seaborn as sns\\nimport pandas as pd\\nimport numpy as np\\nimport matplotlib.pyplot as plt'); }\n",
       "    "
      ],
      "text/plain": [
       "<IPython.core.display.Javascript object>"
      ]
     },
     "metadata": {},
     "output_type": "display_data"
    },
    {
     "data": {
      "application/javascript": [
       "\n",
       "        if (window._pyforest_update_imports_cell) { window._pyforest_update_imports_cell('import seaborn as sns\\nimport pandas as pd\\nimport numpy as np\\nimport matplotlib.pyplot as plt'); }\n",
       "    "
      ],
      "text/plain": [
       "<IPython.core.display.Javascript object>"
      ]
     },
     "metadata": {},
     "output_type": "display_data"
    },
    {
     "name": "stdout",
     "output_type": "stream",
     "text": [
      "number_of_outlier 406\n",
      "\n",
      "outlier_in_actual_dataset [2000000.0, 2250000.0, 2400000.0, 2900000.0, 2050000.0, 3075000.0, 2384000.0, 2250000.0, 2125000.0, 1950000.0, 3070000.0, 2250000.0, 2400000.0, 2450000.0, 1955000.0, 1750000.0, 5110800.0, 1875000.0, 2300000.0, 2260000.0, 5300000.0, 2200000.0, 1700000.0, 2537000.0, 5350000.0, 2250000.0, 1679000.0, 1928000.0, 2350000.0, 1715000.0, 2400000.0, 2532000.0, 3850000.0, 1735000.0, 1700000.0, 1650000.0, 1680000.0, 1760000.0, 2750000.0, 1810000.0, 3278000.0, 1700000.0, 1865000.0, 1650000.0, 4500000.0, 1835000.0, 3600000.0, 3000000.0, 2950000.0, 2525000.0, 1799000.0, 2298000.0, 2288000.0, 1899000.0, 1901000.0, 1900000.0, 1965000.0, 1675000.0, 2075000.0, 2544750.0, 2095000.0, 2453500.0, 2450000.0, 1905000.0, 1740000.0, 1650000.0, 2890000.0, 2200000.0, 2950000.0, 7062500.0, 2400000.0, 2500000.0, 2150000.0, 4000000.0, 2880500.0, 1875000.0, 2400000.0, 2125000.0, 2050000.0, 1705000.0, 5570000.0, 1670000.0, 2000000.0, 2485000.0, 1850000.0, 2479000.0, 2048000.0, 1895000.0, 1940000.0, 1740000.0, 2850000.0, 1780000.0, 1880000.0, 1691000.0, 2400000.0, 2466350.0, 1850000.0, 1697000.0, 1795000.0, 1727000.0, 3418800.0, 2725000.0, 2385000.0, 2196000.0, 2400000.0, 1695000.0, 2200000.0, 1965220.0, 2903000.0, 1925000.0, 1940000.0, 3650000.0, 1998000.0, 2650000.0, 1875000.0, 2700000.0, 2250000.0, 1900000.0, 2175000.0, 3800000.0, 1650000.0, 1735000.0, 3200000.0, 7700000.0, 2500000.0, 3100000.0, 1775000.0, 1975000.0, 2575000.0, 2500000.0, 1700000.0, 2538000.0, 2150000.0, 1646000.0, 1900000.0, 3200000.0, 1824100.0, 2900000.0, 3400000.0, 1851000.0, 4668000.0, 1865000.0, 2450000.0, 2193000.0, 1655000.0, 2140000.0, 4489000.0, 1800000.0, 1910000.0, 1955000.0, 1680000.0, 6885000.0, 1680000.0, 2575000.0, 1925000.0, 1698000.0, 2375000.0, 1795000.0, 1780000.0, 1755000.0, 1695000.0, 1648000.0, 1730000.0, 1738000.0, 1695000.0, 1900000.0, 2700000.0, 2983000.0, 3400000.0, 3120000.0, 2000000.0, 1700000.0, 1700000.0, 1688000.0, 1769000.0, 1650000.0, 1662000.0, 1820000.0, 2555000.0, 1699000.0, 3000000.0, 2100000.0, 1800000.0, 1705000.0, 2300000.0, 2750000.0, 1655000.0, 3200000.0, 1750000.0, 2795000.0, 1730000.0, 2200000.0, 1850000.0, 1785000.0, 1950000.0, 2575000.0, 3000000.0, 2135000.0, 1665000.0, 1959000.0, 1650000.0, 1712750.0, 1650000.0, 4208000.0, 1900000.0, 1890000.0, 1960000.0, 2000000.0, 2535000.0, 1850000.0, 2408000.0, 2280000.0, 1749000.0, 3100000.0, 2300000.0, 1698890.0, 2250000.0, 1700000.0, 1651000.0, 2546000.0, 1800000.0, 2000000.0, 1999000.0, 1688000.0, 1822500.0, 2415000.0, 1650000.0, 3168750.0, 1775000.0, 1762000.0, 1900000.0, 2340000.0, 2600000.0, 1712500.0, 1810000.0, 1795000.0, 1886700.0, 3395000.0, 1815000.0, 2885000.0, 1680000.0, 2750000.0, 3300000.0, 2110000.0, 2225000.0, 2200000.0, 1950000.0, 1690000.0, 1800000.0, 2200000.0, 2400000.0, 1989000.0, 2888000.0, 2230000.0, 1900000.0, 2600000.0, 2450000.0, 2000000.0, 1770000.0, 2152500.0, 1950000.0, 1755000.0, 2200000.0, 1900000.0, 2300000.0, 3640900.0, 3065000.0, 1675000.0, 1950000.0, 1650000.0, 3200000.0, 1800000.0, 2300000.0, 1825000.0, 1681000.0, 2271150.0, 1715000.0, 1680000.0, 1850000.0, 1675000.0, 1690000.0, 2480000.0, 1925000.0, 1815000.0, 1950000.0, 2328000.0, 3710000.0, 1660000.0, 1750000.0, 1875000.0, 1980000.0, 1810000.0, 2195000.0, 2140000.0, 1920000.0, 1650000.0, 2574000.0, 2500000.0, 2300000.0, 3100000.0, 2187730.0, 1776000.0, 2500000.0, 1880000.0, 1970000.0, 2250000.0, 1735000.0, 2225000.0, 1802750.0, 1870000.0, 2510000.0, 1650000.0, 2005000.0, 2050000.0, 1650000.0, 2458000.0, 2027000.0, 1990000.0, 1735000.0, 1695000.0, 1680000.0, 1702500.0, 3300000.0, 1855000.0, 2367000.0, 2475000.0, 1862000.0, 3300000.0, 2920000.0, 2630000.0, 1728000.0, 2700000.0, 3300000.0, 3650000.0, 1650000.0, 2950000.0, 2147500.0, 1700000.0, 2680000.0, 1675000.0, 1945000.0, 2180000.0, 1920000.0, 3800000.0, 3635000.0, 2000000.0, 2720000.0, 1800000.0, 2160000.0, 1950000.0, 1900000.0, 2395000.0, 1980000.0, 1850000.0, 2205000.0, 1680000.0, 2250000.0, 2641100.0, 2320000.0, 1710000.0, 2700000.0, 1695000.0, 1898000.0, 2700000.0, 1750000.0, 2250000.0, 2945000.0, 1750000.0, 1789950.0, 2150000.0, 2225000.0, 3204000.0, 3000000.0, 2350000.0, 1800000.0, 2998000.0, 3345000.0, 1800000.0, 1699990.0, 1898000.0, 2950000.0, 2321000.0, 2300000.0, 1900000.0, 1750000.0, 1940000.0, 1830000.0, 2900000.0, 1880000.0, 1800000.0, 1839900.0, 2230000.0, 2351960.0, 1698000.0, 1999950.0, 2065000.0, 1765000.0, 1987500.0, 1750000.0, 1720000.0, 2238890.0, 1865000.0, 3000000.0, 1881580.0, 1700000.0, 3567000.0]\n",
      "\n",
      "\n",
      "\n",
      "\n",
      "\n",
      "outlier_after_zscore [3.9766752431357664, 4.657653896180554, 5.066241088007426, 6.428198394097001, 4.112870973744724, 6.904883451228352, 5.02265845421256, 4.657653896180554, 4.31716456965816, 3.8404795125268087, 6.8912638781674564, 4.657653896180554, 5.066241088007426, 5.202436818616384, 3.8540990855877046, 3.2956965900909787, 12.450228818702666, 3.6361859166133725, 4.793849626789512, 4.684893042302345, 12.965593463326961, 4.521458165571596, 3.159500859482021, 5.4394173898759695, 13.10178919393592, 4.657653896180554, 3.102298652626259, 3.7805533910588673, 4.930045357398469, 3.2003595786647083, 5.066241088007426, 5.4257978168150744, 9.015917275667194, 3.2548378709082915, 3.159500859482021, 3.0233051288730635, 3.105022567238438, 3.32293573621277, 6.019611202270129, 3.4591314668217277, 7.45783811750072, 3.159500859482021, 3.6089467704915807, 3.0233051288730635, 10.78646177358364, 3.5272293321262063, 8.334938622622406, 6.700589855314917, 6.5643941247059585, 5.40673041452982, 3.429168406087757, 4.788401797565153, 4.761162651443361, 3.701559867305672, 3.7070076965300305, 3.704283781917851, 3.881338231709496, 3.0914029941775425, 4.180968839049203, 5.460527728120359, 4.235447131292785, 5.211970519759011, 5.202436818616384, 3.717903354978747, 3.2684574439691874, 3.0233051288730635, 6.4009592479752095, 4.521458165571596, 6.5643941247059585, 17.766492967292713, 5.066241088007426, 5.338632549225341, 4.385262434962638, 9.424504467494067, 6.375082059159508, 3.6361859166133725, 5.066241088007426, 4.31716456965816, 4.112870973744724, 3.173120432542917, 13.701050408615332, 3.0777834211166466, 3.9766752431357664, 5.2977738300426545, 3.5680880513088935, 5.281430342369579, 4.107423144520365, 3.6906642088569552, 3.8132403664050174, 3.2684574439691874, 6.292002663488044, 3.377414028456353, 3.649805489674268, 3.1349856279724087, 5.066241088007426, 5.246972822525513, 3.5680880513088935, 3.151329115645484, 3.4182727476390404, 3.2330465540108584, 7.841365294895544, 5.95151333696565, 5.025382368824739, 4.51056250712288, 5.066241088007426, 3.145881286421125, 4.521458165571596, 3.8819374929241754, 6.4363701379335385, 3.7723816472223297, 3.8132403664050174, 8.471134353231363, 3.971227413911408, 5.747219741052214, 3.6361859166133725, 5.883415471661172, 4.657653896180554, 3.704283781917851, 4.453360300267118, 8.879721545058237, 3.0233051288730635, 3.2548378709082915, 7.245372777750746, 19.502988532556923, 5.338632549225341, 6.972981316532832, 3.3637944553954573, 3.9085773778312873, 5.542926145138778, 5.338632549225341, 3.159500859482021, 5.442141304488149, 4.385262434962638, 3.012409470424347, 3.704283781917851, 7.245372777750746, 3.4975386628534535, 6.428198394097001, 7.790155700186577, 3.570811965921073, 11.244079428429739, 3.6089467704915807, 5.202436818616384, 4.502390763286342, 3.0369247019339594, 4.358023288840847, 10.756498712849671, 3.4318923206999363, 3.7315229280396425, 3.8540990855877046, 3.105022567238438, 17.282998123630914, 3.105022567238438, 5.542926145138778, 3.7723816472223297, 3.154053030257663, 4.998143222702947, 3.4182727476390404, 3.377414028456353, 3.3093161631518746, 3.145881286421125, 3.017857299648705, 3.2412182978473956, 3.2630096147448286, 3.145881286421125, 3.704283781917851, 5.883415471661172, 6.654283306907871, 7.790155700186577, 7.0274596087764145, 3.9766752431357664, 3.159500859482021, 3.159500859482021, 3.1268138841358715, 3.3474509677223825, 3.0233051288730635, 3.0559921042192135, 3.486370612943519, 5.488447852895194, 3.156776944869842, 6.700589855314917, 4.249066704353681, 3.4318923206999363, 3.173120432542917, 4.793849626789512, 6.019611202270129, 3.0369247019339594, 7.245372777750746, 3.2956965900909787, 6.14218735981819, 3.2412182978473956, 4.521458165571596, 3.5680880513088935, 3.391033601517249, 3.8404795125268087, 5.542926145138778, 6.700589855314917, 4.3444037157799515, 3.0641638480557507, 3.864994744036421, 3.0233051288730635, 3.194230770787305, 3.0233051288730635, 9.991078706827329, 3.704283781917851, 3.67704463579606, 3.8677186586486, 3.9766752431357664, 5.433969560651612, 3.5680880513088935, 5.088032404904859, 4.739371334545928, 3.2929726754787993, 6.972981316532832, 4.793849626789512, 3.1564773142625024, 4.657653896180554, 3.159500859482021, 3.026029043485243, 5.463932621385582, 3.4318923206999363, 3.9766752431357664, 3.973951328523587, 3.1268138841358715, 3.493180399473967, 5.107099807190114, 3.0233051288730635, 7.160250446120148, 3.3637944553954573, 3.3283835654371283, 3.704283781917851, 4.902806211276677, 5.6110240104432565, 3.1935497921342604, 3.4591314668217277, 3.4182727476390404, 3.6680557175758683, 7.776536127125681, 3.4727510398826236, 6.3873396749143145, 3.105022567238438, 6.019611202270129, 7.517764238968661, 4.276305850475473, 4.589556030876075, 4.521458165571596, 3.8404795125268087, 3.1322617133602297, 3.4318923206999363, 4.521458165571596, 5.066241088007426, 3.9467121824017957, 6.395511418750852, 4.603175603936971, 3.704283781917851, 5.6110240104432565, 5.202436818616384, 3.9766752431357664, 3.350174882334562, 4.392072221493087, 3.8404795125268087, 3.3093161631518746, 4.521458165571596, 3.704283781917851, 4.793849626789512, 8.446346730260533, 6.877644305106561, 3.0914029941775425, 3.8404795125268087, 3.0233051288730635, 7.245372777750746, 3.4318923206999363, 4.793849626789512, 3.499990186004415, 3.1077464818506173, 4.7152646902281425, 3.2003595786647083, 3.105022567238438, 3.5680880513088935, 3.0914029941775425, 3.1322617133602297, 5.284154256981759, 3.7723816472223297, 3.4727510398826236, 3.8404795125268087, 4.870119235930527, 8.634569229962112, 3.0505442749948553, 3.2956965900909787, 3.6361859166133725, 3.9221969508921832, 3.4591314668217277, 4.5078385925107005, 4.358023288840847, 3.7587620741614343, 3.0233051288730635, 5.5402022305265985, 5.338632549225341, 4.793849626789512, 6.972981316532832, 4.488035733280158, 3.3665183700076367, 5.338632549225341, 3.649805489674268, 3.894957804770392, 4.657653896180554, 3.2548378709082915, 4.589556030876075, 3.4393830858834287, 3.6225663435524766, 5.365871695347133, 3.0233051288730635, 3.990294816196662, 4.112870973744724, 3.0233051288730635, 5.224228135513817, 4.050220937664603, 3.9494360970139746, 3.2548378709082915, 3.145881286421125, 3.105022567238438, 3.166310646012469, 7.517764238968661, 3.5817076243697894, 4.976351905805514, 5.270534683920863, 3.6007750266550436, 7.517764238968661, 6.482676686340584, 5.692741448808631, 3.2357704686230373, 5.883415471661172, 7.517764238968661, 8.471134353231363, 3.0233051288730635, 6.5643941247059585, 4.378452648432191, 3.159500859482021, 5.828937179417588, 3.0914029941775425, 3.826859939465913, 4.466979873328013, 3.7587620741614343, 8.879721545058237, 8.430275634048677, 3.9766752431357664, 5.937893763904754, 3.4318923206999363, 4.41250158108443, 3.8404795125268087, 3.704283781917851, 5.05262151494653, 3.9221969508921832, 3.5680880513088935, 4.535077738632492, 3.105022567238438, 4.657653896180554, 5.722976901003819, 4.848327919033094, 3.1867400056038124, 5.883415471661172, 3.145881286421125, 3.698835952693493, 5.883415471661172, 3.2956965900909787, 4.657653896180554, 6.5507745516450635, 3.2956965900909787, 3.4045169788475356, 4.385262434962638, 4.589556030876075, 7.256268436199463, 6.700589855314917, 4.930045357398469, 3.4318923206999363, 6.695142026090558, 7.640340396516724, 3.4318923206999363, 3.1594736203358993, 3.698835952693493, 6.5643941247059585, 4.851051833645274, 4.793849626789512, 3.704283781917851, 3.2956965900909787, 3.8132403664050174, 3.513609759065311, 6.428198394097001, 3.649805489674268, 3.4318923206999363, 3.5405765137258842, 4.603175603936971, 4.9353842300383395, 3.154053030257663, 3.9765390474051574, 4.153729692927411, 3.336555309273666, 3.9426263104835266, 3.2956965900909787, 3.213979151725604, 4.627391204839244, 3.6089467704915807, 6.700589855314917, 3.6541092747615114, 3.159500859482021, 8.245049440420495]\n"
     ]
    }
   ],
   "source": [
    "number_of_outlier, outlier_in_actual_dataset ,outlier_after_zscore = find_outlier_from_zscore(df,'price')\n",
    "\n",
    "print(\"number_of_outlier {}\".format(number_of_outlier))\n",
    "print(\"\\noutlier_in_actual_dataset {}\\n\".format(outlier_in_actual_dataset))\n",
    "print(\"\\n\\n\\n\\noutlier_after_zscore {}\".format(outlier_after_zscore))"
   ]
  },
  {
   "cell_type": "code",
   "execution_count": 124,
   "id": "512b50e0",
   "metadata": {},
   "outputs": [
    {
     "data": {
      "application/javascript": [
       "\n",
       "        if (window._pyforest_update_imports_cell) { window._pyforest_update_imports_cell('import seaborn as sns\\nimport pandas as pd\\nimport numpy as np\\nimport matplotlib.pyplot as plt'); }\n",
       "    "
      ],
      "text/plain": [
       "<IPython.core.display.Javascript object>"
      ]
     },
     "metadata": {},
     "output_type": "display_data"
    },
    {
     "name": "stdout",
     "output_type": "stream",
     "text": [
      "1129575.0\n",
      "-162625.0\n"
     ]
    },
    {
     "name": "stderr",
     "output_type": "stream",
     "text": [
      "E:\\Anaconda\\lib\\site-packages\\seaborn\\distributions.py:2619: FutureWarning: `distplot` is a deprecated function and will be removed in a future version. Please adapt your code to use either `displot` (a figure-level function with similar flexibility) or `histplot` (an axes-level function for histograms).\n",
      "  warnings.warn(msg, FutureWarning)\n"
     ]
    },
    {
     "data": {
      "application/javascript": [
       "\n",
       "        if (window._pyforest_update_imports_cell) { window._pyforest_update_imports_cell('import seaborn as sns\\nimport pandas as pd\\nimport numpy as np\\nimport matplotlib.pyplot as plt'); }\n",
       "    "
      ],
      "text/plain": [
       "<IPython.core.display.Javascript object>"
      ]
     },
     "metadata": {},
     "output_type": "display_data"
    },
    {
     "data": {
      "application/javascript": [
       "\n",
       "        if (window._pyforest_update_imports_cell) { window._pyforest_update_imports_cell('import seaborn as sns\\nimport pandas as pd\\nimport numpy as np\\nimport matplotlib.pyplot as plt'); }\n",
       "    "
      ],
      "text/plain": [
       "<IPython.core.display.Javascript object>"
      ]
     },
     "metadata": {},
     "output_type": "display_data"
    },
    {
     "data": {
      "application/javascript": [
       "\n",
       "        if (window._pyforest_update_imports_cell) { window._pyforest_update_imports_cell('import seaborn as sns\\nimport pandas as pd\\nimport numpy as np\\nimport matplotlib.pyplot as plt'); }\n",
       "    "
      ],
      "text/plain": [
       "<IPython.core.display.Javascript object>"
      ]
     },
     "metadata": {},
     "output_type": "display_data"
    },
    {
     "data": {
      "text/plain": [
       "<matplotlib.legend.Legend at 0x2c6903ac760>"
      ]
     },
     "execution_count": 124,
     "metadata": {},
     "output_type": "execute_result"
    },
    {
     "data": {
      "image/png": "[encoded data removed]",
      "text/plain": [
       "<Figure size 640x480 with 1 Axes>"
      ]
     },
     "metadata": {},
     "output_type": "display_data"
    }
   ],
   "source": [
    "sns.distplot(outlier_in_actual_dataset, kde=True)\n",
    "print(upper)\n",
    "print(lower)\n",
    "plt.axvspan(xmin=-3 , xmax=min(outlier_in_actual_dataset),alpha=0.2 ,color='blue' ,label='Lower Outlier')\n",
    "plt.axvspan(xmin=3 , xmax=max(outlier_in_actual_dataset),alpha=0.2 ,color='red' ,label='High Outlier')\n",
    "plt.legend()\n"
   ]
  },
  {
   "cell_type": "code",
   "execution_count": 125,
   "id": "04fd1c39",
   "metadata": {},
   "outputs": [
    {
     "data": {
      "text/html": [
       "<div>\n",
       "<style scoped>\n",
       "    .dataframe tbody tr th:only-of-type {\n",
       "        vertical-align: middle;\n",
       "    }\n",
       "\n",
       "    .dataframe tbody tr th {\n",
       "        vertical-align: top;\n",
       "    }\n",
       "\n",
       "    .dataframe thead th {\n",
       "        text-align: right;\n",
       "    }\n",
       "</style>\n",
       "<table border=\"1\" class=\"dataframe\">\n",
       "  <thead>\n",
       "    <tr style=\"text-align: right;\">\n",
       "      <th></th>\n",
       "      <th>price</th>\n",
       "      <th>bedrooms</th>\n",
       "      <th>bathrooms</th>\n",
       "      <th>sqft_living</th>\n",
       "      <th>sqft_lot</th>\n",
       "      <th>floors</th>\n",
       "      <th>view</th>\n",
       "      <th>condition</th>\n",
       "      <th>grade</th>\n",
       "      <th>yr_built</th>\n",
       "      <th>age_house</th>\n",
       "      <th>after_yr_renovated</th>\n",
       "    </tr>\n",
       "  </thead>\n",
       "  <tbody>\n",
       "    <tr>\n",
       "      <th>0</th>\n",
       "      <td>221900.0</td>\n",
       "      <td>3</td>\n",
       "      <td>1.00</td>\n",
       "      <td>1180</td>\n",
       "      <td>5650</td>\n",
       "      <td>1.0</td>\n",
       "      <td>0</td>\n",
       "      <td>3</td>\n",
       "      <td>7</td>\n",
       "      <td>1955</td>\n",
       "      <td>68</td>\n",
       "      <td>0</td>\n",
       "    </tr>\n",
       "    <tr>\n",
       "      <th>1</th>\n",
       "      <td>538000.0</td>\n",
       "      <td>3</td>\n",
       "      <td>2.25</td>\n",
       "      <td>2570</td>\n",
       "      <td>7242</td>\n",
       "      <td>2.0</td>\n",
       "      <td>0</td>\n",
       "      <td>3</td>\n",
       "      <td>7</td>\n",
       "      <td>1951</td>\n",
       "      <td>72</td>\n",
       "      <td>40</td>\n",
       "    </tr>\n",
       "    <tr>\n",
       "      <th>2</th>\n",
       "      <td>180000.0</td>\n",
       "      <td>2</td>\n",
       "      <td>1.00</td>\n",
       "      <td>770</td>\n",
       "      <td>10000</td>\n",
       "      <td>1.0</td>\n",
       "      <td>0</td>\n",
       "      <td>3</td>\n",
       "      <td>6</td>\n",
       "      <td>1933</td>\n",
       "      <td>90</td>\n",
       "      <td>0</td>\n",
       "    </tr>\n",
       "    <tr>\n",
       "      <th>3</th>\n",
       "      <td>604000.0</td>\n",
       "      <td>4</td>\n",
       "      <td>3.00</td>\n",
       "      <td>1960</td>\n",
       "      <td>5000</td>\n",
       "      <td>1.0</td>\n",
       "      <td>0</td>\n",
       "      <td>5</td>\n",
       "      <td>7</td>\n",
       "      <td>1965</td>\n",
       "      <td>58</td>\n",
       "      <td>0</td>\n",
       "    </tr>\n",
       "    <tr>\n",
       "      <th>4</th>\n",
       "      <td>510000.0</td>\n",
       "      <td>3</td>\n",
       "      <td>2.00</td>\n",
       "      <td>1680</td>\n",
       "      <td>8080</td>\n",
       "      <td>1.0</td>\n",
       "      <td>0</td>\n",
       "      <td>3</td>\n",
       "      <td>8</td>\n",
       "      <td>1987</td>\n",
       "      <td>36</td>\n",
       "      <td>0</td>\n",
       "    </tr>\n",
       "    <tr>\n",
       "      <th>...</th>\n",
       "      <td>...</td>\n",
       "      <td>...</td>\n",
       "      <td>...</td>\n",
       "      <td>...</td>\n",
       "      <td>...</td>\n",
       "      <td>...</td>\n",
       "      <td>...</td>\n",
       "      <td>...</td>\n",
       "      <td>...</td>\n",
       "      <td>...</td>\n",
       "      <td>...</td>\n",
       "      <td>...</td>\n",
       "    </tr>\n",
       "    <tr>\n",
       "      <th>21608</th>\n",
       "      <td>360000.0</td>\n",
       "      <td>3</td>\n",
       "      <td>2.50</td>\n",
       "      <td>1530</td>\n",
       "      <td>1131</td>\n",
       "      <td>3.0</td>\n",
       "      <td>0</td>\n",
       "      <td>3</td>\n",
       "      <td>8</td>\n",
       "      <td>2009</td>\n",
       "      <td>14</td>\n",
       "      <td>0</td>\n",
       "    </tr>\n",
       "    <tr>\n",
       "      <th>21609</th>\n",
       "      <td>400000.0</td>\n",
       "      <td>4</td>\n",
       "      <td>2.50</td>\n",
       "      <td>2310</td>\n",
       "      <td>5813</td>\n",
       "      <td>2.0</td>\n",
       "      <td>0</td>\n",
       "      <td>3</td>\n",
       "      <td>8</td>\n",
       "      <td>2014</td>\n",
       "      <td>9</td>\n",
       "      <td>0</td>\n",
       "    </tr>\n",
       "    <tr>\n",
       "      <th>21610</th>\n",
       "      <td>402101.0</td>\n",
       "      <td>2</td>\n",
       "      <td>0.75</td>\n",
       "      <td>1020</td>\n",
       "      <td>1350</td>\n",
       "      <td>2.0</td>\n",
       "      <td>0</td>\n",
       "      <td>3</td>\n",
       "      <td>7</td>\n",
       "      <td>2009</td>\n",
       "      <td>14</td>\n",
       "      <td>0</td>\n",
       "    </tr>\n",
       "    <tr>\n",
       "      <th>21611</th>\n",
       "      <td>400000.0</td>\n",
       "      <td>3</td>\n",
       "      <td>2.50</td>\n",
       "      <td>1600</td>\n",
       "      <td>2388</td>\n",
       "      <td>2.0</td>\n",
       "      <td>0</td>\n",
       "      <td>3</td>\n",
       "      <td>8</td>\n",
       "      <td>2004</td>\n",
       "      <td>19</td>\n",
       "      <td>0</td>\n",
       "    </tr>\n",
       "    <tr>\n",
       "      <th>21612</th>\n",
       "      <td>325000.0</td>\n",
       "      <td>2</td>\n",
       "      <td>0.75</td>\n",
       "      <td>1020</td>\n",
       "      <td>1076</td>\n",
       "      <td>2.0</td>\n",
       "      <td>0</td>\n",
       "      <td>3</td>\n",
       "      <td>7</td>\n",
       "      <td>2008</td>\n",
       "      <td>15</td>\n",
       "      <td>0</td>\n",
       "    </tr>\n",
       "  </tbody>\n",
       "</table>\n",
       "<p>21613 rows × 12 columns</p>\n",
       "</div>"
      ],
      "text/plain": [
       "          price  bedrooms  bathrooms  sqft_living  sqft_lot  floors  view  \\\n",
       "0      221900.0         3       1.00         1180      5650     1.0     0   \n",
       "1      538000.0         3       2.25         2570      7242     2.0     0   \n",
       "2      180000.0         2       1.00          770     10000     1.0     0   \n",
       "3      604000.0         4       3.00         1960      5000     1.0     0   \n",
       "4      510000.0         3       2.00         1680      8080     1.0     0   \n",
       "...         ...       ...        ...          ...       ...     ...   ...   \n",
       "21608  360000.0         3       2.50         1530      1131     3.0     0   \n",
       "21609  400000.0         4       2.50         2310      5813     2.0     0   \n",
       "21610  402101.0         2       0.75         1020      1350     2.0     0   \n",
       "21611  400000.0         3       2.50         1600      2388     2.0     0   \n",
       "21612  325000.0         2       0.75         1020      1076     2.0     0   \n",
       "\n",
       "       condition  grade  yr_built  age_house  after_yr_renovated  \n",
       "0              3      7      1955         68                   0  \n",
       "1              3      7      1951         72                  40  \n",
       "2              3      6      1933         90                   0  \n",
       "3              5      7      1965         58                   0  \n",
       "4              3      8      1987         36                   0  \n",
       "...          ...    ...       ...        ...                 ...  \n",
       "21608          3      8      2009         14                   0  \n",
       "21609          3      8      2014          9                   0  \n",
       "21610          3      7      2009         14                   0  \n",
       "21611          3      8      2004         19                   0  \n",
       "21612          3      7      2008         15                   0  \n",
       "\n",
       "[21613 rows x 12 columns]"
      ]
     },
     "execution_count": 125,
     "metadata": {},
     "output_type": "execute_result"
    }
   ],
   "source": [
    "df"
   ]
  },
  {
   "cell_type": "code",
   "execution_count": 126,
   "id": "3d558ad7",
   "metadata": {},
   "outputs": [
    {
     "data": {
      "text/plain": [
       "226"
      ]
     },
     "execution_count": 126,
     "metadata": {},
     "output_type": "execute_result"
    }
   ],
   "source": [
    "len(set(outlier_in_actual_dataset))"
   ]
  },
  {
   "cell_type": "code",
   "execution_count": 136,
   "id": "2cc3b0ca",
   "metadata": {},
   "outputs": [],
   "source": [
    "ol_df_li=[]\n",
    "for i in df['price']:\n",
    "    if i in set(outlier_in_actual_dataset):\n",
    "        ol_df_li.append(0)\n",
    "       \n",
    "    else:\n",
    "        ol_df_li.append(i)\n",
    "        \n",
    "df['P']=ol_df_li\n",
    "\n",
    "df_after_removing_outlier=df.drop(df[df['P']==0].index)"
   ]
  },
  {
   "cell_type": "code",
   "execution_count": 137,
   "id": "e5ab2643",
   "metadata": {},
   "outputs": [
    {
     "data": {
      "text/plain": [
       "(21613, 13)"
      ]
     },
     "execution_count": 137,
     "metadata": {},
     "output_type": "execute_result"
    }
   ],
   "source": [
    "df.shape"
   ]
  },
  {
   "cell_type": "code",
   "execution_count": 140,
   "id": "f3bb5043",
   "metadata": {},
   "outputs": [
    {
     "data": {
      "text/html": [
       "<div>\n",
       "<style scoped>\n",
       "    .dataframe tbody tr th:only-of-type {\n",
       "        vertical-align: middle;\n",
       "    }\n",
       "\n",
       "    .dataframe tbody tr th {\n",
       "        vertical-align: top;\n",
       "    }\n",
       "\n",
       "    .dataframe thead th {\n",
       "        text-align: right;\n",
       "    }\n",
       "</style>\n",
       "<table border=\"1\" class=\"dataframe\">\n",
       "  <thead>\n",
       "    <tr style=\"text-align: right;\">\n",
       "      <th></th>\n",
       "      <th>price</th>\n",
       "      <th>bedrooms</th>\n",
       "      <th>bathrooms</th>\n",
       "      <th>sqft_living</th>\n",
       "      <th>sqft_lot</th>\n",
       "      <th>floors</th>\n",
       "      <th>view</th>\n",
       "      <th>condition</th>\n",
       "      <th>grade</th>\n",
       "      <th>yr_built</th>\n",
       "      <th>age_house</th>\n",
       "      <th>after_yr_renovated</th>\n",
       "      <th>P</th>\n",
       "    </tr>\n",
       "  </thead>\n",
       "  <tbody>\n",
       "    <tr>\n",
       "      <th>0</th>\n",
       "      <td>221900.0</td>\n",
       "      <td>3</td>\n",
       "      <td>1.00</td>\n",
       "      <td>1180</td>\n",
       "      <td>5650</td>\n",
       "      <td>1.0</td>\n",
       "      <td>0</td>\n",
       "      <td>3</td>\n",
       "      <td>7</td>\n",
       "      <td>1955</td>\n",
       "      <td>68</td>\n",
       "      <td>0</td>\n",
       "      <td>221900.0</td>\n",
       "    </tr>\n",
       "    <tr>\n",
       "      <th>1</th>\n",
       "      <td>538000.0</td>\n",
       "      <td>3</td>\n",
       "      <td>2.25</td>\n",
       "      <td>2570</td>\n",
       "      <td>7242</td>\n",
       "      <td>2.0</td>\n",
       "      <td>0</td>\n",
       "      <td>3</td>\n",
       "      <td>7</td>\n",
       "      <td>1951</td>\n",
       "      <td>72</td>\n",
       "      <td>40</td>\n",
       "      <td>538000.0</td>\n",
       "    </tr>\n",
       "    <tr>\n",
       "      <th>2</th>\n",
       "      <td>180000.0</td>\n",
       "      <td>2</td>\n",
       "      <td>1.00</td>\n",
       "      <td>770</td>\n",
       "      <td>10000</td>\n",
       "      <td>1.0</td>\n",
       "      <td>0</td>\n",
       "      <td>3</td>\n",
       "      <td>6</td>\n",
       "      <td>1933</td>\n",
       "      <td>90</td>\n",
       "      <td>0</td>\n",
       "      <td>180000.0</td>\n",
       "    </tr>\n",
       "    <tr>\n",
       "      <th>3</th>\n",
       "      <td>604000.0</td>\n",
       "      <td>4</td>\n",
       "      <td>3.00</td>\n",
       "      <td>1960</td>\n",
       "      <td>5000</td>\n",
       "      <td>1.0</td>\n",
       "      <td>0</td>\n",
       "      <td>5</td>\n",
       "      <td>7</td>\n",
       "      <td>1965</td>\n",
       "      <td>58</td>\n",
       "      <td>0</td>\n",
       "      <td>604000.0</td>\n",
       "    </tr>\n",
       "    <tr>\n",
       "      <th>4</th>\n",
       "      <td>510000.0</td>\n",
       "      <td>3</td>\n",
       "      <td>2.00</td>\n",
       "      <td>1680</td>\n",
       "      <td>8080</td>\n",
       "      <td>1.0</td>\n",
       "      <td>0</td>\n",
       "      <td>3</td>\n",
       "      <td>8</td>\n",
       "      <td>1987</td>\n",
       "      <td>36</td>\n",
       "      <td>0</td>\n",
       "      <td>510000.0</td>\n",
       "    </tr>\n",
       "    <tr>\n",
       "      <th>...</th>\n",
       "      <td>...</td>\n",
       "      <td>...</td>\n",
       "      <td>...</td>\n",
       "      <td>...</td>\n",
       "      <td>...</td>\n",
       "      <td>...</td>\n",
       "      <td>...</td>\n",
       "      <td>...</td>\n",
       "      <td>...</td>\n",
       "      <td>...</td>\n",
       "      <td>...</td>\n",
       "      <td>...</td>\n",
       "      <td>...</td>\n",
       "    </tr>\n",
       "    <tr>\n",
       "      <th>21608</th>\n",
       "      <td>360000.0</td>\n",
       "      <td>3</td>\n",
       "      <td>2.50</td>\n",
       "      <td>1530</td>\n",
       "      <td>1131</td>\n",
       "      <td>3.0</td>\n",
       "      <td>0</td>\n",
       "      <td>3</td>\n",
       "      <td>8</td>\n",
       "      <td>2009</td>\n",
       "      <td>14</td>\n",
       "      <td>0</td>\n",
       "      <td>360000.0</td>\n",
       "    </tr>\n",
       "    <tr>\n",
       "      <th>21609</th>\n",
       "      <td>400000.0</td>\n",
       "      <td>4</td>\n",
       "      <td>2.50</td>\n",
       "      <td>2310</td>\n",
       "      <td>5813</td>\n",
       "      <td>2.0</td>\n",
       "      <td>0</td>\n",
       "      <td>3</td>\n",
       "      <td>8</td>\n",
       "      <td>2014</td>\n",
       "      <td>9</td>\n",
       "      <td>0</td>\n",
       "      <td>400000.0</td>\n",
       "    </tr>\n",
       "    <tr>\n",
       "      <th>21610</th>\n",
       "      <td>402101.0</td>\n",
       "      <td>2</td>\n",
       "      <td>0.75</td>\n",
       "      <td>1020</td>\n",
       "      <td>1350</td>\n",
       "      <td>2.0</td>\n",
       "      <td>0</td>\n",
       "      <td>3</td>\n",
       "      <td>7</td>\n",
       "      <td>2009</td>\n",
       "      <td>14</td>\n",
       "      <td>0</td>\n",
       "      <td>402101.0</td>\n",
       "    </tr>\n",
       "    <tr>\n",
       "      <th>21611</th>\n",
       "      <td>400000.0</td>\n",
       "      <td>3</td>\n",
       "      <td>2.50</td>\n",
       "      <td>1600</td>\n",
       "      <td>2388</td>\n",
       "      <td>2.0</td>\n",
       "      <td>0</td>\n",
       "      <td>3</td>\n",
       "      <td>8</td>\n",
       "      <td>2004</td>\n",
       "      <td>19</td>\n",
       "      <td>0</td>\n",
       "      <td>400000.0</td>\n",
       "    </tr>\n",
       "    <tr>\n",
       "      <th>21612</th>\n",
       "      <td>325000.0</td>\n",
       "      <td>2</td>\n",
       "      <td>0.75</td>\n",
       "      <td>1020</td>\n",
       "      <td>1076</td>\n",
       "      <td>2.0</td>\n",
       "      <td>0</td>\n",
       "      <td>3</td>\n",
       "      <td>7</td>\n",
       "      <td>2008</td>\n",
       "      <td>15</td>\n",
       "      <td>0</td>\n",
       "      <td>325000.0</td>\n",
       "    </tr>\n",
       "  </tbody>\n",
       "</table>\n",
       "<p>21207 rows × 13 columns</p>\n",
       "</div>"
      ],
      "text/plain": [
       "          price  bedrooms  bathrooms  sqft_living  sqft_lot  floors  view  \\\n",
       "0      221900.0         3       1.00         1180      5650     1.0     0   \n",
       "1      538000.0         3       2.25         2570      7242     2.0     0   \n",
       "2      180000.0         2       1.00          770     10000     1.0     0   \n",
       "3      604000.0         4       3.00         1960      5000     1.0     0   \n",
       "4      510000.0         3       2.00         1680      8080     1.0     0   \n",
       "...         ...       ...        ...          ...       ...     ...   ...   \n",
       "21608  360000.0         3       2.50         1530      1131     3.0     0   \n",
       "21609  400000.0         4       2.50         2310      5813     2.0     0   \n",
       "21610  402101.0         2       0.75         1020      1350     2.0     0   \n",
       "21611  400000.0         3       2.50         1600      2388     2.0     0   \n",
       "21612  325000.0         2       0.75         1020      1076     2.0     0   \n",
       "\n",
       "       condition  grade  yr_built  age_house  after_yr_renovated         P  \n",
       "0              3      7      1955         68                   0  221900.0  \n",
       "1              3      7      1951         72                  40  538000.0  \n",
       "2              3      6      1933         90                   0  180000.0  \n",
       "3              5      7      1965         58                   0  604000.0  \n",
       "4              3      8      1987         36                   0  510000.0  \n",
       "...          ...    ...       ...        ...                 ...       ...  \n",
       "21608          3      8      2009         14                   0  360000.0  \n",
       "21609          3      8      2014          9                   0  400000.0  \n",
       "21610          3      7      2009         14                   0  402101.0  \n",
       "21611          3      8      2004         19                   0  400000.0  \n",
       "21612          3      7      2008         15                   0  325000.0  \n",
       "\n",
       "[21207 rows x 13 columns]"
      ]
     },
     "execution_count": 140,
     "metadata": {},
     "output_type": "execute_result"
    }
   ],
   "source": [
    "# df[df['P']==0]\n",
    "df_after_removing_outlier"
   ]
  },
  {
   "cell_type": "code",
   "execution_count": 139,
   "id": "97ce4ab3",
   "metadata": {},
   "outputs": [
    {
     "data": {
      "application/javascript": [
       "\n",
       "        if (window._pyforest_update_imports_cell) { window._pyforest_update_imports_cell('import seaborn as sns\\nimport pandas as pd\\nimport numpy as np\\nimport matplotlib.pyplot as plt'); }\n",
       "    "
      ],
      "text/plain": [
       "<IPython.core.display.Javascript object>"
      ]
     },
     "metadata": {},
     "output_type": "display_data"
    },
    {
     "name": "stderr",
     "output_type": "stream",
     "text": [
      "E:\\Anaconda\\lib\\site-packages\\seaborn\\distributions.py:2619: FutureWarning: `distplot` is a deprecated function and will be removed in a future version. Please adapt your code to use either `displot` (a figure-level function with similar flexibility) or `histplot` (an axes-level function for histograms).\n",
      "  warnings.warn(msg, FutureWarning)\n"
     ]
    },
    {
     "data": {
      "text/plain": [
       "<AxesSubplot:xlabel='price', ylabel='Density'>"
      ]
     },
     "execution_count": 139,
     "metadata": {},
     "output_type": "execute_result"
    },
    {
     "data": {
      "image/png": "[encoded data removed]",
      "text/plain": [
       "<Figure size 640x480 with 1 Axes>"
      ]
     },
     "metadata": {},
     "output_type": "display_data"
    }
   ],
   "source": [
    "sns.distplot(after_removing_outlier['price'])"
   ]
  },
  {
   "cell_type": "code",
   "execution_count": 141,
   "id": "5fd01222",
   "metadata": {},
   "outputs": [],
   "source": [
    "# Comparingthe new data and old data\n",
    "from sklearn.ensemble import IsolationForest\n",
    "Iso=IsolationForest()\n",
    "ot=Iso.fit_predict(df)"
   ]
  },
  {
   "cell_type": "code",
   "execution_count": 142,
   "id": "f37c0ecd",
   "metadata": {},
   "outputs": [
    {
     "data": {
      "text/plain": [
       "array([1, 1, 1, ..., 1, 1, 1])"
      ]
     },
     "execution_count": 142,
     "metadata": {},
     "output_type": "execute_result"
    }
   ],
   "source": [
    "ot"
   ]
  },
  {
   "cell_type": "code",
   "execution_count": 143,
   "id": "f66fb648",
   "metadata": {},
   "outputs": [
    {
     "data": {
      "text/plain": [
       "21613"
      ]
     },
     "execution_count": 143,
     "metadata": {},
     "output_type": "execute_result"
    }
   ],
   "source": [
    "len(ot)"
   ]
  },
  {
   "cell_type": "code",
   "execution_count": 146,
   "id": "ea4be63d",
   "metadata": {},
   "outputs": [
    {
     "data": {
      "text/plain": [
       "{-1, 1}"
      ]
     },
     "execution_count": 146,
     "metadata": {},
     "output_type": "execute_result"
    }
   ],
   "source": [
    "set(ot)"
   ]
  },
  {
   "cell_type": "code",
   "execution_count": 154,
   "id": "30a1a207",
   "metadata": {},
   "outputs": [
    {
     "ename": "KeyError",
     "evalue": "False",
     "output_type": "error",
     "traceback": [
      "\u001b[1;31m---------------------------------------------------------------------------\u001b[0m",
      "\u001b[1;31mKeyError\u001b[0m                                  Traceback (most recent call last)",
      "\u001b[1;32mE:\\Anaconda\\lib\\site-packages\\pandas\\core\\indexes\\base.py\u001b[0m in \u001b[0;36mget_loc\u001b[1;34m(self, key, method, tolerance)\u001b[0m\n\u001b[0;32m   3628\u001b[0m             \u001b[1;32mtry\u001b[0m\u001b[1;33m:\u001b[0m\u001b[1;33m\u001b[0m\u001b[1;33m\u001b[0m\u001b[0m\n\u001b[1;32m-> 3629\u001b[1;33m                 \u001b[1;32mreturn\u001b[0m \u001b[0mself\u001b[0m\u001b[1;33m.\u001b[0m\u001b[0m_engine\u001b[0m\u001b[1;33m.\u001b[0m\u001b[0mget_loc\u001b[0m\u001b[1;33m(\u001b[0m\u001b[0mcasted_key\u001b[0m\u001b[1;33m)\u001b[0m\u001b[1;33m\u001b[0m\u001b[1;33m\u001b[0m\u001b[0m\n\u001b[0m\u001b[0;32m   3630\u001b[0m             \u001b[1;32mexcept\u001b[0m \u001b[0mKeyError\u001b[0m \u001b[1;32mas\u001b[0m \u001b[0merr\u001b[0m\u001b[1;33m:\u001b[0m\u001b[1;33m\u001b[0m\u001b[1;33m\u001b[0m\u001b[0m\n",
      "\u001b[1;32mE:\\Anaconda\\lib\\site-packages\\pandas\\_libs\\index.pyx\u001b[0m in \u001b[0;36mpandas._libs.index.IndexEngine.get_loc\u001b[1;34m()\u001b[0m\n",
      "\u001b[1;32mE:\\Anaconda\\lib\\site-packages\\pandas\\_libs\\index.pyx\u001b[0m in \u001b[0;36mpandas._libs.index.IndexEngine.get_loc\u001b[1;34m()\u001b[0m\n",
      "\u001b[1;32mpandas\\_libs\\hashtable_class_helper.pxi\u001b[0m in \u001b[0;36mpandas._libs.hashtable.PyObjectHashTable.get_item\u001b[1;34m()\u001b[0m\n",
      "\u001b[1;32mpandas\\_libs\\hashtable_class_helper.pxi\u001b[0m in \u001b[0;36mpandas._libs.hashtable.PyObjectHashTable.get_item\u001b[1;34m()\u001b[0m\n",
      "\u001b[1;31mKeyError\u001b[0m: False",
      "\nThe above exception was the direct cause of the following exception:\n",
      "\u001b[1;31mKeyError\u001b[0m                                  Traceback (most recent call last)",
      "\u001b[1;32m~\\AppData\\Local\\Temp\\ipykernel_6404\\2404507407.py\u001b[0m in \u001b[0;36m<module>\u001b[1;34m\u001b[0m\n\u001b[0;32m      2\u001b[0m \u001b[0mtask\u001b[0m \u001b[1;33m=\u001b[0m \u001b[0moutlier_in_actual_dataset\u001b[0m \u001b[1;33m==\u001b[0m \u001b[1;36m1\u001b[0m\u001b[1;33m\u001b[0m\u001b[1;33m\u001b[0m\u001b[0m\n\u001b[0;32m      3\u001b[0m \u001b[1;33m\u001b[0m\u001b[0m\n\u001b[1;32m----> 4\u001b[1;33m \u001b[0mdf_1\u001b[0m\u001b[1;33m=\u001b[0m\u001b[0mdf\u001b[0m\u001b[1;33m[\u001b[0m\u001b[0mmask\u001b[0m\u001b[1;33m]\u001b[0m\u001b[1;33m\u001b[0m\u001b[1;33m\u001b[0m\u001b[0m\n\u001b[0m\u001b[0;32m      5\u001b[0m \u001b[0mdf_2\u001b[0m\u001b[1;33m=\u001b[0m\u001b[0mdf\u001b[0m\u001b[1;33m[\u001b[0m\u001b[0mtask\u001b[0m\u001b[1;33m]\u001b[0m\u001b[1;33m\u001b[0m\u001b[1;33m\u001b[0m\u001b[0m\n",
      "\u001b[1;32mE:\\Anaconda\\lib\\site-packages\\pandas\\core\\frame.py\u001b[0m in \u001b[0;36m__getitem__\u001b[1;34m(self, key)\u001b[0m\n\u001b[0;32m   3503\u001b[0m             \u001b[1;32mif\u001b[0m \u001b[0mself\u001b[0m\u001b[1;33m.\u001b[0m\u001b[0mcolumns\u001b[0m\u001b[1;33m.\u001b[0m\u001b[0mnlevels\u001b[0m \u001b[1;33m>\u001b[0m \u001b[1;36m1\u001b[0m\u001b[1;33m:\u001b[0m\u001b[1;33m\u001b[0m\u001b[1;33m\u001b[0m\u001b[0m\n\u001b[0;32m   3504\u001b[0m                 \u001b[1;32mreturn\u001b[0m \u001b[0mself\u001b[0m\u001b[1;33m.\u001b[0m\u001b[0m_getitem_multilevel\u001b[0m\u001b[1;33m(\u001b[0m\u001b[0mkey\u001b[0m\u001b[1;33m)\u001b[0m\u001b[1;33m\u001b[0m\u001b[1;33m\u001b[0m\u001b[0m\n\u001b[1;32m-> 3505\u001b[1;33m             \u001b[0mindexer\u001b[0m \u001b[1;33m=\u001b[0m \u001b[0mself\u001b[0m\u001b[1;33m.\u001b[0m\u001b[0mcolumns\u001b[0m\u001b[1;33m.\u001b[0m\u001b[0mget_loc\u001b[0m\u001b[1;33m(\u001b[0m\u001b[0mkey\u001b[0m\u001b[1;33m)\u001b[0m\u001b[1;33m\u001b[0m\u001b[1;33m\u001b[0m\u001b[0m\n\u001b[0m\u001b[0;32m   3506\u001b[0m             \u001b[1;32mif\u001b[0m \u001b[0mis_integer\u001b[0m\u001b[1;33m(\u001b[0m\u001b[0mindexer\u001b[0m\u001b[1;33m)\u001b[0m\u001b[1;33m:\u001b[0m\u001b[1;33m\u001b[0m\u001b[1;33m\u001b[0m\u001b[0m\n\u001b[0;32m   3507\u001b[0m                 \u001b[0mindexer\u001b[0m \u001b[1;33m=\u001b[0m \u001b[1;33m[\u001b[0m\u001b[0mindexer\u001b[0m\u001b[1;33m]\u001b[0m\u001b[1;33m\u001b[0m\u001b[1;33m\u001b[0m\u001b[0m\n",
      "\u001b[1;32mE:\\Anaconda\\lib\\site-packages\\pandas\\core\\indexes\\base.py\u001b[0m in \u001b[0;36mget_loc\u001b[1;34m(self, key, method, tolerance)\u001b[0m\n\u001b[0;32m   3629\u001b[0m                 \u001b[1;32mreturn\u001b[0m \u001b[0mself\u001b[0m\u001b[1;33m.\u001b[0m\u001b[0m_engine\u001b[0m\u001b[1;33m.\u001b[0m\u001b[0mget_loc\u001b[0m\u001b[1;33m(\u001b[0m\u001b[0mcasted_key\u001b[0m\u001b[1;33m)\u001b[0m\u001b[1;33m\u001b[0m\u001b[1;33m\u001b[0m\u001b[0m\n\u001b[0;32m   3630\u001b[0m             \u001b[1;32mexcept\u001b[0m \u001b[0mKeyError\u001b[0m \u001b[1;32mas\u001b[0m \u001b[0merr\u001b[0m\u001b[1;33m:\u001b[0m\u001b[1;33m\u001b[0m\u001b[1;33m\u001b[0m\u001b[0m\n\u001b[1;32m-> 3631\u001b[1;33m                 \u001b[1;32mraise\u001b[0m \u001b[0mKeyError\u001b[0m\u001b[1;33m(\u001b[0m\u001b[0mkey\u001b[0m\u001b[1;33m)\u001b[0m \u001b[1;32mfrom\u001b[0m \u001b[0merr\u001b[0m\u001b[1;33m\u001b[0m\u001b[1;33m\u001b[0m\u001b[0m\n\u001b[0m\u001b[0;32m   3632\u001b[0m             \u001b[1;32mexcept\u001b[0m \u001b[0mTypeError\u001b[0m\u001b[1;33m:\u001b[0m\u001b[1;33m\u001b[0m\u001b[1;33m\u001b[0m\u001b[0m\n\u001b[0;32m   3633\u001b[0m                 \u001b[1;31m# If we have a listlike key, _check_indexing_error will raise\u001b[0m\u001b[1;33m\u001b[0m\u001b[1;33m\u001b[0m\u001b[0m\n",
      "\u001b[1;31mKeyError\u001b[0m: False"
     ]
    }
   ],
   "source": [
    "mask = outlier_in_actual_dataset  == -1\n",
    "task = outlier_in_actual_dataset == 1\n",
    "\n",
    "df_1=df[mask]\n",
    "df_2=df[task]"
   ]
  },
  {
   "cell_type": "code",
   "execution_count": null,
   "id": "77bc2b00",
   "metadata": {},
   "outputs": [],
   "source": []
  },
  {
   "cell_type": "code",
   "execution_count": 153,
   "id": "a858d942",
   "metadata": {},
   "outputs": [
    {
     "data": {
      "text/html": [
       "<div>\n",
       "<style scoped>\n",
       "    .dataframe tbody tr th:only-of-type {\n",
       "        vertical-align: middle;\n",
       "    }\n",
       "\n",
       "    .dataframe tbody tr th {\n",
       "        vertical-align: top;\n",
       "    }\n",
       "\n",
       "    .dataframe thead th {\n",
       "        text-align: right;\n",
       "    }\n",
       "</style>\n",
       "<table border=\"1\" class=\"dataframe\">\n",
       "  <thead>\n",
       "    <tr style=\"text-align: right;\">\n",
       "      <th></th>\n",
       "      <th>price</th>\n",
       "      <th>bedrooms</th>\n",
       "      <th>bathrooms</th>\n",
       "      <th>sqft_living</th>\n",
       "      <th>sqft_lot</th>\n",
       "      <th>floors</th>\n",
       "      <th>view</th>\n",
       "      <th>condition</th>\n",
       "      <th>grade</th>\n",
       "      <th>yr_built</th>\n",
       "      <th>age_house</th>\n",
       "      <th>after_yr_renovated</th>\n",
       "      <th>P</th>\n",
       "    </tr>\n",
       "  </thead>\n",
       "  <tbody>\n",
       "    <tr>\n",
       "      <th>0</th>\n",
       "      <td>221900.0</td>\n",
       "      <td>3</td>\n",
       "      <td>1.00</td>\n",
       "      <td>1180</td>\n",
       "      <td>5650</td>\n",
       "      <td>1.0</td>\n",
       "      <td>0</td>\n",
       "      <td>3</td>\n",
       "      <td>7</td>\n",
       "      <td>1955</td>\n",
       "      <td>68</td>\n",
       "      <td>0</td>\n",
       "      <td>221900.0</td>\n",
       "    </tr>\n",
       "    <tr>\n",
       "      <th>1</th>\n",
       "      <td>538000.0</td>\n",
       "      <td>3</td>\n",
       "      <td>2.25</td>\n",
       "      <td>2570</td>\n",
       "      <td>7242</td>\n",
       "      <td>2.0</td>\n",
       "      <td>0</td>\n",
       "      <td>3</td>\n",
       "      <td>7</td>\n",
       "      <td>1951</td>\n",
       "      <td>72</td>\n",
       "      <td>40</td>\n",
       "      <td>538000.0</td>\n",
       "    </tr>\n",
       "    <tr>\n",
       "      <th>2</th>\n",
       "      <td>180000.0</td>\n",
       "      <td>2</td>\n",
       "      <td>1.00</td>\n",
       "      <td>770</td>\n",
       "      <td>10000</td>\n",
       "      <td>1.0</td>\n",
       "      <td>0</td>\n",
       "      <td>3</td>\n",
       "      <td>6</td>\n",
       "      <td>1933</td>\n",
       "      <td>90</td>\n",
       "      <td>0</td>\n",
       "      <td>180000.0</td>\n",
       "    </tr>\n",
       "    <tr>\n",
       "      <th>3</th>\n",
       "      <td>604000.0</td>\n",
       "      <td>4</td>\n",
       "      <td>3.00</td>\n",
       "      <td>1960</td>\n",
       "      <td>5000</td>\n",
       "      <td>1.0</td>\n",
       "      <td>0</td>\n",
       "      <td>5</td>\n",
       "      <td>7</td>\n",
       "      <td>1965</td>\n",
       "      <td>58</td>\n",
       "      <td>0</td>\n",
       "      <td>604000.0</td>\n",
       "    </tr>\n",
       "    <tr>\n",
       "      <th>4</th>\n",
       "      <td>510000.0</td>\n",
       "      <td>3</td>\n",
       "      <td>2.00</td>\n",
       "      <td>1680</td>\n",
       "      <td>8080</td>\n",
       "      <td>1.0</td>\n",
       "      <td>0</td>\n",
       "      <td>3</td>\n",
       "      <td>8</td>\n",
       "      <td>1987</td>\n",
       "      <td>36</td>\n",
       "      <td>0</td>\n",
       "      <td>510000.0</td>\n",
       "    </tr>\n",
       "    <tr>\n",
       "      <th>...</th>\n",
       "      <td>...</td>\n",
       "      <td>...</td>\n",
       "      <td>...</td>\n",
       "      <td>...</td>\n",
       "      <td>...</td>\n",
       "      <td>...</td>\n",
       "      <td>...</td>\n",
       "      <td>...</td>\n",
       "      <td>...</td>\n",
       "      <td>...</td>\n",
       "      <td>...</td>\n",
       "      <td>...</td>\n",
       "      <td>...</td>\n",
       "    </tr>\n",
       "    <tr>\n",
       "      <th>21608</th>\n",
       "      <td>360000.0</td>\n",
       "      <td>3</td>\n",
       "      <td>2.50</td>\n",
       "      <td>1530</td>\n",
       "      <td>1131</td>\n",
       "      <td>3.0</td>\n",
       "      <td>0</td>\n",
       "      <td>3</td>\n",
       "      <td>8</td>\n",
       "      <td>2009</td>\n",
       "      <td>14</td>\n",
       "      <td>0</td>\n",
       "      <td>360000.0</td>\n",
       "    </tr>\n",
       "    <tr>\n",
       "      <th>21609</th>\n",
       "      <td>400000.0</td>\n",
       "      <td>4</td>\n",
       "      <td>2.50</td>\n",
       "      <td>2310</td>\n",
       "      <td>5813</td>\n",
       "      <td>2.0</td>\n",
       "      <td>0</td>\n",
       "      <td>3</td>\n",
       "      <td>8</td>\n",
       "      <td>2014</td>\n",
       "      <td>9</td>\n",
       "      <td>0</td>\n",
       "      <td>400000.0</td>\n",
       "    </tr>\n",
       "    <tr>\n",
       "      <th>21610</th>\n",
       "      <td>402101.0</td>\n",
       "      <td>2</td>\n",
       "      <td>0.75</td>\n",
       "      <td>1020</td>\n",
       "      <td>1350</td>\n",
       "      <td>2.0</td>\n",
       "      <td>0</td>\n",
       "      <td>3</td>\n",
       "      <td>7</td>\n",
       "      <td>2009</td>\n",
       "      <td>14</td>\n",
       "      <td>0</td>\n",
       "      <td>402101.0</td>\n",
       "    </tr>\n",
       "    <tr>\n",
       "      <th>21611</th>\n",
       "      <td>400000.0</td>\n",
       "      <td>3</td>\n",
       "      <td>2.50</td>\n",
       "      <td>1600</td>\n",
       "      <td>2388</td>\n",
       "      <td>2.0</td>\n",
       "      <td>0</td>\n",
       "      <td>3</td>\n",
       "      <td>8</td>\n",
       "      <td>2004</td>\n",
       "      <td>19</td>\n",
       "      <td>0</td>\n",
       "      <td>400000.0</td>\n",
       "    </tr>\n",
       "    <tr>\n",
       "      <th>21612</th>\n",
       "      <td>325000.0</td>\n",
       "      <td>2</td>\n",
       "      <td>0.75</td>\n",
       "      <td>1020</td>\n",
       "      <td>1076</td>\n",
       "      <td>2.0</td>\n",
       "      <td>0</td>\n",
       "      <td>3</td>\n",
       "      <td>7</td>\n",
       "      <td>2008</td>\n",
       "      <td>15</td>\n",
       "      <td>0</td>\n",
       "      <td>325000.0</td>\n",
       "    </tr>\n",
       "  </tbody>\n",
       "</table>\n",
       "<p>21613 rows × 13 columns</p>\n",
       "</div>"
      ],
      "text/plain": [
       "          price  bedrooms  bathrooms  sqft_living  sqft_lot  floors  view  \\\n",
       "0      221900.0         3       1.00         1180      5650     1.0     0   \n",
       "1      538000.0         3       2.25         2570      7242     2.0     0   \n",
       "2      180000.0         2       1.00          770     10000     1.0     0   \n",
       "3      604000.0         4       3.00         1960      5000     1.0     0   \n",
       "4      510000.0         3       2.00         1680      8080     1.0     0   \n",
       "...         ...       ...        ...          ...       ...     ...   ...   \n",
       "21608  360000.0         3       2.50         1530      1131     3.0     0   \n",
       "21609  400000.0         4       2.50         2310      5813     2.0     0   \n",
       "21610  402101.0         2       0.75         1020      1350     2.0     0   \n",
       "21611  400000.0         3       2.50         1600      2388     2.0     0   \n",
       "21612  325000.0         2       0.75         1020      1076     2.0     0   \n",
       "\n",
       "       condition  grade  yr_built  age_house  after_yr_renovated         P  \n",
       "0              3      7      1955         68                   0  221900.0  \n",
       "1              3      7      1951         72                  40  538000.0  \n",
       "2              3      6      1933         90                   0  180000.0  \n",
       "3              5      7      1965         58                   0  604000.0  \n",
       "4              3      8      1987         36                   0  510000.0  \n",
       "...          ...    ...       ...        ...                 ...       ...  \n",
       "21608          3      8      2009         14                   0  360000.0  \n",
       "21609          3      8      2014          9                   0  400000.0  \n",
       "21610          3      7      2009         14                   0  402101.0  \n",
       "21611          3      8      2004         19                   0  400000.0  \n",
       "21612          3      7      2008         15                   0  325000.0  \n",
       "\n",
       "[21613 rows x 13 columns]"
      ]
     },
     "execution_count": 153,
     "metadata": {},
     "output_type": "execute_result"
    }
   ],
   "source": [
    "df"
   ]
  },
  {
   "cell_type": "code",
   "execution_count": null,
   "id": "8691f6a4",
   "metadata": {},
   "outputs": [],
   "source": []
  },
  {
   "cell_type": "code",
   "execution_count": null,
   "id": "888f0344",
   "metadata": {},
   "outputs": [],
   "source": []
  }
 ],
 "metadata": {
  "kernelspec": {
   "display_name": "Python 3 (ipykernel)",
   "language": "python",
   "name": "python3"
  },
  "language_info": {
   "codemirror_mode": {
    "name": "ipython",
    "version": 3
   },
   "file_extension": ".py",
   "mimetype": "text/x-python",
   "name": "python",
   "nbconvert_exporter": "python",
   "pygments_lexer": "ipython3",
   "version": "3.9.13"
  }
 },
 "nbformat": 4,
 "nbformat_minor": 5
}

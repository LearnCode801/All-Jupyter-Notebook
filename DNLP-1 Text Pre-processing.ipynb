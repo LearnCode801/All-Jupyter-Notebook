{
 "cells": [
  {
   "cell_type": "code",
   "execution_count": 2,
   "id": "dd55c386",
   "metadata": {},
   "outputs": [],
   "source": [
    "text=\"\"\"Paragraphs are the building blocks of papers. Many students define paragraphs in terms of length: a paragraph is a group of at least five sentences, a paragraph is half a page long, etc. In reality, though, the unity and coherence of ideas among sentences is what constitutes a paragraph. A paragraph is defined as “a group of sentences or a single sentence that forms a unit” (Lunsford and Connors 116). Length and appearance do not determine whether a section in a paper is a paragraph. \n",
    "For instance, in some styles of writing, particularly journalistic styles, a paragraph can be \n",
    "just one sentence long. Ultimately, a paragraph is a sentence or group of sentences \n",
    "that support one main idea. In this handout, we will refer to this as the “controlling idea,” \n",
    "because it controls what happens in the \n",
    "rest of the paragraph.\"\"\""
   ]
  },
  {
   "cell_type": "code",
   "execution_count": 3,
   "id": "e81018fb",
   "metadata": {},
   "outputs": [
    {
     "data": {
      "text/plain": [
       "['Paragraphs',\n",
       " 'are',\n",
       " 'the',\n",
       " 'building',\n",
       " 'blocks',\n",
       " 'of',\n",
       " 'papers.',\n",
       " 'Many',\n",
       " 'students',\n",
       " 'define',\n",
       " 'paragraphs',\n",
       " 'in',\n",
       " 'terms',\n",
       " 'of',\n",
       " 'length:',\n",
       " 'a',\n",
       " 'paragraph',\n",
       " 'is',\n",
       " 'a',\n",
       " 'group',\n",
       " 'of',\n",
       " 'at',\n",
       " 'least',\n",
       " 'five',\n",
       " 'sentences,',\n",
       " 'a',\n",
       " 'paragraph',\n",
       " 'is',\n",
       " 'half',\n",
       " 'a',\n",
       " 'page',\n",
       " 'long,',\n",
       " 'etc.',\n",
       " 'In',\n",
       " 'reality,',\n",
       " 'though,',\n",
       " 'the',\n",
       " 'unity',\n",
       " 'and',\n",
       " 'coherence',\n",
       " 'of',\n",
       " 'ideas',\n",
       " 'among',\n",
       " 'sentences',\n",
       " 'is',\n",
       " 'what',\n",
       " 'constitutes',\n",
       " 'a',\n",
       " 'paragraph.',\n",
       " 'A',\n",
       " 'paragraph',\n",
       " 'is',\n",
       " 'defined',\n",
       " 'as',\n",
       " '“a',\n",
       " 'group',\n",
       " 'of',\n",
       " 'sentences',\n",
       " 'or',\n",
       " 'a',\n",
       " 'single',\n",
       " 'sentence',\n",
       " 'that',\n",
       " 'forms',\n",
       " 'a',\n",
       " 'unit”',\n",
       " '(Lunsford',\n",
       " 'and',\n",
       " 'Connors',\n",
       " '116).',\n",
       " 'Length',\n",
       " 'and',\n",
       " 'appearance',\n",
       " 'do',\n",
       " 'not',\n",
       " 'determine',\n",
       " 'whether',\n",
       " 'a',\n",
       " 'section',\n",
       " 'in',\n",
       " 'a',\n",
       " 'paper',\n",
       " 'is',\n",
       " 'a',\n",
       " 'paragraph.',\n",
       " 'For',\n",
       " 'instance,',\n",
       " 'in',\n",
       " 'some',\n",
       " 'styles',\n",
       " 'of',\n",
       " 'writing,',\n",
       " 'particularly',\n",
       " 'journalistic',\n",
       " 'styles,',\n",
       " 'a',\n",
       " 'paragraph',\n",
       " 'can',\n",
       " 'be',\n",
       " 'just',\n",
       " 'one',\n",
       " 'sentence',\n",
       " 'long.',\n",
       " 'Ultimately,',\n",
       " 'a',\n",
       " 'paragraph',\n",
       " 'is',\n",
       " 'a',\n",
       " 'sentence',\n",
       " 'or',\n",
       " 'group',\n",
       " 'of',\n",
       " 'sentences',\n",
       " 'that',\n",
       " 'support',\n",
       " 'one',\n",
       " 'main',\n",
       " 'idea.',\n",
       " 'In',\n",
       " 'this',\n",
       " 'handout,',\n",
       " 'we',\n",
       " 'will',\n",
       " 'refer',\n",
       " 'to',\n",
       " 'this',\n",
       " 'as',\n",
       " 'the',\n",
       " '“controlling',\n",
       " 'idea,”',\n",
       " 'because',\n",
       " 'it',\n",
       " 'controls',\n",
       " 'what',\n",
       " 'happens',\n",
       " 'in',\n",
       " 'the',\n",
       " 'rest',\n",
       " 'of',\n",
       " 'the',\n",
       " 'paragraph.']"
      ]
     },
     "execution_count": 3,
     "metadata": {},
     "output_type": "execute_result"
    }
   ],
   "source": [
    "text.split()"
   ]
  },
  {
   "cell_type": "code",
   "execution_count": 4,
   "id": "7d9e6a12",
   "metadata": {},
   "outputs": [
    {
     "name": "stdout",
     "output_type": "stream",
     "text": [
      "Requirement already satisfied: nltk in e:\\anaconda\\lib\\site-packages (3.7)\n",
      "Requirement already satisfied: click in e:\\anaconda\\lib\\site-packages (from nltk) (8.0.4)\n",
      "Requirement already satisfied: tqdm in e:\\anaconda\\lib\\site-packages (from nltk) (4.64.1)\n",
      "Requirement already satisfied: regex>=2021.8.3 in e:\\anaconda\\lib\\site-packages (from nltk) (2022.7.9)\n",
      "Requirement already satisfied: joblib in e:\\anaconda\\lib\\site-packages (from nltk) (1.1.0)\n",
      "Requirement already satisfied: colorama in e:\\anaconda\\lib\\site-packages (from click->nltk) (0.4.6)\n"
     ]
    }
   ],
   "source": [
    "# Toeknization using the nltk library\n",
    "\n",
    "!pip install nltk"
   ]
  },
  {
   "cell_type": "code",
   "execution_count": 5,
   "id": "b1b4f627",
   "metadata": {},
   "outputs": [
    {
     "name": "stderr",
     "output_type": "stream",
     "text": [
      "[nltk_data] Downloading package punkt to C:\\Users\\Muhammad Talha\n",
      "[nltk_data]     Awan\\AppData\\Roaming\\nltk_data...\n",
      "[nltk_data]   Package punkt is already up-to-date!\n"
     ]
    },
    {
     "data": {
      "text/plain": [
       "['Paragraphs',\n",
       " 'are',\n",
       " 'the',\n",
       " 'building',\n",
       " 'blocks',\n",
       " 'of',\n",
       " 'papers',\n",
       " '.',\n",
       " 'Many',\n",
       " 'students',\n",
       " 'define',\n",
       " 'paragraphs',\n",
       " 'in',\n",
       " 'terms',\n",
       " 'of',\n",
       " 'length',\n",
       " ':',\n",
       " 'a',\n",
       " 'paragraph',\n",
       " 'is',\n",
       " 'a',\n",
       " 'group',\n",
       " 'of',\n",
       " 'at',\n",
       " 'least',\n",
       " 'five',\n",
       " 'sentences',\n",
       " ',',\n",
       " 'a',\n",
       " 'paragraph',\n",
       " 'is',\n",
       " 'half',\n",
       " 'a',\n",
       " 'page',\n",
       " 'long',\n",
       " ',',\n",
       " 'etc',\n",
       " '.',\n",
       " 'In',\n",
       " 'reality',\n",
       " ',',\n",
       " 'though',\n",
       " ',',\n",
       " 'the',\n",
       " 'unity',\n",
       " 'and',\n",
       " 'coherence',\n",
       " 'of',\n",
       " 'ideas',\n",
       " 'among',\n",
       " 'sentences',\n",
       " 'is',\n",
       " 'what',\n",
       " 'constitutes',\n",
       " 'a',\n",
       " 'paragraph',\n",
       " '.',\n",
       " 'A',\n",
       " 'paragraph',\n",
       " 'is',\n",
       " 'defined',\n",
       " 'as',\n",
       " '“',\n",
       " 'a',\n",
       " 'group',\n",
       " 'of',\n",
       " 'sentences',\n",
       " 'or',\n",
       " 'a',\n",
       " 'single',\n",
       " 'sentence',\n",
       " 'that',\n",
       " 'forms',\n",
       " 'a',\n",
       " 'unit',\n",
       " '”',\n",
       " '(',\n",
       " 'Lunsford',\n",
       " 'and',\n",
       " 'Connors',\n",
       " '116',\n",
       " ')',\n",
       " '.',\n",
       " 'Length',\n",
       " 'and',\n",
       " 'appearance',\n",
       " 'do',\n",
       " 'not',\n",
       " 'determine',\n",
       " 'whether',\n",
       " 'a',\n",
       " 'section',\n",
       " 'in',\n",
       " 'a',\n",
       " 'paper',\n",
       " 'is',\n",
       " 'a',\n",
       " 'paragraph',\n",
       " '.',\n",
       " 'For',\n",
       " 'instance',\n",
       " ',',\n",
       " 'in',\n",
       " 'some',\n",
       " 'styles',\n",
       " 'of',\n",
       " 'writing',\n",
       " ',',\n",
       " 'particularly',\n",
       " 'journalistic',\n",
       " 'styles',\n",
       " ',',\n",
       " 'a',\n",
       " 'paragraph',\n",
       " 'can',\n",
       " 'be',\n",
       " 'just',\n",
       " 'one',\n",
       " 'sentence',\n",
       " 'long',\n",
       " '.',\n",
       " 'Ultimately',\n",
       " ',',\n",
       " 'a',\n",
       " 'paragraph',\n",
       " 'is',\n",
       " 'a',\n",
       " 'sentence',\n",
       " 'or',\n",
       " 'group',\n",
       " 'of',\n",
       " 'sentences',\n",
       " 'that',\n",
       " 'support',\n",
       " 'one',\n",
       " 'main',\n",
       " 'idea',\n",
       " '.',\n",
       " 'In',\n",
       " 'this',\n",
       " 'handout',\n",
       " ',',\n",
       " 'we',\n",
       " 'will',\n",
       " 'refer',\n",
       " 'to',\n",
       " 'this',\n",
       " 'as',\n",
       " 'the',\n",
       " '“',\n",
       " 'controlling',\n",
       " 'idea',\n",
       " ',',\n",
       " '”',\n",
       " 'because',\n",
       " 'it',\n",
       " 'controls',\n",
       " 'what',\n",
       " 'happens',\n",
       " 'in',\n",
       " 'the',\n",
       " 'rest',\n",
       " 'of',\n",
       " 'the',\n",
       " 'paragraph',\n",
       " '.']"
      ]
     },
     "execution_count": 5,
     "metadata": {},
     "output_type": "execute_result"
    }
   ],
   "source": [
    "import nltk\n",
    "\n",
    "nltk.download('punkt')\n",
    "from nltk.tokenize import word_tokenize\n",
    "\n",
    "word_tokenize(text)"
   ]
  },
  {
   "cell_type": "code",
   "execution_count": 6,
   "id": "b9558b87",
   "metadata": {},
   "outputs": [
    {
     "data": {
      "text/plain": [
       "['Paragraphs are the building blocks of papers.',\n",
       " 'Many students define paragraphs in terms of length: a paragraph is a group of at least five sentences, a paragraph is half a page long, etc.',\n",
       " 'In reality, though, the unity and coherence of ideas among sentences is what constitutes a paragraph.',\n",
       " 'A paragraph is defined as “a group of sentences or a single sentence that forms a unit” (Lunsford and Connors 116).',\n",
       " 'Length and appearance do not determine whether a section in a paper is a paragraph.',\n",
       " 'For instance, in some styles of writing, particularly journalistic styles, a paragraph can be \\njust one sentence long.',\n",
       " 'Ultimately, a paragraph is a sentence or group of sentences \\nthat support one main idea.',\n",
       " 'In this handout, we will refer to this as the “controlling idea,” \\nbecause it controls what happens in the \\nrest of the paragraph.']"
      ]
     },
     "execution_count": 6,
     "metadata": {},
     "output_type": "execute_result"
    }
   ],
   "source": [
    "from nltk.tokenize import sent_tokenize\n",
    "sent_tokenize(text)"
   ]
  },
  {
   "cell_type": "code",
   "execution_count": 7,
   "id": "52c5bd53",
   "metadata": {},
   "outputs": [
    {
     "name": "stdout",
     "output_type": "stream",
     "text": [
      "Requirement already satisfied: spacy in e:\\anaconda\\lib\\site-packages (3.5.3)\n",
      "Requirement already satisfied: spacy-loggers<2.0.0,>=1.0.0 in e:\\anaconda\\lib\\site-packages (from spacy) (1.0.4)\n",
      "Requirement already satisfied: cymem<2.1.0,>=2.0.2 in e:\\anaconda\\lib\\site-packages (from spacy) (2.0.7)\n",
      "Requirement already satisfied: typer<0.8.0,>=0.3.0 in e:\\anaconda\\lib\\site-packages (from spacy) (0.7.0)\n",
      "Requirement already satisfied: srsly<3.0.0,>=2.4.3 in e:\\anaconda\\lib\\site-packages (from spacy) (2.4.6)\n",
      "Requirement already satisfied: packaging>=20.0 in e:\\anaconda\\lib\\site-packages (from spacy) (21.3)\n",
      "Requirement already satisfied: numpy>=1.15.0 in e:\\anaconda\\lib\\site-packages (from spacy) (1.23.5)\n",
      "Requirement already satisfied: jinja2 in e:\\anaconda\\lib\\site-packages (from spacy) (2.11.3)\n",
      "Requirement already satisfied: spacy-legacy<3.1.0,>=3.0.11 in e:\\anaconda\\lib\\site-packages (from spacy) (3.0.12)\n",
      "Requirement already satisfied: catalogue<2.1.0,>=2.0.6 in e:\\anaconda\\lib\\site-packages (from spacy) (2.0.8)\n",
      "Requirement already satisfied: langcodes<4.0.0,>=3.2.0 in e:\\anaconda\\lib\\site-packages (from spacy) (3.3.0)\n",
      "Requirement already satisfied: setuptools in e:\\anaconda\\lib\\site-packages (from spacy) (63.4.1)\n",
      "Requirement already satisfied: murmurhash<1.1.0,>=0.28.0 in e:\\anaconda\\lib\\site-packages (from spacy) (1.0.9)\n",
      "Requirement already satisfied: preshed<3.1.0,>=3.0.2 in e:\\anaconda\\lib\\site-packages (from spacy) (3.0.8)\n",
      "Requirement already satisfied: wasabi<1.2.0,>=0.9.1 in e:\\anaconda\\lib\\site-packages (from spacy) (1.1.1)\n",
      "Requirement already satisfied: pathy>=0.10.0 in e:\\anaconda\\lib\\site-packages (from spacy) (0.10.1)\n",
      "Requirement already satisfied: pydantic!=1.8,!=1.8.1,<1.11.0,>=1.7.4 in e:\\anaconda\\lib\\site-packages (from spacy) (1.10.5)\n",
      "Requirement already satisfied: requests<3.0.0,>=2.13.0 in e:\\anaconda\\lib\\site-packages (from spacy) (2.28.1)\n",
      "Requirement already satisfied: smart-open<7.0.0,>=5.2.1 in e:\\anaconda\\lib\\site-packages (from spacy) (5.2.1)\n",
      "Requirement already satisfied: tqdm<5.0.0,>=4.38.0 in e:\\anaconda\\lib\\site-packages (from spacy) (4.64.1)\n",
      "Requirement already satisfied: thinc<8.2.0,>=8.1.8 in e:\\anaconda\\lib\\site-packages (from spacy) (8.1.10)\n",
      "Requirement already satisfied: pyparsing!=3.0.5,>=2.0.2 in e:\\anaconda\\lib\\site-packages (from packaging>=20.0->spacy) (3.0.9)\n",
      "Requirement already satisfied: typing-extensions>=4.2.0 in e:\\anaconda\\lib\\site-packages (from pydantic!=1.8,!=1.8.1,<1.11.0,>=1.7.4->spacy) (4.3.0)\n",
      "Requirement already satisfied: idna<4,>=2.5 in e:\\anaconda\\lib\\site-packages (from requests<3.0.0,>=2.13.0->spacy) (3.3)\n",
      "Requirement already satisfied: urllib3<1.27,>=1.21.1 in e:\\anaconda\\lib\\site-packages (from requests<3.0.0,>=2.13.0->spacy) (1.26.11)\n",
      "Requirement already satisfied: certifi>=2017.4.17 in e:\\anaconda\\lib\\site-packages (from requests<3.0.0,>=2.13.0->spacy) (2022.9.14)\n",
      "Requirement already satisfied: charset-normalizer<3,>=2 in e:\\anaconda\\lib\\site-packages (from requests<3.0.0,>=2.13.0->spacy) (2.0.4)\n",
      "Requirement already satisfied: confection<1.0.0,>=0.0.1 in e:\\anaconda\\lib\\site-packages (from thinc<8.2.0,>=8.1.8->spacy) (0.0.4)\n",
      "Requirement already satisfied: blis<0.8.0,>=0.7.8 in e:\\anaconda\\lib\\site-packages (from thinc<8.2.0,>=8.1.8->spacy) (0.7.9)\n",
      "Requirement already satisfied: colorama in e:\\anaconda\\lib\\site-packages (from tqdm<5.0.0,>=4.38.0->spacy) (0.4.6)\n",
      "Requirement already satisfied: click<9.0.0,>=7.1.1 in e:\\anaconda\\lib\\site-packages (from typer<0.8.0,>=0.3.0->spacy) (8.0.4)\n",
      "Requirement already satisfied: MarkupSafe>=0.23 in e:\\anaconda\\lib\\site-packages (from jinja2->spacy) (2.0.1)\n",
      "Los párrafos son los componentes básicos de los trabajos. Muchos estudiantes definen los párrafos en términos de longitud: un párrafo es un grupo de al menos cinco oraciones, un párrafo tiene media página, etc. Sin embargo, en realidad, la unidad y la coherencia de ideas entre oraciones es lo que constituye un párrafo. Un párrafo se define como \"un grupo de oraciones o una sola oración que forma una unidad\" (Lunsford y Connors 116). La longitud y la apariencia no determinan si una sección en un documento es un párrafo.\n",
      "Por ejemplo, en algunos estilos de escritura, particularmente estilos periodísticos, un párrafo puede ser\n",
      "solo una oración larga. En última instancia, un párrafo es una oración o un grupo de oraciones.\n",
      "que apoyan una idea principal. En este folleto, nos referiremos a esto como la \"idea controladora\".\n",
      "porque controla lo que sucede en el\n",
      "resto del párrafo\n",
      "['Los', 'párrafos', 'son', 'los', 'componentes', 'básicos', 'de', 'los', 'trabajos', '.', 'Muchos', 'estudiantes', 'definen', 'los', 'párrafos', 'en', 'términos', 'de', 'longitud', ':', 'un', 'párrafo', 'es', 'un', 'grupo', 'de', 'al', 'menos', 'cinco', 'oraciones', ',', 'un', 'párrafo', 'tiene', 'media', 'página', ',', 'etc.', 'Sin', 'embargo', ',', 'en', 'realidad', ',', 'la', 'unidad', 'y', 'la', 'coherencia', 'de', 'ideas', 'entre', 'oraciones', 'es', 'lo', 'que', 'constituye', 'un', 'párrafo', '.', 'Un', 'párrafo', 'se', 'define', 'como', '\"', 'un', 'grupo', 'de', 'oraciones', 'o', 'una', 'sola', 'oración', 'que', 'forma', 'una', 'unidad', '\"', '(', 'Lunsford', 'y', 'Connors', '116', ')', '.', 'La', 'longitud', 'y', 'la', 'apariencia', 'no', 'determinan', 'si', 'una', 'sección', 'en', 'un', 'documento', 'es', 'un', 'párrafo', '.', '\\n', 'Por', 'ejemplo', ',', 'en', 'algunos', 'estilos', 'de', 'escritura', ',', 'particularmente', 'estilos', 'periodísticos', ',', 'un', 'párrafo', 'puede', 'ser', '\\n', 'solo', 'una', 'oración', 'larga', '.', 'En', 'última', 'instancia', ',', 'un', 'párrafo', 'es', 'una', 'oración', 'o', 'un', 'grupo', 'de', 'oraciones', '.', '\\n', 'que', 'apoyan', 'una', 'idea', 'principal', '.', 'En', 'este', 'folleto', ',', 'nos', 'referiremos', 'a', 'esto', 'como', 'la', '\"', 'idea', 'controladora', '\"', '.', '\\n', 'porque', 'controla', 'lo', 'que', 'sucede', 'en', 'el', '\\n', 'resto', 'del', 'párrafo']\n"
     ]
    }
   ],
   "source": [
    "# tokenizing the  text using the spacy\n",
    "# it is good is the text is not in the englisk language\n",
    "!pip install spacy\n",
    "from spacy.lang.es import Spanish\n",
    "spac = Spanish()\n",
    "text_spanish=\"\"\"Los párrafos son los componentes básicos de los trabajos. Muchos estudiantes definen los párrafos en términos de longitud: un párrafo es un grupo de al menos cinco oraciones, un párrafo tiene media página, etc. Sin embargo, en realidad, la unidad y la coherencia de ideas entre oraciones es lo que constituye un párrafo. Un párrafo se define como \"un grupo de oraciones o una sola oración que forma una unidad\" (Lunsford y Connors 116). La longitud y la apariencia no determinan si una sección en un documento es un párrafo.\n",
    "Por ejemplo, en algunos estilos de escritura, particularmente estilos periodísticos, un párrafo puede ser\n",
    "solo una oración larga. En última instancia, un párrafo es una oración o un grupo de oraciones.\n",
    "que apoyan una idea principal. En este folleto, nos referiremos a esto como la \"idea controladora\".\n",
    "porque controla lo que sucede en el\n",
    "resto del párrafo\"\"\"\n",
    "\n",
    "doc=spac(text_spanish)\n",
    "tokens = [token.text for token in doc]\n",
    "print(doc)\n",
    "print(tokens)"
   ]
  },
  {
   "cell_type": "code",
   "execution_count": 8,
   "id": "e2ceeb13",
   "metadata": {},
   "outputs": [
    {
     "name": "stdout",
     "output_type": "stream",
     "text": [
      "['Paragraphs', 'are', 'the', 'building', 'blocks', 'of', 'papers', 'Many', 'students', 'define', 'paragraphs', 'in', 'terms', 'of', 'length', 'a', 'paragraph', 'is', 'a', 'group', 'of', 'at', 'least', 'five', 'sentences', 'a', 'paragraph', 'is', 'half', 'a', 'page', 'long', 'etc', 'In', 'reality', 'though', 'the', 'unity', 'and', 'coherence', 'of', 'ideas', 'among', 'sentences', 'is', 'what', 'constitutes', 'a', 'paragraph', 'A', 'paragraph', 'is', 'defined', 'as', 'a', 'group', 'of', 'sentences', 'or', 'a', 'single', 'sentence', 'that', 'forms', 'a', 'unit', 'Lunsford', 'and', 'Connors', 'Length', 'and', 'appearance', 'do', 'not', 'determine', 'whether', 'a', 'section', 'in', 'a', 'paper', 'is', 'a', 'paragraph', 'For', 'instance', 'in', 'some', 'styles', 'of', 'writing', 'particularly', 'journalistic', 'styles', 'a', 'paragraph', 'can', 'be', 'just', 'one', 'sentence', 'long', 'Ultimately', 'a', 'paragraph', 'is', 'a', 'sentence', 'or', 'group', 'of', 'sentences', 'that', 'support', 'one', 'main', 'idea', 'In', 'this', 'handout', 'we', 'will', 'refer', 'to', 'this', 'as', 'the', 'controlling', 'idea', 'because', 'it', 'controls', 'what', 'happens', 'in', 'the', 'rest', 'of', 'the', 'paragraph']\n"
     ]
    }
   ],
   "source": [
    "# Tokenization using the gensim\n",
    "from gensim.utils import tokenize\n",
    "print(list(tokenize(text)))"
   ]
  },
  {
   "cell_type": "code",
   "execution_count": 9,
   "id": "4297005a",
   "metadata": {},
   "outputs": [],
   "source": [
    "# removing the stopword usi ng the nltk "
   ]
  },
  {
   "cell_type": "code",
   "execution_count": 10,
   "id": "9a4f91c6",
   "metadata": {},
   "outputs": [
    {
     "name": "stderr",
     "output_type": "stream",
     "text": [
      "[nltk_data] Error loading sopwords: Package 'sopwords' not found in\n",
      "[nltk_data]     index\n"
     ]
    }
   ],
   "source": [
    "import nltk \n",
    "nltk.download('sopwords')\n",
    "from nltk.corpus import stopwords"
   ]
  },
  {
   "cell_type": "code",
   "execution_count": 11,
   "id": "e27ef154",
   "metadata": {},
   "outputs": [
    {
     "name": "stdout",
     "output_type": "stream",
     "text": [
      "['i', 'me', 'my', 'myself', 'we', 'our', 'ours', 'ourselves', 'you', \"you're\", \"you've\", \"you'll\", \"you'd\", 'your', 'yours', 'yourself', 'yourselves', 'he', 'him', 'his', 'himself', 'she', \"she's\", 'her', 'hers', 'herself', 'it', \"it's\", 'its', 'itself', 'they', 'them', 'their', 'theirs', 'themselves', 'what', 'which', 'who', 'whom', 'this', 'that', \"that'll\", 'these', 'those', 'am', 'is', 'are', 'was', 'were', 'be', 'been', 'being', 'have', 'has', 'had', 'having', 'do', 'does', 'did', 'doing', 'a', 'an', 'the', 'and', 'but', 'if', 'or', 'because', 'as', 'until', 'while', 'of', 'at', 'by', 'for', 'with', 'about', 'against', 'between', 'into', 'through', 'during', 'before', 'after', 'above', 'below', 'to', 'from', 'up', 'down', 'in', 'out', 'on', 'off', 'over', 'under', 'again', 'further', 'then', 'once', 'here', 'there', 'when', 'where', 'why', 'how', 'all', 'any', 'both', 'each', 'few', 'more', 'most', 'other', 'some', 'such', 'no', 'nor', 'not', 'only', 'own', 'same', 'so', 'than', 'too', 'very', 's', 't', 'can', 'will', 'just', 'don', \"don't\", 'should', \"should've\", 'now', 'd', 'll', 'm', 'o', 're', 've', 'y', 'ain', 'aren', \"aren't\", 'couldn', \"couldn't\", 'didn', \"didn't\", 'doesn', \"doesn't\", 'hadn', \"hadn't\", 'hasn', \"hasn't\", 'haven', \"haven't\", 'isn', \"isn't\", 'ma', 'mightn', \"mightn't\", 'mustn', \"mustn't\", 'needn', \"needn't\", 'shan', \"shan't\", 'shouldn', \"shouldn't\", 'wasn', \"wasn't\", 'weren', \"weren't\", 'won', \"won't\", 'wouldn', \"wouldn't\"]\n"
     ]
    }
   ],
   "source": [
    "sw_nltk=stopwords.words('english')\n",
    "print(sw_nltk)"
   ]
  },
  {
   "cell_type": "code",
   "execution_count": 12,
   "id": "4d9a95d8",
   "metadata": {},
   "outputs": [
    {
     "data": {
      "text/plain": [
       "179"
      ]
     },
     "execution_count": 12,
     "metadata": {},
     "output_type": "execute_result"
    }
   ],
   "source": [
    "len(sw_nltk)"
   ]
  },
  {
   "cell_type": "code",
   "execution_count": 13,
   "id": "955eeab8",
   "metadata": {},
   "outputs": [],
   "source": [
    "text2=\"\"\"particularly journalistic styles, a paragraph can be \n",
    "just one sentence long. Ultimately, a paragraph is a sentence or group of sentences \n",
    "that \"\"\""
   ]
  },
  {
   "cell_type": "code",
   "execution_count": 24,
   "id": "6e63a360",
   "metadata": {},
   "outputs": [
    {
     "name": "stdout",
     "output_type": "stream",
     "text": [
      "particularly journalistic styles, paragraph one sentence long. Ultimately, paragraph sentence group sentences\n"
     ]
    }
   ],
   "source": [
    "words=[word for word in text2.split() if word.lower() not in sw_nltk]\n",
    "new_text=' '.join(words)\n",
    "print(new_text)"
   ]
  },
  {
   "cell_type": "code",
   "execution_count": 23,
   "id": "5ab10ee0",
   "metadata": {},
   "outputs": [
    {
     "name": "stdout",
     "output_type": "stream",
     "text": [
      "Paragraphs are the building blocks of papers. Many students define paragraphs in terms of length: a paragraph is a group of at least five sentences, a paragraph is half a page long, etc. In reality, though, the unity and coherence of ideas among sentences is what constitutes a paragraph. A paragraph is defined as “a group of sentences or a single sentence that forms a unit” (Lunsford and Connors 116). Length and appearance do not determine whether a section in a paper is a paragraph. For instance, in some styles of writing, particularly journalistic styles, a paragraph can be just one sentence long. Ultimately, a paragraph is a sentence or group of sentences that support one main idea. In this handout, we will refer to this as the “controlling idea,” because it controls what happens in the rest of the paragraph.\n"
     ]
    }
   ],
   "source": [
    "words=text.split()\n",
    "for word in words:\n",
    "    if word not in sw_nltk:\n",
    "        new_text=' '.join(words)\n",
    "print(new_text) \n"
   ]
  },
  {
   "cell_type": "code",
   "execution_count": 30,
   "id": "792236ec",
   "metadata": {},
   "outputs": [
    {
     "ename": "OSError",
     "evalue": "[E050] Can't find model 'en_core_web_sm'. It doesn't seem to be a Python package or a valid path to a data directory.",
     "output_type": "error",
     "traceback": [
      "\u001b[1;31m---------------------------------------------------------------------------\u001b[0m",
      "\u001b[1;31mOSError\u001b[0m                                   Traceback (most recent call last)",
      "\u001b[1;32m~\\AppData\\Local\\Temp\\ipykernel_7812\\3474298439.py\u001b[0m in \u001b[0;36m<module>\u001b[1;34m\u001b[0m\n\u001b[0;32m      1\u001b[0m \u001b[1;31m# Removing the stopword using the spaCy\u001b[0m\u001b[1;33m\u001b[0m\u001b[1;33m\u001b[0m\u001b[0m\n\u001b[0;32m      2\u001b[0m \u001b[1;32mimport\u001b[0m \u001b[0mspacy\u001b[0m\u001b[1;33m\u001b[0m\u001b[1;33m\u001b[0m\u001b[0m\n\u001b[1;32m----> 3\u001b[1;33m \u001b[0men\u001b[0m \u001b[1;33m=\u001b[0m \u001b[0mspacy\u001b[0m\u001b[1;33m.\u001b[0m\u001b[0mload\u001b[0m\u001b[1;33m(\u001b[0m\u001b[1;34m'en_core_web_sm'\u001b[0m\u001b[1;33m)\u001b[0m\u001b[1;33m\u001b[0m\u001b[1;33m\u001b[0m\u001b[0m\n\u001b[0m\u001b[0;32m      4\u001b[0m \u001b[0msw_spacy\u001b[0m\u001b[1;33m=\u001b[0m\u001b[0men\u001b[0m\u001b[1;33m.\u001b[0m\u001b[0mDefaults\u001b[0m\u001b[1;33m.\u001b[0m\u001b[0mstop_words\u001b[0m\u001b[1;33m\u001b[0m\u001b[1;33m\u001b[0m\u001b[0m\n\u001b[0;32m      5\u001b[0m \u001b[0mprint\u001b[0m\u001b[1;33m(\u001b[0m\u001b[0msw_spacy\u001b[0m\u001b[1;33m)\u001b[0m\u001b[1;33m\u001b[0m\u001b[1;33m\u001b[0m\u001b[0m\n",
      "\u001b[1;32mE:\\Anaconda\\lib\\site-packages\\spacy\\__init__.py\u001b[0m in \u001b[0;36mload\u001b[1;34m(name, vocab, disable, enable, exclude, config)\u001b[0m\n\u001b[0;32m     52\u001b[0m     \u001b[0mRETURNS\u001b[0m \u001b[1;33m(\u001b[0m\u001b[0mLanguage\u001b[0m\u001b[1;33m)\u001b[0m\u001b[1;33m:\u001b[0m \u001b[0mThe\u001b[0m \u001b[0mloaded\u001b[0m \u001b[0mnlp\u001b[0m \u001b[0mobject\u001b[0m\u001b[1;33m.\u001b[0m\u001b[1;33m\u001b[0m\u001b[1;33m\u001b[0m\u001b[0m\n\u001b[0;32m     53\u001b[0m     \"\"\"\n\u001b[1;32m---> 54\u001b[1;33m     return util.load_model(\n\u001b[0m\u001b[0;32m     55\u001b[0m         \u001b[0mname\u001b[0m\u001b[1;33m,\u001b[0m\u001b[1;33m\u001b[0m\u001b[1;33m\u001b[0m\u001b[0m\n\u001b[0;32m     56\u001b[0m         \u001b[0mvocab\u001b[0m\u001b[1;33m=\u001b[0m\u001b[0mvocab\u001b[0m\u001b[1;33m,\u001b[0m\u001b[1;33m\u001b[0m\u001b[1;33m\u001b[0m\u001b[0m\n",
      "\u001b[1;32mE:\\Anaconda\\lib\\site-packages\\spacy\\util.py\u001b[0m in \u001b[0;36mload_model\u001b[1;34m(name, vocab, disable, enable, exclude, config)\u001b[0m\n\u001b[0;32m    447\u001b[0m     \u001b[1;32mif\u001b[0m \u001b[0mname\u001b[0m \u001b[1;32min\u001b[0m \u001b[0mOLD_MODEL_SHORTCUTS\u001b[0m\u001b[1;33m:\u001b[0m\u001b[1;33m\u001b[0m\u001b[1;33m\u001b[0m\u001b[0m\n\u001b[0;32m    448\u001b[0m         \u001b[1;32mraise\u001b[0m \u001b[0mIOError\u001b[0m\u001b[1;33m(\u001b[0m\u001b[0mErrors\u001b[0m\u001b[1;33m.\u001b[0m\u001b[0mE941\u001b[0m\u001b[1;33m.\u001b[0m\u001b[0mformat\u001b[0m\u001b[1;33m(\u001b[0m\u001b[0mname\u001b[0m\u001b[1;33m=\u001b[0m\u001b[0mname\u001b[0m\u001b[1;33m,\u001b[0m \u001b[0mfull\u001b[0m\u001b[1;33m=\u001b[0m\u001b[0mOLD_MODEL_SHORTCUTS\u001b[0m\u001b[1;33m[\u001b[0m\u001b[0mname\u001b[0m\u001b[1;33m]\u001b[0m\u001b[1;33m)\u001b[0m\u001b[1;33m)\u001b[0m  \u001b[1;31m# type: ignore[index]\u001b[0m\u001b[1;33m\u001b[0m\u001b[1;33m\u001b[0m\u001b[0m\n\u001b[1;32m--> 449\u001b[1;33m     \u001b[1;32mraise\u001b[0m \u001b[0mIOError\u001b[0m\u001b[1;33m(\u001b[0m\u001b[0mErrors\u001b[0m\u001b[1;33m.\u001b[0m\u001b[0mE050\u001b[0m\u001b[1;33m.\u001b[0m\u001b[0mformat\u001b[0m\u001b[1;33m(\u001b[0m\u001b[0mname\u001b[0m\u001b[1;33m=\u001b[0m\u001b[0mname\u001b[0m\u001b[1;33m)\u001b[0m\u001b[1;33m)\u001b[0m\u001b[1;33m\u001b[0m\u001b[1;33m\u001b[0m\u001b[0m\n\u001b[0m\u001b[0;32m    450\u001b[0m \u001b[1;33m\u001b[0m\u001b[0m\n\u001b[0;32m    451\u001b[0m \u001b[1;33m\u001b[0m\u001b[0m\n",
      "\u001b[1;31mOSError\u001b[0m: [E050] Can't find model 'en_core_web_sm'. It doesn't seem to be a Python package or a valid path to a data directory."
     ]
    }
   ],
   "source": [
    "# Removing the stopword using the spaCy\n",
    "import spacy\n",
    "en = spacy.load('en_core_web_sm')\n",
    "sw_spacy=en.Defaults.stop_words\n",
    "print(sw_spacy)\n",
    "\n",
    "print(len(sw_spacy))\n",
    "\n",
    "words=[word for word in text2.split() if word.lower() not in sw_spacy]\n",
    "new_text=' '.join(words)\n",
    "print(new_text)"
   ]
  },
  {
   "cell_type": "code",
   "execution_count": 29,
   "id": "9ea38712",
   "metadata": {},
   "outputs": [
    {
     "name": "stdout",
     "output_type": "stream",
     "text": [
      "frozenset({'will', 'doing', 'same', 'under', 'they', 'then', 'so', 'that', 'who', 'otherwise', 'thus', 'another', 'during', 'empty', 'against', 'also', 'been', 'noone', 'done', 'might', 'afterwards', 'only', 'other', 'ever', 'here', 'latter', 'between', 'within', 'whither', 'hers', 'now', 'do', 'ie', 'them', 'out', 'than', 'does', 'must', 'our', 'much', 'de', 'sometime', 'take', 'amoungst', 'by', 'please', 'formerly', 'computer', 'thence', 'nevertheless', 'among', 'keep', 'but', 'have', 'off', 'thereby', 'a', 'less', 'three', 'what', 'per', 'no', 'co', 'yourself', 'besides', 'part', 'his', 'should', 'when', 'inc', 'namely', 'whether', 'bill', 'both', 'themselves', 'him', 'already', 'amongst', 'until', 'ten', 'at', 'one', 'behind', 'never', 'therein', 'each', 'anyhow', 'neither', 'although', 'due', 'all', 'beyond', 'something', 'again', 'cry', 'or', 'even', 'she', 'if', 'forty', 'almost', 'someone', 'whereas', 'can', 'third', 'hereby', 'seem', 'onto', 'ourselves', 'once', 'itself', 'its', 'don', 'etc', 'eleven', 'latterly', 'cannot', 'not', 'via', 'alone', 'call', 'con', 'into', 'thereafter', 'describe', 'along', 'while', 'becomes', 'didn', 'it', 'across', 'sixty', 'bottom', 'everyone', 'nobody', 'moreover', 'top', 'did', 'throughout', 'hasnt', 'very', 'and', 'nothing', 'anyway', 'beforehand', 'was', 'amount', 'sometimes', 'whereupon', 'least', 'of', 'however', 'he', 'had', 'go', 'am', 'mostly', 'six', 'quite', 'else', 'seemed', 'through', 'fifty', 'detail', 'towards', 'her', 'unless', 'which', 'hundred', 'next', 'get', 'before', 'around', 'four', 'about', 'because', 'everything', 'found', 'few', 'serious', 'those', 'move', 'may', 'whole', 'nine', 'herself', 'herein', 'me', 'would', 'has', 'eight', 'make', 'became', 'sincere', 'nowhere', 'fill', 'twelve', 'everywhere', 'wherein', 'after', 'anywhere', 're', 'become', 'since', 'thin', 'above', 'first', 'from', 'therefore', 'are', 'others', 'for', 'yours', 'in', 'whereby', 'the', 'many', 'wherever', 'being', 'whereafter', 'several', 'we', 'full', 'un', 'just', 'kg', 'whence', 'my', 'always', 'mill', 'really', 'whom', 'on', 'system', 'toward', 'give', 'any', 'fire', 'km', 'twenty', 'ours', 'yet', 'these', 'your', 'myself', 'without', 'say', 'anything', 'hereupon', 'front', 'thru', 'most', 'over', 'either', 'down', 'whose', 'perhaps', 'some', 'cant', 'whenever', 'last', 'upon', 'where', 'an', 'well', 'made', 'every', 'this', 'yourselves', 'becoming', 'how', 'still', 'whatever', 'too', 'often', 'anyone', 'ltd', 'why', 'seeming', 'be', 'to', 'as', 'thereupon', 'seems', 'whoever', 'various', 'further', 'more', 'himself', 'except', 'their', 'meanwhile', 'two', 'interest', 'somehow', 'is', 'see', 'hereafter', 'side', 'five', 'mine', 'elsewhere', 'none', 'were', 'name', 'such', 'enough', 'rather', 'you', 'though', 'used', 'below', 'using', 'regarding', 'nor', 'find', 'thick', 'show', 'doesn', 'somewhere', 'own', 'with', 'could', 'couldnt', 'eg', 'there', 'up', 'beside', 'fifteen', 'hence', 'former', 'back', 'us', 'i', 'indeed', 'put', 'together'})\n",
      "337\n",
      "particularly journalistic styles, paragraph sentence long. Ultimately, paragraph sentence group sentences\n"
     ]
    }
   ],
   "source": [
    "import gensim\n",
    "from gensim.parsing.preprocessing import remove_stopwords,STOPWORDS\n",
    "print(STOPWORDS)\n",
    "\n",
    "print(len(STOPWORDS))\n",
    "\n",
    "new_text=remove_stopwords(text2)\n",
    "print(new_text)"
   ]
  },
  {
   "cell_type": "code",
   "execution_count": null,
   "id": "36944895",
   "metadata": {},
   "outputs": [],
   "source": []
  },
  {
   "cell_type": "code",
   "execution_count": 32,
   "id": "bf714455",
   "metadata": {},
   "outputs": [
    {
     "name": "stdout",
     "output_type": "stream",
     "text": [
      "frozenset({'will', 'same', 'under', 'they', 'then', 'so', 'that', 'who', 'otherwise', 'another', 'thus', 'during', 'empty', 'against', 'also', 'been', 'noone', 'done', 'might', 'afterwards', 'only', 'other', 'ever', 'here', 'latter', 'between', 'within', 'whither', 'hers', 'now', 'do', 'ie', 'them', 'out', 'than', 'must', 'our', 'much', 'de', 'sometime', 'amoungst', 'take', 'by', 'please', 'formerly', 'nevertheless', 'thence', 'among', 'but', 'keep', 'have', 'off', 'thereby', 'a', 'less', 'three', 'what', 'per', 'no', 'besides', 'co', 'yourself', 'part', 'his', 'should', 'when', 'inc', 'namely', 'whether', 'bill', 'both', 'themselves', 'already', 'him', 'amongst', 'until', 'ten', 'at', 'one', 'behind', 'never', 'therein', 'each', 'anyhow', 'neither', 'although', 'due', 'all', 'beyond', 'something', 'again', 'cry', 'or', 'even', 'she', 'if', 'forty', 'almost', 'someone', 'whereas', 'can', 'third', 'hereby', 'seem', 'onto', 'ourselves', 'once', 'itself', 'its', 'etc', 'eleven', 'latterly', 'cannot', 'not', 'via', 'alone', 'call', 'con', 'into', 'thereafter', 'describe', 'along', 'while', 'becomes', 'it', 'across', 'sixty', 'bottom', 'everyone', 'nobody', 'moreover', 'top', 'throughout', 'hasnt', 'very', 'and', 'nothing', 'anyway', 'beforehand', 'was', 'amount', 'sometimes', 'whereupon', 'least', 'of', 'however', 'he', 'had', 'go', 'am', 'mostly', 'six', 'else', 'seemed', 'through', 'fifty', 'detail', 'towards', 'her', 'which', 'hundred', 'next', 'get', 'before', 'around', 'four', 'about', 'because', 'everything', 'found', 'few', 'serious', 'those', 'may', 'move', 'whole', 'nine', 'herself', 'herein', 'me', 'would', 'has', 'eight', 'became', 'sincere', 'nowhere', 'fill', 'twelve', 'everywhere', 'wherein', 'after', 'anywhere', 're', 'become', 'since', 'thin', 'above', 'first', 'from', 'therefore', 'are', 'others', 'for', 'yours', 'in', 'whereby', 'the', 'many', 'wherever', 'being', 'whereafter', 'several', 'we', 'full', 'un', 'whence', 'my', 'always', 'mill', 'whom', 'on', 'system', 'give', 'toward', 'any', 'fire', 'twenty', 'ours', 'yet', 'these', 'your', 'myself', 'without', 'anything', 'hereupon', 'front', 'thru', 'most', 'over', 'either', 'down', 'whose', 'perhaps', 'some', 'cant', 'whenever', 'last', 'upon', 'where', 'an', 'well', 'made', 'every', 'this', 'yourselves', 'becoming', 'how', 'still', 'whatever', 'too', 'often', 'anyone', 'ltd', 'why', 'be', 'seeming', 'to', 'as', 'seems', 'thereupon', 'whoever', 'further', 'himself', 'more', 'except', 'their', 'meanwhile', 'two', 'interest', 'somehow', 'is', 'see', 'hereafter', 'side', 'five', 'elsewhere', 'mine', 'none', 'were', 'name', 'such', 'enough', 'rather', 'you', 'though', 'below', 'nor', 'find', 'thick', 'show', 'somewhere', 'own', 'with', 'could', 'couldnt', 'eg', 'there', 'up', 'beside', 'fifteen', 'hence', 'former', 'back', 'us', 'i', 'indeed', 'put', 'together'})\n",
      "318\n",
      "particularly journalistic styles, paragraph just sentence long. Ultimately, paragraph sentence group sentences\n"
     ]
    }
   ],
   "source": [
    "# Removing the stopwrods using the Sklearn \n",
    "from sklearn.feature_extraction.text import ENGLISH_STOP_WORDS\n",
    "print(ENGLISH_STOP_WORDS)\n",
    "print(len(ENGLISH_STOP_WORDS))\n",
    "\n",
    "\n",
    "words=[word for word in text2.split() if word.lower() not in ENGLISH_STOP_WORDS]\n",
    "new_text=' '.join(words)\n",
    "print(new_text)"
   ]
  },
  {
   "cell_type": "code",
   "execution_count": null,
   "id": "f9da1c1b",
   "metadata": {},
   "outputs": [],
   "source": []
  },
  {
   "cell_type": "code",
   "execution_count": 34,
   "id": "85bf8e58",
   "metadata": {},
   "outputs": [
    {
     "name": "stdout",
     "output_type": "stream",
     "text": [
      "182\n"
     ]
    }
   ],
   "source": [
    "# Adding the Own custome Stopword\n",
    "sw_nltk.extend(['first','second','third'])\n",
    "print(len(sw_nltk))"
   ]
  },
  {
   "cell_type": "code",
   "execution_count": 37,
   "id": "2435d0f2",
   "metadata": {},
   "outputs": [
    {
     "name": "stdout",
     "output_type": "stream",
     "text": [
      "182\n"
     ]
    }
   ],
   "source": [
    "print(len(sw_nltk))"
   ]
  },
  {
   "cell_type": "code",
   "execution_count": 38,
   "id": "a7e047dd",
   "metadata": {},
   "outputs": [
    {
     "name": "stdout",
     "output_type": "stream",
     "text": [
      "181\n"
     ]
    }
   ],
   "source": [
    "# Removing the stpwords in the existing stopwords\n",
    "sw_nltk.remove('not')\n",
    "print(len(sw_nltk))\n",
    "\n"
   ]
  },
  {
   "cell_type": "code",
   "execution_count": 40,
   "id": "35e37578",
   "metadata": {},
   "outputs": [
    {
     "ename": "TypeError",
     "evalue": "list.remove() takes exactly one argument (2 given)",
     "output_type": "error",
     "traceback": [
      "\u001b[1;31m---------------------------------------------------------------------------\u001b[0m",
      "\u001b[1;31mTypeError\u001b[0m                                 Traceback (most recent call last)",
      "\u001b[1;32m~\\AppData\\Local\\Temp\\ipykernel_7812\\2236195988.py\u001b[0m in \u001b[0;36m<module>\u001b[1;34m\u001b[0m\n\u001b[1;32m----> 1\u001b[1;33m \u001b[0msw_nltk\u001b[0m\u001b[1;33m.\u001b[0m\u001b[0mremove\u001b[0m\u001b[1;33m(\u001b[0m\u001b[1;34m'is'\u001b[0m\u001b[1;33m,\u001b[0m\u001b[1;34m'first'\u001b[0m\u001b[1;33m)\u001b[0m\u001b[1;33m\u001b[0m\u001b[1;33m\u001b[0m\u001b[0m\n\u001b[0m\u001b[0;32m      2\u001b[0m \u001b[0mprint\u001b[0m\u001b[1;33m(\u001b[0m\u001b[0mlen\u001b[0m\u001b[1;33m(\u001b[0m\u001b[0msw_nltk\u001b[0m\u001b[1;33m)\u001b[0m\u001b[1;33m)\u001b[0m\u001b[1;33m\u001b[0m\u001b[1;33m\u001b[0m\u001b[0m\n",
      "\u001b[1;31mTypeError\u001b[0m: list.remove() takes exactly one argument (2 given)"
     ]
    }
   ],
   "source": [
    "sw_nltk.remove('is','first') #show error not allowed like that \n",
    "print(len(sw_nltk))"
   ]
  },
  {
   "cell_type": "code",
   "execution_count": null,
   "id": "b1a6eda4",
   "metadata": {},
   "outputs": [],
   "source": []
  }
 ],
 "metadata": {
  "kernelspec": {
   "display_name": "Python 3 (ipykernel)",
   "language": "python",
   "name": "python3"
  },
  "language_info": {
   "codemirror_mode": {
    "name": "ipython",
    "version": 3
   },
   "file_extension": ".py",
   "mimetype": "text/x-python",
   "name": "python",
   "nbconvert_exporter": "python",
   "pygments_lexer": "ipython3",
   "version": "3.9.13"
  }
 },
 "nbformat": 4,
 "nbformat_minor": 5
}

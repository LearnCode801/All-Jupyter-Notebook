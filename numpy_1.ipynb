{
 "cells": [
  {
   "cell_type": "code",
   "execution_count": null,
   "id": "7f5853a7",
   "metadata": {},
   "outputs": [],
   "source": []
  },
  {
   "cell_type": "code",
   "execution_count": 4,
   "id": "a44f47f3",
   "metadata": {},
   "outputs": [
    {
     "name": "stdout",
     "output_type": "stream",
     "text": [
      "enter the length of array :6\n",
      "enter the value in myarry[0] :11\n",
      "enter the value in myarry[1] :12\n",
      "enter the value in myarry[2] :13\n",
      "enter the value in myarry[3] :14\n",
      "enter the value in myarry[4] :15\n",
      "enter the value in myarry[5] :16\n"
     ]
    },
    {
     "data": {
      "text/plain": [
       "array([11, 12, 13, 14, 15, 16])"
      ]
     },
     "execution_count": 4,
     "metadata": {},
     "output_type": "execute_result"
    }
   ],
   "source": [
    "import numpy as  np\n",
    "a=[1,2,3,4,5,6]\n",
    "myarr=np.array(a)\n",
    "\n",
    "n=int(input(\"enter the length of array :\"))\n",
    "for i in range(n):\n",
    "    myarr[i]=int(input(\"enter the value in myarry[\" + str(i) +\"] :\"))\n",
    "    \n",
    "    \n",
    "myarr    "
   ]
  },
  {
   "cell_type": "markdown",
   "id": "be317300",
   "metadata": {},
   "source": []
  },
  {
   "cell_type": "code",
   "execution_count": 5,
   "id": "a642166e",
   "metadata": {},
   "outputs": [],
   "source": [
    "del myarr\n",
    "\n"
   ]
  },
  {
   "cell_type": "code",
   "execution_count": 18,
   "id": "c414aef0",
   "metadata": {},
   "outputs": [
    {
     "name": "stdout",
     "output_type": "stream",
     "text": [
      "enter the size of list:11\n",
      "enter the element in the 0:0\n",
      "enter the element in the 1:1\n",
      "enter the element in the 2:2\n",
      "enter the element in the 3:3\n",
      "enter the element in the 4:4\n",
      "enter the element in the 5:5\n",
      "enter the element in the 6:6\n",
      "enter the element in the 7:7\n",
      "enter the element in the 8:8\n",
      "enter the element in the 9:9\n",
      "enter the element in the 10:10\n"
     ]
    },
    {
     "data": {
      "text/plain": [
       "array([5, 6, 7, 8])"
      ]
     },
     "execution_count": 18,
     "metadata": {},
     "output_type": "execute_result"
    }
   ],
   "source": [
    "l=[]\n",
    "\n",
    "\n",
    "n=int(input(\"enter the size of list:\"))\n",
    "for i in range(n):\n",
    "    a=int(input(\"enter the element in the {}:\".format(i)))\n",
    "    l.append(a)\n",
    "  \n",
    "arr=np.array(l)\n",
    "arr[5:9]"
   ]
  },
  {
   "cell_type": "markdown",
   "id": "d5e0440e",
   "metadata": {},
   "source": [
    "# import numpy as np\n",
    "\n",
    "rows=int(input(\"enter number of rows:\"))\n",
    "\n",
    "cols=int(input(\"enter the number of column\"))\n",
    "\n",
    "a=[[],[]]\n",
    "myarray=np.array"
   ]
  },
  {
   "cell_type": "code",
   "execution_count": 32,
   "id": "e58ec466",
   "metadata": {},
   "outputs": [
    {
     "data": {
      "text/plain": [
       "array([[1., 0.],\n",
       "       [0., 1.],\n",
       "       [0., 0.]])"
      ]
     },
     "execution_count": 32,
     "metadata": {},
     "output_type": "execute_result"
    }
   ],
   "source": [
    "import numpy as np\n",
    "a=np.eye(3,2)\n",
    "a"
   ]
  },
  {
   "cell_type": "code",
   "execution_count": 41,
   "id": "10fbad28",
   "metadata": {},
   "outputs": [
    {
     "data": {
      "text/plain": [
       "array([[1., 0.],\n",
       "       [0., 1.],\n",
       "       [0., 0.]])"
      ]
     },
     "execution_count": 41,
     "metadata": {},
     "output_type": "execute_result"
    }
   ],
   "source": [
    "import numpy as np\n",
    "a=np.eye(3,2)\n",
    "a"
   ]
  },
  {
   "cell_type": "code",
   "execution_count": 39,
   "id": "d3bd18d6",
   "metadata": {},
   "outputs": [
    {
     "data": {
      "text/plain": [
       "array([[1., 1., 1.],\n",
       "       [1., 1., 1.]])"
      ]
     },
     "execution_count": 39,
     "metadata": {},
     "output_type": "execute_result"
    }
   ],
   "source": [
    "import numpy as np\n",
    "a=np.ones((2,3))\n",
    "a"
   ]
  },
  {
   "cell_type": "code",
   "execution_count": 40,
   "id": "25bb3e55",
   "metadata": {},
   "outputs": [
    {
     "data": {
      "text/plain": [
       "array([[0., 0., 0., 0.],\n",
       "       [0., 0., 0., 0.]])"
      ]
     },
     "execution_count": 40,
     "metadata": {},
     "output_type": "execute_result"
    }
   ],
   "source": [
    "import numpy as np\n",
    "a=np.zeros((2,4))\n",
    "a"
   ]
  },
  {
   "cell_type": "code",
   "execution_count": 42,
   "id": "a9682f3d",
   "metadata": {},
   "outputs": [
    {
     "data": {
      "text/plain": [
       "array([[5, 0, 0, 0, 0],\n",
       "       [0, 6, 0, 0, 0],\n",
       "       [0, 0, 7, 0, 0],\n",
       "       [0, 0, 0, 4, 0],\n",
       "       [0, 0, 0, 0, 3]])"
      ]
     },
     "execution_count": 42,
     "metadata": {},
     "output_type": "execute_result"
    }
   ],
   "source": [
    "import numpy as np\n",
    "a=np.diag([5,6,7,4,3])\n",
    "a"
   ]
  },
  {
   "cell_type": "code",
   "execution_count": 45,
   "id": "7177d183",
   "metadata": {},
   "outputs": [
    {
     "data": {
      "text/plain": [
       "array([5, 6, 7, 4, 3])"
      ]
     },
     "execution_count": 45,
     "metadata": {},
     "output_type": "execute_result"
    }
   ],
   "source": [
    "import numpy as np\n",
    "b=np.diag(a)\n",
    "b"
   ]
  },
  {
   "cell_type": "code",
   "execution_count": 87,
   "id": "ede4ce3d",
   "metadata": {},
   "outputs": [
    {
     "data": {
      "text/plain": [
       "3"
      ]
     },
     "execution_count": 87,
     "metadata": {},
     "output_type": "execute_result"
    }
   ],
   "source": [
    "import numpy as np\n",
    "a=np.random.randint(1,4)\n",
    "a"
   ]
  },
  {
   "cell_type": "code",
   "execution_count": 90,
   "id": "2d477ba4",
   "metadata": {},
   "outputs": [
    {
     "data": {
      "text/plain": [
       "array([[1, 1, 1, 1]])"
      ]
     },
     "execution_count": 90,
     "metadata": {},
     "output_type": "execute_result"
    }
   ],
   "source": [
    "import numpy as np\n",
    "a=np.random.randint(1,2,(1,4))\n",
    "a"
   ]
  },
  {
   "cell_type": "code",
   "execution_count": 109,
   "id": "a13ab402",
   "metadata": {},
   "outputs": [
    {
     "data": {
      "text/plain": [
       "array([0.62280307, 0.85430323, 0.63377864])"
      ]
     },
     "execution_count": 109,
     "metadata": {},
     "output_type": "execute_result"
    }
   ],
   "source": [
    "import numpy as np\n",
    "a=np.random.rand(3)\n",
    "a"
   ]
  },
  {
   "cell_type": "code",
   "execution_count": 121,
   "id": "ee5c8a1d",
   "metadata": {},
   "outputs": [
    {
     "data": {
      "text/plain": [
       "array([[0.08726522, 0.42936585, 0.24677145, 0.93716598, 0.28186197],\n",
       "       [0.28486635, 0.67638071, 0.42012846, 0.75321407, 0.07638199],\n",
       "       [0.39467987, 0.06795345, 0.85256299, 0.94043961, 0.17937681]])"
      ]
     },
     "execution_count": 121,
     "metadata": {},
     "output_type": "execute_result"
    }
   ],
   "source": [
    "import numpy as np\n",
    "a=np.random.rand(3,5)\n",
    "a"
   ]
  },
  {
   "cell_type": "code",
   "execution_count": 108,
   "id": "79389844",
   "metadata": {},
   "outputs": [
    {
     "data": {
      "text/plain": [
       "array([1, 6, 6, 1])"
      ]
     },
     "execution_count": 108,
     "metadata": {},
     "output_type": "execute_result"
    }
   ],
   "source": [
    "import numpy as np\n",
    "a=np.random.randint(1,7,4)\n",
    "a"
   ]
  },
  {
   "cell_type": "code",
   "execution_count": 119,
   "id": "486bff18",
   "metadata": {},
   "outputs": [
    {
     "data": {
      "text/plain": [
       "array([[[ 1.07609478e-02, -3.72008768e-01,  1.02705948e+00],\n",
       "        [ 6.41420712e-01, -2.99921179e-01,  9.60923353e-02],\n",
       "        [-7.13644971e-01,  1.62587925e+00, -1.02792959e+00],\n",
       "        [-2.32659382e+00, -3.14215038e-01, -1.04181567e-01],\n",
       "        [ 3.93721675e-01, -4.12586389e-01,  1.11461594e+00]],\n",
       "\n",
       "       [[-5.00161773e-01, -8.14339722e-02,  1.01427165e+00],\n",
       "        [ 1.39154279e-01, -2.71787769e-01, -8.51918204e-01],\n",
       "        [ 1.90377766e-01,  9.91689763e-01,  4.70246611e-01],\n",
       "        [-1.09960119e+00,  3.35319280e-01, -6.61989424e-01],\n",
       "        [ 4.95623857e-01, -1.50027034e+00,  3.43437632e-01]],\n",
       "\n",
       "       [[-2.31125661e-01,  1.22943180e+00,  6.84711773e-01],\n",
       "        [ 1.30178930e-01, -2.07358558e+00, -9.64592120e-01],\n",
       "        [-9.15777404e-01, -1.36911095e+00,  1.04796752e-01],\n",
       "        [-5.60753690e-02, -2.76085782e-01, -1.05603269e-01],\n",
       "        [-2.02056843e-01, -3.92222693e-01, -1.60156552e-01]],\n",
       "\n",
       "       [[-1.02941541e-01,  2.98144732e-01, -1.30883242e+00],\n",
       "        [ 5.11522397e-01,  7.41811946e-01,  1.79563096e+00],\n",
       "        [-6.78867340e-01, -1.26625211e+00,  1.35965380e+00],\n",
       "        [ 1.53984623e-01, -1.21032494e-01,  1.40921420e+00],\n",
       "        [-1.32865090e+00,  6.75215626e-01,  1.33898795e+00]],\n",
       "\n",
       "       [[-2.38560796e-01,  1.09003090e+00,  3.98313474e-02],\n",
       "        [ 2.80005078e-01,  5.21876101e-01,  6.62515260e-01],\n",
       "        [ 1.59714585e+00,  1.09909776e+00, -1.60354089e-01],\n",
       "        [-3.55003251e-04, -5.54132974e-01,  4.53619784e-01],\n",
       "        [ 4.01653411e-01, -1.14981905e+00,  1.06527995e+00]]])"
      ]
     },
     "execution_count": 119,
     "metadata": {},
     "output_type": "execute_result"
    }
   ],
   "source": [
    "import numpy as np\n",
    "a=np.random.randn(5,5,3)\n",
    "a"
   ]
  },
  {
   "cell_type": "code",
   "execution_count": 120,
   "id": "e68a5fac",
   "metadata": {},
   "outputs": [
    {
     "data": {
      "text/plain": [
       "array([[[ 1.07609478e-02, -3.72008768e-01,  1.02705948e+00],\n",
       "        [ 6.41420712e-01, -2.99921179e-01,  9.60923353e-02],\n",
       "        [-7.13644971e-01,  1.62587925e+00, -1.02792959e+00],\n",
       "        [-2.32659382e+00, -3.14215038e-01, -1.04181567e-01],\n",
       "        [ 3.93721675e-01, -4.12586389e-01,  1.11461594e+00]],\n",
       "\n",
       "       [[-5.00161773e-01, -8.14339722e-02,  1.01427165e+00],\n",
       "        [ 1.39154279e-01, -2.71787769e-01, -8.51918204e-01],\n",
       "        [ 1.90377766e-01,  9.91689763e-01,  4.70246611e-01],\n",
       "        [-1.09960119e+00,  3.35319280e-01, -6.61989424e-01],\n",
       "        [ 4.95623857e-01, -1.50027034e+00,  3.43437632e-01]],\n",
       "\n",
       "       [[-2.31125661e-01,  1.22943180e+00,  6.84711773e-01],\n",
       "        [ 1.30178930e-01, -2.07358558e+00, -9.64592120e-01],\n",
       "        [-9.15777404e-01, -1.36911095e+00,  1.04796752e-01],\n",
       "        [-5.60753690e-02, -2.76085782e-01, -1.05603269e-01],\n",
       "        [-2.02056843e-01, -3.92222693e-01, -1.60156552e-01]],\n",
       "\n",
       "       [[-1.02941541e-01,  2.98144732e-01, -1.30883242e+00],\n",
       "        [ 5.11522397e-01,  7.41811946e-01,  1.79563096e+00],\n",
       "        [-6.78867340e-01, -1.26625211e+00,  1.35965380e+00],\n",
       "        [ 1.53984623e-01, -1.21032494e-01,  1.40921420e+00],\n",
       "        [-1.32865090e+00,  6.75215626e-01,  1.33898795e+00]],\n",
       "\n",
       "       [[-2.38560796e-01,  1.09003090e+00,  3.98313474e-02],\n",
       "        [ 2.80005078e-01,  5.21876101e-01,  6.62515260e-01],\n",
       "        [ 1.59714585e+00,  1.09909776e+00, -1.60354089e-01],\n",
       "        [-3.55003251e-04, -5.54132974e-01,  4.53619784e-01],\n",
       "        [ 4.01653411e-01, -1.14981905e+00,  1.06527995e+00]]])"
      ]
     },
     "execution_count": 120,
     "metadata": {},
     "output_type": "execute_result"
    }
   ],
   "source": []
  },
  {
   "cell_type": "code",
   "execution_count": 124,
   "id": "b82e89ba",
   "metadata": {},
   "outputs": [
    {
     "data": {
      "text/plain": [
       "array([28, 31, 43, 13, 11])"
      ]
     },
     "execution_count": 124,
     "metadata": {},
     "output_type": "execute_result"
    }
   ],
   "source": [
    "import numpy as np\n",
    "c=np.random.randint(1,100,5)\n",
    "c"
   ]
  },
  {
   "cell_type": "code",
   "execution_count": 152,
   "id": "c1518456",
   "metadata": {},
   "outputs": [
    {
     "name": "stdout",
     "output_type": "stream",
     "text": [
      "0 -> 28\n",
      "1 -> 31\n",
      "2 -> 43\n",
      "3 -> 13\n",
      "4 -> 11\n"
     ]
    }
   ],
   "source": [
    "for i in range(c.size):\n",
    "    print(str(i),end=\" -> \")\n",
    "    print(c[i])"
   ]
  },
  {
   "cell_type": "code",
   "execution_count": 158,
   "id": "0f104918",
   "metadata": {},
   "outputs": [
    {
     "data": {
      "text/plain": [
       "array([28, 31, 43, 13, 11])"
      ]
     },
     "execution_count": 158,
     "metadata": {},
     "output_type": "execute_result"
    }
   ],
   "source": [
    "c[-17:]"
   ]
  },
  {
   "cell_type": "code",
   "execution_count": 160,
   "id": "113fbba8",
   "metadata": {},
   "outputs": [
    {
     "data": {
      "text/plain": [
       "array([ 2, 11, 13,  5, 11,  9, 13,  9, 14, 10, 14,  7,  4, 12, 13,  1, 13,\n",
       "        4,  9, 11])"
      ]
     },
     "execution_count": 160,
     "metadata": {},
     "output_type": "execute_result"
    }
   ],
   "source": [
    "import numpy as np\n",
    "a=np.random.randint(1,15,20)\n",
    "a"
   ]
  },
  {
   "cell_type": "code",
   "execution_count": 175,
   "id": "b452de38",
   "metadata": {},
   "outputs": [
    {
     "data": {
      "text/plain": [
       "array([[ 2, 11, 13,  5, 11],\n",
       "       [ 9, 13,  9, 14, 10],\n",
       "       [14,  7,  4, 12, 13],\n",
       "       [ 1, 13,  4,  9, 11]])"
      ]
     },
     "execution_count": 175,
     "metadata": {},
     "output_type": "execute_result"
    }
   ],
   "source": [
    "a.resize((4,5))\n",
    "a"
   ]
  },
  {
   "cell_type": "code",
   "execution_count": 176,
   "id": "00fc4be3",
   "metadata": {},
   "outputs": [],
   "source": [
    "a=a.reshape((2,10))"
   ]
  },
  {
   "cell_type": "code",
   "execution_count": 177,
   "id": "1180ccd0",
   "metadata": {},
   "outputs": [
    {
     "data": {
      "text/plain": [
       "array([[ 2, 11, 13,  5, 11,  9, 13,  9, 14, 10],\n",
       "       [14,  7,  4, 12, 13,  1, 13,  4,  9, 11]])"
      ]
     },
     "execution_count": 177,
     "metadata": {},
     "output_type": "execute_result"
    }
   ],
   "source": [
    "a"
   ]
  },
  {
   "cell_type": "code",
   "execution_count": 179,
   "id": "53d64e25",
   "metadata": {},
   "outputs": [],
   "source": [
    "a=a.reshape(20)"
   ]
  },
  {
   "cell_type": "code",
   "execution_count": 180,
   "id": "a2db1759",
   "metadata": {},
   "outputs": [
    {
     "data": {
      "text/plain": [
       "array([ 2, 11, 13,  5, 11,  9, 13,  9, 14, 10, 14,  7,  4, 12, 13,  1, 13,\n",
       "        4,  9, 11])"
      ]
     },
     "execution_count": 180,
     "metadata": {},
     "output_type": "execute_result"
    }
   ],
   "source": [
    "a"
   ]
  },
  {
   "cell_type": "code",
   "execution_count": 185,
   "id": "14720bf5",
   "metadata": {},
   "outputs": [
    {
     "data": {
      "text/plain": [
       "array([[ 2, 11, 13,  5],\n",
       "       [11,  9, 13,  9],\n",
       "       [14, 10, 14,  7],\n",
       "       [ 4, 12, 13,  1],\n",
       "       [13,  4,  9, 11]])"
      ]
     },
     "execution_count": 185,
     "metadata": {},
     "output_type": "execute_result"
    }
   ],
   "source": [
    "a=a.reshape((5,-1))\n",
    "a"
   ]
  },
  {
   "cell_type": "code",
   "execution_count": 186,
   "id": "5a55f05b",
   "metadata": {},
   "outputs": [
    {
     "data": {
      "text/plain": [
       "2"
      ]
     },
     "execution_count": 186,
     "metadata": {},
     "output_type": "execute_result"
    }
   ],
   "source": [
    "a.ndim"
   ]
  },
  {
   "cell_type": "code",
   "execution_count": 188,
   "id": "987e654e",
   "metadata": {},
   "outputs": [
    {
     "data": {
      "text/plain": [
       "array([91, 16, 96, 29, 91, 10, 21, 76, 23, 72, 35, 97])"
      ]
     },
     "execution_count": 188,
     "metadata": {},
     "output_type": "execute_result"
    }
   ],
   "source": [
    "# Seed function is used to fixed the ramdom genrated values by the rand function\n",
    "import numpy as np\n",
    "np.random.seed(20)\n",
    "arr1=np.random.randint(1,100,12)\n",
    "arr1"
   ]
  },
  {
   "cell_type": "code",
   "execution_count": 189,
   "id": "ea335978",
   "metadata": {},
   "outputs": [
    {
     "data": {
      "text/plain": [
       "array([41, 86, 91, 27, 84, 17, 63, 17,  8, 99,  7, 27])"
      ]
     },
     "execution_count": 189,
     "metadata": {},
     "output_type": "execute_result"
    }
   ],
   "source": [
    "arr1=np.random.randint(1,100,12)\n",
    "arr1"
   ]
  },
  {
   "cell_type": "code",
   "execution_count": 190,
   "id": "92ad7801",
   "metadata": {},
   "outputs": [
    {
     "data": {
      "text/plain": [
       "array([14, 76, 59, 26,  4, 75, 76, 62, 78, 84, 58, 95])"
      ]
     },
     "execution_count": 190,
     "metadata": {},
     "output_type": "execute_result"
    }
   ],
   "source": [
    "arr1=np.random.randint(1,100,12)\n",
    "arr1"
   ]
  },
  {
   "cell_type": "code",
   "execution_count": 211,
   "id": "2575de06",
   "metadata": {},
   "outputs": [
    {
     "name": "stdout",
     "output_type": "stream",
     "text": [
      "enter the number of rows3\n",
      "enter the number of columns3\n",
      "enter the value at the location of :arr[0][0]\n",
      "1\n",
      "enter the value at the location of :arr[0][1]\n",
      "2\n",
      "enter the value at the location of :arr[0][2]\n",
      "3\n",
      "0 row completed fill\n",
      "enter the value at the location of :arr[1][0]\n",
      "4\n",
      "enter the value at the location of :arr[1][1]\n",
      "5\n",
      "enter the value at the location of :arr[1][2]\n",
      "6\n",
      "1 row completed fill\n",
      "enter the value at the location of :arr[2][0]\n",
      "7\n",
      "enter the value at the location of :arr[2][1]\n",
      "8\n",
      "enter the value at the location of :arr[2][2]\n",
      "9\n",
      "2 row completed fill\n",
      "1,1     2,2     3,3     \n",
      "4,4     5,5     6,6     \n",
      "7,7     8,8     9,9     \n"
     ]
    }
   ],
   "source": [
    "\n",
    "row=int(input(\"enter the number of rows\"))\n",
    "col=int(input(\"enter the number of columns\"))\n",
    "\n",
    "matrix=[]\n",
    "for i in range(row):\n",
    "    temp=[]\n",
    "    for j in range(col):\n",
    "        print(\"enter the value at the location of :arr[\"+ str(i)+\"][\"+str(j) +\"]\")\n",
    "        n=int(input())\n",
    "        temp.append(n)\n",
    "        \n",
    "    print(str(i)+\" row completed fill\")\n",
    "    matrix.append(temp)\n",
    "    \n",
    "matrix=np.array(matrix) \n",
    "#matrix\n",
    "for i in range(row):\n",
    "    for j in range(col):\n",
    "        print(matrix[i,j],end=\",\")\n",
    "        print(matrix[i][j],end=\"     \")\n",
    "    print()        "
   ]
  },
  {
   "cell_type": "code",
   "execution_count": 209,
   "id": "fb9fe55a",
   "metadata": {},
   "outputs": [
    {
     "data": {
      "text/plain": [
       "numpy.ndarray"
      ]
     },
     "execution_count": 209,
     "metadata": {},
     "output_type": "execute_result"
    }
   ],
   "source": [
    "type(matrix)"
   ]
  },
  {
   "cell_type": "code",
   "execution_count": 212,
   "id": "56a31a35",
   "metadata": {},
   "outputs": [
    {
     "data": {
      "text/plain": [
       "array([[1, 2, 3],\n",
       "       [4, 5, 6],\n",
       "       [7, 8, 9]])"
      ]
     },
     "execution_count": 212,
     "metadata": {},
     "output_type": "execute_result"
    }
   ],
   "source": [
    "matrix"
   ]
  },
  {
   "cell_type": "code",
   "execution_count": 223,
   "id": "e1ae7beb",
   "metadata": {},
   "outputs": [
    {
     "data": {
      "text/plain": [
       "array([[2, 3],\n",
       "       [5, 6]])"
      ]
     },
     "execution_count": 223,
     "metadata": {},
     "output_type": "execute_result"
    }
   ],
   "source": [
    "a=matrix[:2,1:3]\n",
    "a"
   ]
  },
  {
   "cell_type": "code",
   "execution_count": 225,
   "id": "ee6ab359",
   "metadata": {},
   "outputs": [
    {
     "data": {
      "text/plain": [
       "array([[ 8, 12],\n",
       "       [20, 24]])"
      ]
     },
     "execution_count": 225,
     "metadata": {},
     "output_type": "execute_result"
    }
   ],
   "source": [
    "a=a*2\n",
    "a"
   ]
  },
  {
   "cell_type": "code",
   "execution_count": 226,
   "id": "f244d31e",
   "metadata": {},
   "outputs": [
    {
     "data": {
      "text/plain": [
       "array([[1, 2, 3],\n",
       "       [4, 5, 6],\n",
       "       [7, 8, 9]])"
      ]
     },
     "execution_count": 226,
     "metadata": {},
     "output_type": "execute_result"
    }
   ],
   "source": [
    "matrix"
   ]
  },
  {
   "cell_type": "code",
   "execution_count": 229,
   "id": "1f8aeb5d",
   "metadata": {},
   "outputs": [
    {
     "data": {
      "text/plain": [
       "array([0, 0, 0])"
      ]
     },
     "execution_count": 229,
     "metadata": {},
     "output_type": "execute_result"
    }
   ],
   "source": [
    "t1=np.array([10,20,30,40,50,60,70,80])\n",
    "t2=t1[2:5]\n",
    "t2[:]=0\n",
    "t2\n",
    "t1"
   ]
  },
  {
   "cell_type": "code",
   "execution_count": 230,
   "id": "58eb7c76",
   "metadata": {},
   "outputs": [
    {
     "data": {
      "text/plain": [
       "array([10, 20,  0,  0,  0, 60, 70, 80])"
      ]
     },
     "execution_count": 230,
     "metadata": {},
     "output_type": "execute_result"
    }
   ],
   "source": [
    "t1"
   ]
  },
  {
   "cell_type": "code",
   "execution_count": 231,
   "id": "3a0da489",
   "metadata": {},
   "outputs": [
    {
     "data": {
      "text/plain": [
       "array([[1, 2, 3],\n",
       "       [4, 5, 6],\n",
       "       [7, 8, 9]])"
      ]
     },
     "execution_count": 231,
     "metadata": {},
     "output_type": "execute_result"
    }
   ],
   "source": [
    "matrix"
   ]
  },
  {
   "cell_type": "code",
   "execution_count": 232,
   "id": "33212705",
   "metadata": {},
   "outputs": [
    {
     "data": {
      "text/plain": [
       "array([[5, 6],\n",
       "       [8, 9]])"
      ]
     },
     "execution_count": 232,
     "metadata": {},
     "output_type": "execute_result"
    }
   ],
   "source": [
    "slicing=matrix[1:,1:]\n",
    "slicing"
   ]
  },
  {
   "cell_type": "code",
   "execution_count": 235,
   "id": "07f53994",
   "metadata": {},
   "outputs": [
    {
     "data": {
      "text/plain": [
       "array([[20, 24],\n",
       "       [32, 36]])"
      ]
     },
     "execution_count": 235,
     "metadata": {},
     "output_type": "execute_result"
    }
   ],
   "source": [
    "slicing=slicing*2\n",
    "slicing"
   ]
  },
  {
   "cell_type": "code",
   "execution_count": 236,
   "id": "8becfe2c",
   "metadata": {},
   "outputs": [
    {
     "data": {
      "text/plain": [
       "array([[ 1,  2,  3],\n",
       "       [ 4, 10, 12],\n",
       "       [ 7, 16, 18]])"
      ]
     },
     "execution_count": 236,
     "metadata": {},
     "output_type": "execute_result"
    }
   ],
   "source": [
    "matrix"
   ]
  },
  {
   "cell_type": "code",
   "execution_count": 237,
   "id": "cb718a65",
   "metadata": {},
   "outputs": [],
   "source": [
    "# by using the copy() the changinh in the slicing part would not reflecting with the orginal array/matrix\n",
    "# by default mode is view() is used the original would change "
   ]
  },
  {
   "cell_type": "code",
   "execution_count": 248,
   "id": "d1f77115",
   "metadata": {},
   "outputs": [
    {
     "data": {
      "text/plain": [
       "array([ 10,  20,  30,   0,   0,   0,   0,   0,  90, 100])"
      ]
     },
     "execution_count": 248,
     "metadata": {},
     "output_type": "execute_result"
    }
   ],
   "source": [
    "#   view --- by default \n",
    "\n",
    "t1=np.array([10,20,30,40,50,60,70,80,90,100])\n",
    "t2=t1[3:8]\n",
    "t2[:]=0\n",
    "t2\n",
    "t1"
   ]
  },
  {
   "cell_type": "code",
   "execution_count": 251,
   "id": "0f5da242",
   "metadata": {},
   "outputs": [
    {
     "data": {
      "text/plain": [
       "array([ 10,  20,  30,  40,  50,  60,  70,  80,  90, 100])"
      ]
     },
     "execution_count": 251,
     "metadata": {},
     "output_type": "execute_result"
    }
   ],
   "source": [
    "#   view --- by  explixitly \n",
    "\n",
    "t1=np.array([10,20,30,40,50,60,70,80,90,100])\n",
    "t2=t1[3:8].copy()\n",
    "t2[:]=0\n",
    "t2\n",
    "t1"
   ]
  },
  {
   "cell_type": "code",
   "execution_count": 315,
   "id": "d9e4d7dd",
   "metadata": {},
   "outputs": [
    {
     "data": {
      "text/plain": [
       "array([ 1,  2,  3,  4,  5,  6,  7,  8,  9, 10, 11, 12, 13, 14])"
      ]
     },
     "execution_count": 315,
     "metadata": {},
     "output_type": "execute_result"
    }
   ],
   "source": [
    "import numpy as np\n",
    "arr1=np.arange(1,15)\n",
    "arr1"
   ]
  },
  {
   "cell_type": "code",
   "execution_count": 316,
   "id": "59d6f115",
   "metadata": {},
   "outputs": [
    {
     "data": {
      "text/plain": [
       "array([ 6,  7,  8,  9, 10, 11, 12, 13, 14])"
      ]
     },
     "execution_count": 316,
     "metadata": {},
     "output_type": "execute_result"
    }
   ],
   "source": [
    "arr2=arr1[arr1>=6]\n",
    "arr2"
   ]
  },
  {
   "cell_type": "code",
   "execution_count": 317,
   "id": "ac3b441f",
   "metadata": {},
   "outputs": [
    {
     "data": {
      "text/plain": [
       "array([12, 14, 16, 18, 20, 22, 24, 26, 28])"
      ]
     },
     "execution_count": 317,
     "metadata": {},
     "output_type": "execute_result"
    }
   ],
   "source": [
    "arr2=arr2*2\n",
    "arr2"
   ]
  },
  {
   "cell_type": "code",
   "execution_count": 318,
   "id": "7b7b051a",
   "metadata": {},
   "outputs": [
    {
     "data": {
      "text/plain": [
       "array([ 1,  2,  3,  4,  5,  6,  7,  8,  9, 10, 11, 12, 13, 14])"
      ]
     },
     "execution_count": 318,
     "metadata": {},
     "output_type": "execute_result"
    }
   ],
   "source": [
    "arr1"
   ]
  },
  {
   "cell_type": "code",
   "execution_count": 319,
   "id": "f673d33a",
   "metadata": {},
   "outputs": [
    {
     "data": {
      "text/plain": [
       "array([12, 14, 16, 18, 20, 22, 24, 26, 28])"
      ]
     },
     "execution_count": 319,
     "metadata": {},
     "output_type": "execute_result"
    }
   ],
   "source": [
    "arr2"
   ]
  },
  {
   "cell_type": "code",
   "execution_count": 329,
   "id": "f6d7c4f0",
   "metadata": {},
   "outputs": [
    {
     "data": {
      "text/plain": [
       "array([ 9,  9,  3,  4,  5,  6,  7,  8,  9, 10, 11, 12, 13, 14])"
      ]
     },
     "execution_count": 329,
     "metadata": {},
     "output_type": "execute_result"
    }
   ],
   "source": [
    "arr1[arr1%2]=9\n",
    "arr1"
   ]
  },
  {
   "cell_type": "code",
   "execution_count": 356,
   "id": "b7244c8b",
   "metadata": {},
   "outputs": [
    {
     "data": {
      "text/plain": [
       "2.5"
      ]
     },
     "execution_count": 356,
     "metadata": {},
     "output_type": "execute_result"
    }
   ],
   "source": [
    "import numpy as np\n",
    "z=np.arange(1,5)\n",
    "np.max(z)\n",
    "np.min(z)\n",
    "np.argmin(z)\n",
    "np.argmax(z)\n",
    "np.sqrt(z)\n",
    "np.sum(z)\n",
    "np.cos(z)\n",
    "np.tan(z)\n",
    "np.sin(z)\n",
    "np.log(z)\n",
    "np.mean(z)\n",
    "np.median(z)"
   ]
  },
  {
   "cell_type": "code",
   "execution_count": 357,
   "id": "76ff8481",
   "metadata": {},
   "outputs": [
    {
     "data": {
      "text/plain": [
       "array([ 1. ,  5.5, 10. , 14.5, 19. ])"
      ]
     },
     "execution_count": 357,
     "metadata": {},
     "output_type": "execute_result"
    }
   ],
   "source": [
    "np.linspace(1,19,5)"
   ]
  },
  {
   "cell_type": "code",
   "execution_count": 367,
   "id": "5f2f668d",
   "metadata": {},
   "outputs": [
    {
     "data": {
      "text/plain": [
       "array([17, 17,  6, 11,  1])"
      ]
     },
     "execution_count": 367,
     "metadata": {},
     "output_type": "execute_result"
    }
   ],
   "source": [
    "import numpy as np\n",
    "x=np.random.randint(1,21,5)\n",
    "x"
   ]
  },
  {
   "cell_type": "code",
   "execution_count": 369,
   "id": "40741542",
   "metadata": {},
   "outputs": [
    {
     "data": {
      "text/plain": [
       "array([ 1, 17, 17, 11,  6])"
      ]
     },
     "execution_count": 369,
     "metadata": {},
     "output_type": "execute_result"
    }
   ],
   "source": [
    "np.random.shuffle(x)\n",
    "x"
   ]
  },
  {
   "cell_type": "code",
   "execution_count": 372,
   "id": "5b1056ae",
   "metadata": {},
   "outputs": [
    {
     "data": {
      "text/plain": [
       "4"
      ]
     },
     "execution_count": 372,
     "metadata": {},
     "output_type": "execute_result"
    }
   ],
   "source": [
    "y=np.unique(x).size\n",
    "y"
   ]
  },
  {
   "cell_type": "code",
   "execution_count": 371,
   "id": "73d6e8f7",
   "metadata": {},
   "outputs": [
    {
     "data": {
      "text/plain": [
       "4"
      ]
     },
     "execution_count": 371,
     "metadata": {},
     "output_type": "execute_result"
    }
   ],
   "source": [
    "np.unique(x).size"
   ]
  },
  {
   "cell_type": "code",
   "execution_count": 389,
   "id": "c9908d2c",
   "metadata": {},
   "outputs": [
    {
     "data": {
      "text/plain": [
       "array([61, 32, 71, 47, 41])"
      ]
     },
     "execution_count": 389,
     "metadata": {},
     "output_type": "execute_result"
    }
   ],
   "source": [
    "#  ----------( stacking  )--------------\n",
    "a=np.random.randint(1,100,5)\n",
    "a"
   ]
  },
  {
   "cell_type": "code",
   "execution_count": 390,
   "id": "c3dbaee4",
   "metadata": {},
   "outputs": [
    {
     "data": {
      "text/plain": [
       "array([ 1,  4, 25, 86, 26])"
      ]
     },
     "execution_count": 390,
     "metadata": {},
     "output_type": "execute_result"
    }
   ],
   "source": [
    "b=np.random.randint(1,100,5)\n",
    "b"
   ]
  },
  {
   "cell_type": "code",
   "execution_count": 391,
   "id": "894560ce",
   "metadata": {},
   "outputs": [
    {
     "data": {
      "text/plain": [
       "array([61, 32, 71, 47, 41,  1,  4, 25, 86, 26])"
      ]
     },
     "execution_count": 391,
     "metadata": {},
     "output_type": "execute_result"
    }
   ],
   "source": [
    "np.hstack((a,b))"
   ]
  },
  {
   "cell_type": "code",
   "execution_count": 392,
   "id": "a2738d53",
   "metadata": {},
   "outputs": [
    {
     "data": {
      "text/plain": [
       "array([[61, 32, 71, 47, 41],\n",
       "       [ 1,  4, 25, 86, 26]])"
      ]
     },
     "execution_count": 392,
     "metadata": {},
     "output_type": "execute_result"
    }
   ],
   "source": [
    "np.vstack((a,b))"
   ]
  },
  {
   "cell_type": "code",
   "execution_count": 395,
   "id": "d46fc912",
   "metadata": {},
   "outputs": [
    {
     "data": {
      "text/plain": [
       "array([1., 1., 1., 1.])"
      ]
     },
     "execution_count": 395,
     "metadata": {},
     "output_type": "execute_result"
    }
   ],
   "source": [
    "np.ones(4)"
   ]
  },
  {
   "cell_type": "code",
   "execution_count": null,
   "id": "8933d426",
   "metadata": {},
   "outputs": [],
   "source": []
  }
 ],
 "metadata": {
  "kernelspec": {
   "display_name": "Python 3 (ipykernel)",
   "language": "python",
   "name": "python3"
  },
  "language_info": {
   "codemirror_mode": {
    "name": "ipython",
    "version": 3
   },
   "file_extension": ".py",
   "mimetype": "text/x-python",
   "name": "python",
   "nbconvert_exporter": "python",
   "pygments_lexer": "ipython3",
   "version": "3.9.13"
  }
 },
 "nbformat": 4,
 "nbformat_minor": 5
}
